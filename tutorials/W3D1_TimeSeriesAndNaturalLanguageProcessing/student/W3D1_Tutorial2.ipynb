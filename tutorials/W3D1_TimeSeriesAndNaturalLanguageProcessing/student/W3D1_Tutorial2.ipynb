{
  "cells": [
    {
      "cell_type": "markdown",
      "metadata": {
        "id": "view-in-github",
        "colab_type": "text"
      },
      "source": [
        "<a href=\"https://colab.research.google.com/github/eftoribio/NeuromatchDL2025/blob/main/tutorials/W3D1_TimeSeriesAndNaturalLanguageProcessing/student/W3D1_Tutorial2.ipynb\" target=\"_parent\"><img src=\"https://colab.research.google.com/assets/colab-badge.svg\" alt=\"Open In Colab\"/></a>"
      ]
    },
    {
      "cell_type": "markdown",
      "metadata": {
        "execution": {},
        "id": "FlXpcoTDAFEB"
      },
      "source": [
        "# Tutorial 2: Natural Language Processing and LLMs\n",
        "\n",
        "**Week 3, Day 1: Time Series and Natural Language Processing**\n",
        "\n",
        "**By Neuromatch Academy**\n",
        "\n",
        "__Content creators:__ Lyle Ungar, Jordan Matelsky, Konrad Kording, Shaonan Wang, Alish Dipani\n",
        "\n",
        "__Content reviewers:__ Shaonan Wang, Weizhe Yuan, Dalia Nasr, Stephen Kiilu, Alish Dipani, Dora Zhiyu Yang, Adrita Das\n",
        "\n",
        "__Content editors:__ Konrad Kording, Shaonan Wang\n",
        "\n",
        "__Production editors:__ Konrad Kording, Spiros Chavlis, Konstantine Tsafatinos"
      ]
    },
    {
      "cell_type": "markdown",
      "metadata": {
        "execution": {},
        "id": "do0awgf3AFEC"
      },
      "source": [
        "---\n",
        "# Tutorial Objectives\n",
        "\n",
        "This tutorial provides a comprehensive overview of modern natural language processing (NLP). It introduces two influential NLP architectures, BERT and GPT, along with a detailed exploration of the underlying NLP pipeline. Participants will learn about the core concepts, functionalities, and applications of these architectures, as well as gain insights into prompt engineering and the current and future developments of GPT."
      ]
    },
    {
      "cell_type": "code",
      "execution_count": 1,
      "metadata": {
        "cellView": "form",
        "execution": {},
        "colab": {
          "base_uri": "https://localhost:8080/",
          "height": 518
        },
        "id": "5gLHEa3yAFED",
        "outputId": "7703d6ca-bac4-4a0c-b1c7-e12833e824e7"
      },
      "outputs": [
        {
          "output_type": "stream",
          "name": "stdout",
          "text": [
            "If you want to download the slides: https://osf.io/download/spuj8/\n"
          ]
        },
        {
          "output_type": "execute_result",
          "data": {
            "text/plain": [
              "<IPython.lib.display.IFrame at 0x791922702710>"
            ],
            "text/html": [
              "\n",
              "        <iframe\n",
              "            width=\"854\"\n",
              "            height=\"480\"\n",
              "            src=\"https://mfr.ca-1.osf.io/render?url=https://osf.io/spuj8/?direct%26mode=render%26action=download%26mode=render\"\n",
              "            frameborder=\"0\"\n",
              "            allowfullscreen\n",
              "            \n",
              "        ></iframe>\n",
              "        "
            ]
          },
          "metadata": {},
          "execution_count": 1
        }
      ],
      "source": [
        "# @title Tutorial slides\n",
        "from IPython.display import IFrame\n",
        "link_id = \"spuj8\"\n",
        "print(f\"If you want to download the slides: https://osf.io/download/{link_id}/\")\n",
        "IFrame(src=f\"https://mfr.ca-1.osf.io/render?url=https://osf.io/{link_id}/?direct%26mode=render%26action=download%26mode=render\", width=854, height=480)"
      ]
    },
    {
      "cell_type": "markdown",
      "metadata": {
        "execution": {},
        "id": "-zWBhcSoAFED"
      },
      "source": [
        "---\n",
        "# Setup"
      ]
    },
    {
      "cell_type": "code",
      "execution_count": 2,
      "metadata": {
        "cellView": "form",
        "execution": {},
        "id": "sneO7vKfAFEE"
      },
      "outputs": [],
      "source": [
        "# @title Install dependencies\n",
        "# @markdown **WARNING**: There may be *errors* and/or *warnings* reported during the installation. However, they are to be ignored.\n",
        "!pip install typing_extensions --quiet\n",
        "!pip install accelerate --quiet\n",
        "!pip install datasets --quiet\n",
        "!pip install evaluate --quiet"
      ]
    },
    {
      "cell_type": "code",
      "execution_count": 3,
      "metadata": {
        "cellView": "form",
        "execution": {},
        "id": "oBBrqn7gAFEE"
      },
      "outputs": [],
      "source": [
        "# @title Install and import feedback gadget\n",
        "\n",
        "!pip3 install vibecheck datatops --quiet\n",
        "\n",
        "from vibecheck import DatatopsContentReviewContainer\n",
        "def content_review(notebook_section: str):\n",
        "    return DatatopsContentReviewContainer(\n",
        "        \"\",  # No text prompt\n",
        "        notebook_section,\n",
        "        {\n",
        "            \"url\": \"https://pmyvdlilci.execute-api.us-east-1.amazonaws.com/klab\",\n",
        "            \"name\": \"neuromatch_dl\",\n",
        "            \"user_key\": \"f379rz8y\",\n",
        "        },\n",
        "    ).render()\n",
        "\n",
        "\n",
        "feedback_prefix = \"W3D1_T2\""
      ]
    },
    {
      "cell_type": "code",
      "execution_count": 4,
      "metadata": {
        "cellView": "both",
        "execution": {},
        "id": "EMBV__IBAFEF"
      },
      "outputs": [],
      "source": [
        "# Imports\n",
        "import random\n",
        "import numpy as np\n",
        "from typing import Iterable, List\n",
        "from tqdm.notebook import tqdm\n",
        "from typing import Dict\n",
        "\n",
        "import torch\n",
        "import torch.nn as nn\n",
        "import torch.nn.functional as F\n",
        "from torch.utils.data import DataLoader, Dataset\n",
        "from tokenizers import Tokenizer, Regex, models, normalizers, pre_tokenizers, trainers, processors"
      ]
    },
    {
      "cell_type": "code",
      "execution_count": 5,
      "metadata": {
        "cellView": "form",
        "execution": {},
        "colab": {
          "base_uri": "https://localhost:8080/"
        },
        "id": "m7h4YZMJAFEF",
        "outputId": "867e9369-1b39-4bce-eab5-aa1f3127937e"
      },
      "outputs": [
        {
          "output_type": "stream",
          "name": "stdout",
          "text": [
            "Random seed 2023 has been set.\n"
          ]
        }
      ],
      "source": [
        "# @title Set random seed\n",
        "\n",
        "# @markdown Executing `set_seed(seed=seed)` you are setting the seed\n",
        "\n",
        "# for DL its critical to set the random seed so that students can have a\n",
        "# baseline to compare their results to expected results.\n",
        "# Read more here: https://pytorch.org/docs/stable/notes/randomness.html\n",
        "\n",
        "# Call `set_seed` function in the exercises to ensure reproducibility.\n",
        "import random\n",
        "import numpy as np\n",
        "\n",
        "def set_seed(seed=None):\n",
        "  if seed is None:\n",
        "    seed = np.random.choice(2 ** 32)\n",
        "  random.seed(seed)\n",
        "  np.random.seed(seed)\n",
        "  print(f'Random seed {seed} has been set.')\n",
        "\n",
        "\n",
        "set_seed(seed=2023)  # change 2023 with any number you like"
      ]
    },
    {
      "cell_type": "code",
      "execution_count": 6,
      "metadata": {
        "cellView": "form",
        "execution": {},
        "id": "51fPQwWqAFEF"
      },
      "outputs": [],
      "source": [
        "# @title Set device (GPU or CPU). Execute `set_device()`\n",
        "\n",
        "# Inform the user if the notebook uses GPU or CPU.\n",
        "\n",
        "def set_device():\n",
        "  \"\"\"\n",
        "  Set the device. CUDA if available, CPU otherwise\n",
        "\n",
        "  Args:\n",
        "    None\n",
        "\n",
        "  Returns:\n",
        "    Nothing\n",
        "  \"\"\"\n",
        "  device = \"cuda\" if torch.cuda.is_available() else \"cpu\"\n",
        "  if device != \"cuda\":\n",
        "    print(\"WARNING: For this notebook to perform best, \"\n",
        "        \"if possible, in the menu under `Runtime` -> \"\n",
        "        \"`Change runtime type.`  select `GPU` \")\n",
        "  else:\n",
        "    print(\"GPU is enabled in this notebook.\")\n",
        "\n",
        "  return device"
      ]
    },
    {
      "cell_type": "code",
      "execution_count": 7,
      "metadata": {
        "execution": {},
        "colab": {
          "base_uri": "https://localhost:8080/"
        },
        "id": "OnqC9362AFEG",
        "outputId": "e9a243ff-dd51-4dc0-93e5-0888287b0176"
      },
      "outputs": [
        {
          "output_type": "stream",
          "name": "stdout",
          "text": [
            "GPU is enabled in this notebook.\n",
            "Random seed 2021 has been set.\n"
          ]
        }
      ],
      "source": [
        "DEVICE = set_device()\n",
        "SEED = 2021\n",
        "set_seed(seed=SEED)"
      ]
    },
    {
      "cell_type": "markdown",
      "metadata": {
        "execution": {},
        "id": "wpU-lKg4AFEG"
      },
      "source": [
        "---\n",
        "\n",
        "# Section 1: NLP architectures\n",
        "\n",
        "From RNN/LSTM to Transformers."
      ]
    },
    {
      "cell_type": "code",
      "execution_count": 8,
      "metadata": {
        "cellView": "form",
        "execution": {},
        "colab": {
          "base_uri": "https://localhost:8080/",
          "height": 580,
          "referenced_widgets": [
            "5a92c2b03c93472893b8de40dc9640d0",
            "e59088a0db934b699b443219f02f5bdc",
            "169dbaf36e6e437aa1f06cb8d26f2092",
            "6f2df29a200d448188d208c8f0da92b1",
            "a423e9fe41934548b122d43276f7d487",
            "277134e1180a4792861544ba555d5122"
          ]
        },
        "id": "4aDfuOPfAFEG",
        "outputId": "bba4518a-1ae5-4dbb-ab5f-c171e37f6b34"
      },
      "outputs": [
        {
          "output_type": "display_data",
          "data": {
            "text/plain": [
              "Tab(children=(Output(), Output()), _titles={'0': 'Youtube', '1': 'Bilibili'})"
            ],
            "application/vnd.jupyter.widget-view+json": {
              "version_major": 2,
              "version_minor": 0,
              "model_id": "5a92c2b03c93472893b8de40dc9640d0"
            }
          },
          "metadata": {}
        }
      ],
      "source": [
        "# @title Video 1: Intro to NLPs and LLMs\n",
        "from ipywidgets import widgets\n",
        "from IPython.display import YouTubeVideo\n",
        "from IPython.display import IFrame\n",
        "from IPython.display import display\n",
        "\n",
        "\n",
        "class PlayVideo(IFrame):\n",
        "  def __init__(self, id, source, page=1, width=400, height=300, **kwargs):\n",
        "    self.id = id\n",
        "    if source == 'Bilibili':\n",
        "      src = f'https://player.bilibili.com/player.html?bvid={id}&page={page}'\n",
        "    elif source == 'Osf':\n",
        "      src = f'https://mfr.ca-1.osf.io/render?url=https://osf.io/download/{id}/?direct%26mode=render'\n",
        "    super(PlayVideo, self).__init__(src, width, height, **kwargs)\n",
        "\n",
        "\n",
        "def display_videos(video_ids, W=400, H=300, fs=1):\n",
        "  tab_contents = []\n",
        "  for i, video_id in enumerate(video_ids):\n",
        "    out = widgets.Output()\n",
        "    with out:\n",
        "      if video_ids[i][0] == 'Youtube':\n",
        "        video = YouTubeVideo(id=video_ids[i][1], width=W,\n",
        "                             height=H, fs=fs, rel=0)\n",
        "        print(f'Video available at https://youtube.com/watch?v={video.id}')\n",
        "      else:\n",
        "        video = PlayVideo(id=video_ids[i][1], source=video_ids[i][0], width=W,\n",
        "                          height=H, fs=fs, autoplay=False)\n",
        "        if video_ids[i][0] == 'Bilibili':\n",
        "          print(f'Video available at https://www.bilibili.com/video/{video.id}')\n",
        "        elif video_ids[i][0] == 'Osf':\n",
        "          print(f'Video available at https://osf.io/{video.id}')\n",
        "      display(video)\n",
        "    tab_contents.append(out)\n",
        "  return tab_contents\n",
        "\n",
        "\n",
        "video_ids = [('Youtube', 'PCz527-WbxY'), ('Bilibili', 'BV15V4y1a7Xu')]\n",
        "tab_contents = display_videos(video_ids, W=854, H=480)\n",
        "tabs = widgets.Tab()\n",
        "tabs.children = tab_contents\n",
        "for i in range(len(tab_contents)):\n",
        "  tabs.set_title(i, video_ids[i][0])\n",
        "display(tabs)"
      ]
    },
    {
      "cell_type": "markdown",
      "metadata": {
        "execution": {},
        "id": "EWfA8gUbAFEH"
      },
      "source": [
        "A core principle of Natural Language Processing is embedding words as vectors. In the relevant vector space, words with similar meanings are close to one another.\n",
        "\n",
        "In classical transformer systems, a core principle is encoding and decoding. We can encode an input sequence as a vector (that implicitly codes what we just read). And we can then take this vector and decode it, e.g., as a new sentence. So a sequence-to-sequence (e.g., sentence translation) system may read a sentence (made out of words embedded in a relevant space) and encode it as an overall vector. It then takes the resulting encoding of the sentence and decodes it into a translated sentence.\n",
        "\n",
        "In modern transformer systems, such as GPT, all words are used parallelly. In that sense, the transformers generalize the encoding/decoding idea. Examples of this strategy include all the modern large language models (such as GPT)."
      ]
    },
    {
      "cell_type": "code",
      "execution_count": 9,
      "metadata": {
        "cellView": "form",
        "execution": {},
        "colab": {
          "base_uri": "https://localhost:8080/",
          "height": 62,
          "referenced_widgets": [
            "28f7190ff33b4432a0eca1d709c5a200",
            "4c1045ccac354f91a19ed67615477d49",
            "2b540465a51242149feec669833b73e8",
            "9877babae2824ee3b54a145b5276c9c8",
            "aabcf04b131a47f3996b674c8af235cc",
            "50603e423f1945b881702d203a9bc2d9",
            "b69e3f41fbb64316aea60432e5d7578f",
            "907232b6c6d1433d9c154bfd98d34d48",
            "3fdd76128b7a4e04a5e6dda191d9ba9f",
            "eb4fbbf8b22947e0bb92ebb88522ddc4",
            "ed904241e15749f5b57e90fdc746a6b1",
            "fb134dbfc7da4f1299641b9c20824b83",
            "9321003a28384fba90dbdf825b3ebd4c",
            "d577eab9ea374ad1b200dc93355b5089",
            "33803a3f82bf445d85469557bf2581ea",
            "13cfef43ae194831862452c8accca9e8",
            "62e5603120e6414890f2e29c7523aa25",
            "8803e2d223a34efa86c70fc013148a02",
            "59f1a482c4de4adfa6fd0416679a8c5b",
            "4256da25de4946cf9724cfcdb36a9715",
            "657fb1e1b8e445dd86f11c5965387293",
            "67ce244eb3224262b6214fb96dee0a7e",
            "7053a6e0a46f4f29b61624576dd025c9",
            "5ce69f87c1c94d438dab52d1450642aa",
            "d69e1ec382a2483fba83ba83f422e69f",
            "792745ba696343d798d9feeb4d697872"
          ]
        },
        "id": "VDjfsaWtAFEH",
        "outputId": "5caac8b9-cc3b-4ceb-98af-1e35994e185c"
      },
      "outputs": [
        {
          "output_type": "display_data",
          "data": {
            "text/plain": [
              "VBox(children=(VBox(children=(HBox(children=(Button(description='🙂', layout=Layout(height='auto', padding='0.5…"
            ],
            "application/vnd.jupyter.widget-view+json": {
              "version_major": 2,
              "version_minor": 0,
              "model_id": "28f7190ff33b4432a0eca1d709c5a200"
            }
          },
          "metadata": {}
        }
      ],
      "source": [
        "# @title Submit your feedback\n",
        "content_review(f\"{feedback_prefix}_Intro_to_NLPs_and_LLMs_Video\")"
      ]
    },
    {
      "cell_type": "markdown",
      "metadata": {
        "execution": {},
        "id": "jTgrfHnxAFEI"
      },
      "source": [
        "---\n",
        "# Section 2: The NLP pipeline\n",
        "\n",
        "Tokenize, pretrain, fine-tune"
      ]
    },
    {
      "cell_type": "code",
      "execution_count": 10,
      "metadata": {
        "cellView": "form",
        "execution": {},
        "colab": {
          "base_uri": "https://localhost:8080/",
          "height": 580,
          "referenced_widgets": [
            "4aa1d3141ba7413eaccf1edb80d612e8",
            "1bc28d9a48d1460185476b2566900c86",
            "67f21ac29e704a1998f7c41c783cbbcc",
            "ed1671aab63b45e1972d15ed1be07077",
            "dc99f7e3ff9c47388fc48ace29818861",
            "011462a82854470f8d8ecc30f366bc64"
          ]
        },
        "id": "fIaamF63AFEI",
        "outputId": "948b435d-2e52-4461-8365-44ac81db59c0"
      },
      "outputs": [
        {
          "output_type": "display_data",
          "data": {
            "text/plain": [
              "Tab(children=(Output(), Output()), _titles={'0': 'Youtube', '1': 'Bilibili'})"
            ],
            "application/vnd.jupyter.widget-view+json": {
              "version_major": 2,
              "version_minor": 0,
              "model_id": "4aa1d3141ba7413eaccf1edb80d612e8"
            }
          },
          "metadata": {}
        }
      ],
      "source": [
        "# @title Video 2: NLP pipeline\n",
        "from ipywidgets import widgets\n",
        "from IPython.display import YouTubeVideo\n",
        "from IPython.display import IFrame\n",
        "from IPython.display import display\n",
        "\n",
        "\n",
        "class PlayVideo(IFrame):\n",
        "  def __init__(self, id, source, page=1, width=400, height=300, **kwargs):\n",
        "    self.id = id\n",
        "    if source == 'Bilibili':\n",
        "      src = f'https://player.bilibili.com/player.html?bvid={id}&page={page}'\n",
        "    elif source == 'Osf':\n",
        "      src = f'https://mfr.ca-1.osf.io/render?url=https://osf.io/download/{id}/?direct%26mode=render'\n",
        "    super(PlayVideo, self).__init__(src, width, height, **kwargs)\n",
        "\n",
        "\n",
        "def display_videos(video_ids, W=400, H=300, fs=1):\n",
        "  tab_contents = []\n",
        "  for i, video_id in enumerate(video_ids):\n",
        "    out = widgets.Output()\n",
        "    with out:\n",
        "      if video_ids[i][0] == 'Youtube':\n",
        "        video = YouTubeVideo(id=video_ids[i][1], width=W,\n",
        "                             height=H, fs=fs, rel=0)\n",
        "        print(f'Video available at https://youtube.com/watch?v={video.id}')\n",
        "      else:\n",
        "        video = PlayVideo(id=video_ids[i][1], source=video_ids[i][0], width=W,\n",
        "                          height=H, fs=fs, autoplay=False)\n",
        "        if video_ids[i][0] == 'Bilibili':\n",
        "          print(f'Video available at https://www.bilibili.com/video/{video.id}')\n",
        "        elif video_ids[i][0] == 'Osf':\n",
        "          print(f'Video available at https://osf.io/{video.id}')\n",
        "      display(video)\n",
        "    tab_contents.append(out)\n",
        "  return tab_contents\n",
        "\n",
        "\n",
        "video_ids = [('Youtube', 'uPnTVbc4qUE'), ('Bilibili', 'BV1TM4y1E7ab')]\n",
        "tab_contents = display_videos(video_ids, W=854, H=480)\n",
        "tabs = widgets.Tab()\n",
        "tabs.children = tab_contents\n",
        "for i in range(len(tab_contents)):\n",
        "  tabs.set_title(i, video_ids[i][0])\n",
        "display(tabs)"
      ]
    },
    {
      "cell_type": "code",
      "execution_count": 11,
      "metadata": {
        "cellView": "form",
        "execution": {},
        "colab": {
          "base_uri": "https://localhost:8080/",
          "height": 62,
          "referenced_widgets": [
            "0f63a18c6f0345dea3e45a1db5fb41b5",
            "b0de1bb4bc52407ca10648740a01e63e",
            "8065be7bacb746069ba5cfc187ffb46a",
            "dc9b16b1163a416c8942aa9104ee50ab",
            "fe202636ed31415ebd8835a3f23560f2",
            "9e5dc5aaa340434eb211174c1de1a4c0",
            "c8f4393741f143a5b3018aeb4d52910f",
            "048036de84eb4b97aa56347a7902f6a5",
            "717f988b84f241699b5863cfb2da985f",
            "fd2a8f3e954346ceb47fe00da0cc57d6",
            "e71ea332564741c29f88a155dcfd5660",
            "4922ee8d37c548cdb401f1fc67743eb9",
            "bd90d3598ce3420d98ae83a7ce8f87ed",
            "5ddd7e1294ee48b882c453f76709a3f2",
            "1e30706fe7dc40d8a12ebee8d2d8e0b9",
            "4e6369d0969f4d3ea47b1142019ef85a",
            "113ed4f31c914a388029ea819135044a",
            "2c9712b41abb47c0ba5f144e05fecf02",
            "f7dd7eb471a74f2bab25723d8eff19f5",
            "e8bb63cac32f4dd5a10b0bd13fa3b269",
            "e8acc431052344b28a2e3f6852a6fe4b",
            "52713a4fcf534a6c813cfbfdc1a6b3d6",
            "2e6786dbd1dd4105864b932e96cebd91",
            "f14612f08a1946e8b5f40a8397ded01d",
            "b5bb1b9f5f094349b56ea2e53fc3b33d",
            "ff69a1c0790745adb19f3930619930b6"
          ]
        },
        "id": "yrTV3CLpAFEI",
        "outputId": "7a488de2-f59a-4829-f569-14df28641671"
      },
      "outputs": [
        {
          "output_type": "display_data",
          "data": {
            "text/plain": [
              "VBox(children=(VBox(children=(HBox(children=(Button(description='🙂', layout=Layout(height='auto', padding='0.5…"
            ],
            "application/vnd.jupyter.widget-view+json": {
              "version_major": 2,
              "version_minor": 0,
              "model_id": "0f63a18c6f0345dea3e45a1db5fb41b5"
            }
          },
          "metadata": {}
        }
      ],
      "source": [
        "# @title Submit your feedback\n",
        "content_review(f\"{feedback_prefix}_NLP_pipeline_Video\")"
      ]
    },
    {
      "cell_type": "markdown",
      "metadata": {
        "execution": {},
        "id": "7u2xKzrwAFEI"
      },
      "source": [
        "## Tokenizers\n",
        "\n",
        "Today we will practise embedding techniques, and continue our march toward large language models and transformers by discussing one of the critical developments of the modern NLP stack: **Tokenization.** Tokenizers convert inputs as a set of discrete tokens.\n",
        "\n",
        "### Learning Goals\n",
        "\n",
        "* Understand the concept of tokenization and why it is useful.\n",
        "* Learn how to write a tokenizer from scratch, taking advantage of context.\n",
        "* Get an intuition for how modern tokenizers work by playing with a few pre-trained tokenizers from industry."
      ]
    },
    {
      "cell_type": "markdown",
      "metadata": {
        "execution": {},
        "id": "10b9qI1hAFEJ"
      },
      "source": [
        "## Generating a dataset\n",
        "\n",
        "As we continue to move closer to \"production-grade\" NLP, we'll start to use industry standards such as the [HuggingFace](https://huggingface.co/) library. Huggingface is a large company that facilitates the exchange of aspects of modern deep learning systems.\n",
        "\n",
        "We'll start by generating a training dataset. `hf` has a convenient `datasets` module that allows us to download a variety of datasets, including the [Wikipedia text corpus](https://huggingface.co/datasets/wiki_text). We'll use this to generate a dataset of text from Wikipedia."
      ]
    },
    {
      "cell_type": "code",
      "source": [
        "# pip install -U datasets huggingface_hub fsspec\n",
        "# https://discuss.huggingface.co/t/valueerror-invalid-pattern-can-only-be-an-entire-path-component/80450/4"
      ],
      "metadata": {
        "id": "d7NOoOWoLpnN"
      },
      "execution_count": 12,
      "outputs": []
    },
    {
      "cell_type": "code",
      "execution_count": 18,
      "metadata": {
        "execution": {},
        "id": "DCqTWCmQAFEJ"
      },
      "outputs": [],
      "source": [
        "from datasets import load_dataset\n",
        "\n",
        "dataset = load_dataset(\"Salesforce/wikitext\", \"wikitext-103-raw-v1\", split=\"train\")\n",
        "# from datasets import load_dataset\n",
        "\n",
        "# # Specify the URL of the dataset file\n",
        "# dataset_url = \"https://huggingface.co/datasets/wikitext/resolve/main/wikitext-103-raw-v1/wiki.train.raw\"\n",
        "\n",
        "# # Load the dataset using the specific file URL\n",
        "# dataset = load_dataset(\"text\", data_files={\"train\": dataset_url}, split=\"train\")"
      ]
    },
    {
      "cell_type": "code",
      "execution_count": 19,
      "metadata": {
        "execution": {},
        "colab": {
          "base_uri": "https://localhost:8080/"
        },
        "id": "GkXWyWfGAFEJ",
        "outputId": "ac3a85dc-d308-4fcb-bd23-a1afcf5d682b"
      },
      "outputs": [
        {
          "output_type": "stream",
          "name": "stdout",
          "text": [
            "{'text': ' Gray wolves howl to assemble the pack ( usually before and after hunts ) , to pass on an alarm ( particularly at a den site ) , to locate each other during a storm or unfamiliar territory and to communicate across great distances . Wolf howls can under certain conditions be heard over areas of up to 130 km2 ( 50 sq mi ) . Wolf howls are generally indistinguishable from those of large dogs . Male wolves give voice through an octave , passing to a deep bass with a stress on \" O \" , while females produce a modulated nasal baritone with stress on \" U \" . Pups almost never howl , while yearling wolves produce howls ending in a series of dog @-@ like yelps . Howling consists of a fundamental frequency that may lie between 150 and 780 Hz , and consists of up to 12 harmonically related overtones . The pitch usually remains constant or varies smoothly , and may change direction as many as four or five times . Howls used for calling pack mates to a kill are long , smooth sounds similar to the beginning of the cry of a horned owl . When pursuing prey , they emit a higher pitched howl , vibrating on two notes . When closing in on their prey , they emit a combination of a short bark and a howl . When howling together , wolves harmonize rather than chorus on the same note , thus creating the illusion of there being more wolves than there actually are . Lone wolves typically avoid howling in areas where other packs are present . Wolves from different geographic locations may howl in different fashions : the howls of European wolves are much more protracted and melodious than those of North American wolves , whose howls are louder and have a stronger emphasis on the first syllable . The two are however mutually intelligible , as North American wolves have been recorded to respond to European @-@ style howls made by biologists . \\n'}\n"
          ]
        }
      ],
      "source": [
        "print(dataset[41492])"
      ]
    },
    {
      "cell_type": "code",
      "execution_count": 20,
      "metadata": {
        "execution": {},
        "id": "hUbPp3deAFEJ"
      },
      "outputs": [],
      "source": [
        "def generate_n_examples(dataset, n=512):\n",
        "  \"\"\"\n",
        "  Produce a generator that yields n examples at a time from the dataset.\n",
        "  \"\"\"\n",
        "  for i in range(0, len(dataset), n):\n",
        "    yield dataset[i:i + n]['text']"
      ]
    },
    {
      "cell_type": "markdown",
      "metadata": {
        "execution": {},
        "id": "5PC-wIAwAFEJ"
      },
      "source": [
        "Now we will create the actual `Tokenizer`, adhering to the [`hf.Tokenizer` protocol](https://huggingface.co/docs/transformers/main_classes/tokenizer). (Adhering to a standard protocol enables us to swap in our tokenizer for any tokenizer in the huggingface ecosystem or to apply our own tokenizer to any model in the huggingface ecosystem.)\n",
        "\n",
        "Let's sketch out the steps of writing a Tokenizer. We need to solve two problems:\n",
        "\n",
        "* Given a string, split it into a list of tokens.\n",
        "* If you don't recognize a word, still figure out a way to tokenize it!\n",
        "\n",
        "This may feel like we're reinventing our one-hot encoder with a richer vocabulary. Why is it that the One-Hot-Encoder, which outputs a vector of length $|V|$, where $|V|$ is the size of our vocabulary, is not sufficient, but a tokenizer that outputs a list of indices into a vocabulary of size $|V|$ is sufficient? The answer is that while our encoder was responsible for embedding words into a high-dimensional space, our tokenizer is NOT; the \"win\" of a tokenizer is that it breaks up a string into in-vocab elements. For certain workflows, the very next step might be adding an embedder onto the end of the tokenizer. (As we'll soon see, this is exactly the strategy employed by modern Transformer models.)\n",
        "\n",
        "Tokens will almost always be different from words; for example, we might want to split \"don't\" into \"do\" and \"n't\", or we might want to split \"don't\" into \"do\" and \"not\". Or we might even want to split \"don't\" into \"d\", \"o\", \"n\", and \"t\". We can choose any strategy we want here; **, unlike Word2Vec, our tokenizer will NOT be limited to outputting one vector per English word.** Here, we'll use an off-the-shelf subword splitter, which we discuss below."
      ]
    },
    {
      "cell_type": "code",
      "execution_count": 21,
      "metadata": {
        "execution": {},
        "id": "YZJcivuNAFEJ"
      },
      "outputs": [],
      "source": [
        "VOCAB_SIZE = 12_000"
      ]
    },
    {
      "cell_type": "code",
      "execution_count": 22,
      "metadata": {
        "execution": {},
        "id": "qoKiiazYAFEJ"
      },
      "outputs": [],
      "source": [
        "# Create a tokenizer object that uses the \"WordPiece\" model. The WorkPiece model\n",
        "# is a subword tokenizer that uses a vocabulary of common words and word pieces\n",
        "# to tokenize text. The \"unk_token\" parameter specifies the token to use for\n",
        "# unknown tokens, i.e. tokens that are not in the vocabulary. (Remember that the\n",
        "# vocabulary will be built from our dataset, so it will include subchunks of\n",
        "# English words.)\n",
        "tokenizer = Tokenizer(models.WordPiece(unk_token=\"[UNK]\"))"
      ]
    },
    {
      "cell_type": "markdown",
      "metadata": {
        "execution": {},
        "id": "XLW1MJ3gAFEJ"
      },
      "source": [
        "## Tokenizer Features\n",
        "\n",
        "Now let's start dressing up our tokenizer with some useful features. First, let's clean up the text. This process is formally called \"normalization\" and is a critical step in any NLP pipeline. We'll remove punctuation and then convert all the text to lowercase. We'll also remove diacritics (accents) from the text."
      ]
    },
    {
      "cell_type": "code",
      "execution_count": 23,
      "metadata": {
        "execution": {},
        "id": "Df3UMBZNAFEK"
      },
      "outputs": [],
      "source": [
        "# Think of a Normalizer Sequence the same way you would think of a PyTorch\n",
        "# Sequential model. It is a sequence of normalizers that are applied to the\n",
        "# text before tokenization, in the order that they are added to the sequence.\n",
        "\n",
        "tokenizer.normalizer = normalizers.Sequence([\n",
        "    normalizers.Replace(Regex(r\"[\\s]\"), \" \"), # Convert all whitespace to single space\n",
        "    normalizers.Lowercase(), # Convert all text to lowercase\n",
        "    normalizers.NFD(), # Decompose all characters into their base characters\n",
        "    normalizers.StripAccents(), # Remove all accents\n",
        "])"
      ]
    },
    {
      "cell_type": "markdown",
      "metadata": {
        "execution": {},
        "id": "TFwmc3F6AFEK"
      },
      "source": [
        "Next, we'll add a pre-tokenizer. The pre-tokenizer is applied to the text after normalizing it but before it's tokenized. The pre-tokenizer is useful for splitting text into chunks, which are easier to tokenize. For example, we can split text into chunks separated by punctuation or whitespace."
      ]
    },
    {
      "cell_type": "code",
      "execution_count": 24,
      "metadata": {
        "execution": {},
        "id": "bqAONij_AFEK"
      },
      "outputs": [],
      "source": [
        "tokenizer.pre_tokenizer = pre_tokenizers.Sequence([\n",
        "    pre_tokenizers.WhitespaceSplit(), # Split on whitespace\n",
        "    pre_tokenizers.Digits(individual_digits=True), # Split digits into individual tokens\n",
        "    pre_tokenizers.Punctuation(), # Split punctuation into individual tokens\n",
        "])"
      ]
    },
    {
      "cell_type": "markdown",
      "metadata": {
        "execution": {},
        "id": "pdSPuqchAFEK"
      },
      "source": [
        "**Note:** In practice, it is not necessary to use pre-tokenizers, but we use it for demonstration purposes. For instance, \"2-3\" is not the same as \"23\", so removing punctuation or splitting up digits or punctuation is a bad idea! Moreover, the current tokenizer is powerful enough to deal with punctuation."
      ]
    },
    {
      "cell_type": "markdown",
      "metadata": {
        "execution": {},
        "id": "mYPI-4j7AFEK"
      },
      "source": [
        "Finally, we'll train the tokenizer with our dataset. After all, we want a tokenizer that works well on this dataset. There are a few different algorithms for training tokenizers. Here are two common ones:\n",
        "\n",
        "* BPE Algorithm: Start with a vocabulary of each character in the dataset. Examine all pairs from the vocabulary and merge the pair with the highest frequency in the dataset. Repeat until the vocabulary size is reached (so \"ee\" is more likely to get merged than \"zf\" in the English corpus).\n",
        "* Top-Down WordPiece Algorithm: Generate all substrings of each word from the dataset and count occurrences in the training data. Keep any string that occurs more than a threshold number of times. Repeat this process until the vocabulary size is reached (For a more thorough explanation of this process, see [the TensorFlow Guide](https://www.tensorflow.org/text/guide/subwords_tokenizer#optional_the_algorithm))\n",
        "\n",
        "We'll use WordPiece in the next cell."
      ]
    },
    {
      "cell_type": "code",
      "execution_count": 26,
      "metadata": {
        "execution": {},
        "id": "Ro6oVtELAFEK"
      },
      "outputs": [],
      "source": [
        "tokenizer_trainer = trainers.WordPieceTrainer(\n",
        "    vocab_size=VOCAB_SIZE,\n",
        "    # We have to specify the special tokens that we want to use. These will be\n",
        "    # added to the vocabulary no matter what the vocab-building algorithm does.\n",
        "    special_tokens=[\"[PAD]\", \"[UNK]\", \"[CLS]\", \"[SEP]\", \"[MASK]\"],\n",
        "    show_progress=True,\n",
        ")"
      ]
    },
    {
      "cell_type": "markdown",
      "metadata": {
        "execution": {},
        "id": "EEMwEup8AFEK"
      },
      "source": [
        "### Special Tokens\n",
        "\n",
        "Tokenizers often have special tokens representing certain concepts such as:\n",
        "* [PAD]: Added to the end of shorter input sequences to ensure equal input length for the whole batch\n",
        "* [START]: Start of the sequence\n",
        "* [END]: End of the sequence\n",
        "* [UNK]: Unknown characters not present in the vocabulary\n",
        "* [BOS]: Beginning of sentence\n",
        "* [EOS]: End of sentence\n",
        "* [SEP]: Separation between two sentences in a sequence\n",
        "* [CLS]: Token used for classification tasks to represent the whole sequence\n",
        "* [MASK]: Used in pre-training phase for masked language modeling tasks in models like BERT"
      ]
    },
    {
      "cell_type": "markdown",
      "metadata": {
        "execution": {},
        "id": "1jt6LMl-AFEK"
      },
      "source": [
        "Those special tokens are important because it tells the WordPiece training process how to treat phrases, masks, and unknown tokens.\n",
        "\n",
        "**Note:** We can also add our own special tokens, such as `[CITE]`, to indicate when a citation is about to be used if we want to train a model to predict the presence of citations in a text. Training this will take a bit of time."
      ]
    },
    {
      "cell_type": "code",
      "execution_count": 27,
      "metadata": {
        "execution": {},
        "colab": {
          "base_uri": "https://localhost:8080/",
          "height": 273,
          "referenced_widgets": [
            "715368e744114bd5bd852e4feb8d9e26",
            "7efab690ecda4509b3d89eb0cb0521f9",
            "d83d9907f4b14962a2fc45d238c9b7c8",
            "be2171c48a1c48f69411f31ae6b300ea",
            "f1e7854b3ffb4cbbbbd01f92182b1e64",
            "352272b941c74e138d53aabd9129cf5f",
            "d255d8896bb54fac8fe31cff753c4c29",
            "cd6d7d3647404ef58ef092308af4a157",
            "093d65328e8948c1b7d54d907e4c1142",
            "ae3a3e4d7a3048a88d5c70b14819173a",
            "d10f7b218e2a421993abc8bd763c6fd8",
            "19a00bad8766421ebca2e2becf6d315d",
            "a1ede5b44cd9466c8ae53b183d47fad7",
            "421317436cf0460fad2c7dd56ab40503",
            "fd0dede342a243d0aaa92ef9cf0fa3cb",
            "53fa7b5bbf764e3ca450ee6a3ddefbc5",
            "6f995209e80543168b74f67bde6c1f95",
            "7373e72fe8ef499cb97d34d2ff0eed86",
            "07da5eb027ba4ad3b367104c27626675",
            "b3996d7a6bda4cbd978df638b029e413",
            "22fae5bf652b4d73bcb51e249fe7c66a",
            "105644097c6744e8b43f393ad13edb58",
            "bf9cfb99a3aa41bb8f0518c09355e376",
            "9a8c4dcf316e41b8bf3d45ed7aec2419",
            "180222b19bc94b37885f3d46ac1069cf",
            "e87431e037cd403f9ab8cb84e71e7c4e",
            "ea0c7895790643e7b02e273be08b3c30",
            "e9f8a532384b421583c57ba670835f76",
            "42d04382c46f4f3f85f60e51be1f9096",
            "eee3ca0500714f719ebee23a9ee4c420",
            "8ac68c45aa3346a39d7f1fa359eb02da",
            "9b66fd25dc714a48b5eb4de3a2fb180a",
            "3e0a0c49f7124c4b865c3a587bb9ebf1",
            "85e2f8f5c48749caa3223a2357dc984a",
            "1de9fe33d82244049191c329af9fa314",
            "9d308cf0e5f04898ba5f8be2e9ab43f0",
            "cbb9bd27a2084dbdadad41d9da05ba9b",
            "a0eeba0bd177460b8d59af514011e102",
            "0cbabebeb1d446aab8427d6a2b469d3d",
            "5bdc00083787459499cefc51a27c5473",
            "8e752b5b6cc947c7b62a5c83c29a7565",
            "a0a02d067be346dfa38a76339a5b7ac7",
            "bffc763ae9f1438a8fded53b9a8ef5ef",
            "e589b4ab607c45d495159f34170a196c",
            "35584b81a3b94f9ba442e8dd6117f22b",
            "ab100758f42b4b11abc3c9946cc56de8",
            "ed9f51036dce481088daa2c930161f62",
            "67ac793e3ec243798f6d655fd5f685a8",
            "74f8250b2f4544dfbde53d69071690f2",
            "fd8027e98ee44f1c91cb84dcfaee36ee",
            "c4fff0f82e6e40019a0bc24bce58cce5",
            "59a2784ebfeb4e359e0a298de5362450",
            "39ae834bb8294600887a13d910ae4419",
            "8adb5f66ef734bdfb7a005ce78fcf39a",
            "c86ce761bc7b4062b5250db6227cbd86",
            "c328310f3b9b44a7b9aecadd8fbb8b50",
            "f335ec497ebc445f964cd4afc65a7fcf",
            "665332016ed147948c3536fd07cc5c49",
            "5307f473cd92438385fcb172fade7f23",
            "584b3583e4814c05a8c4bb75e2a02588",
            "3959e44e3c2b4423b38c63607c87c985",
            "aefc6e7627154d68928f197c87132778",
            "99f62953f3484981a673098e01e6071a",
            "046f6ac0bb224a1ca161b18b1d7d47d2",
            "5ad7a1ad9a8740da8ee32727171c01e6",
            "4cc6c881b14c44f6bf46e508e888a500",
            "8a8c8ec2a4fc4c90ab17484f8060823a",
            "a0edd3df3c2c4c8eb26ab2b6b5e33e2c",
            "1901e919f4d34bb2a1bc58f4cec69479",
            "9abfcf6a88ab4fe8bddaf46c3e1aa3de",
            "650f77c60042438a9353939ffc381a4d",
            "bf941fca45ab4271974003e851cbbac2",
            "915b9fc8f65f489dab410cf0e6dd1efe",
            "bfbb9c22afea42d683111dfcdbb2ca53",
            "81f447d0a95d45468bd855877dcdb75a",
            "5fb6788151484a85be99db9fbdf335be",
            "2cd1d2b9b07641ffb2db893002232706",
            "bdaaca3c83674893bdf42d0176a27796",
            "99f9eb9bfb144372aad90a6920c7613d",
            "3f5f75018a204d80bb566db82b673b76",
            "ab661a0cb3954c238f6ecbc9f62bfec6",
            "4e1615d517aa42ae946ad164233cccdf",
            "aa99b65312294bbaa2092e991534ee83",
            "67861b5d04eb47bb89024e60c8505b11",
            "6c91dfb60997466488022f1982571f2a",
            "3b201c16261c48d597ff9586e84a8215",
            "bd13e9bdc23743528bac96534c1bb6e6",
            "131ed6a2eb1f4eba9f51649da6a8ec52"
          ]
        },
        "id": "vSvQLvdWAFEL",
        "outputId": "44838d00-4408-43ec-f4a1-f0105d14a6a4"
      },
      "outputs": [
        {
          "output_type": "display_data",
          "data": {
            "text/plain": [
              "README.md: 0.00B [00:00, ?B/s]"
            ],
            "application/vnd.jupyter.widget-view+json": {
              "version_major": 2,
              "version_minor": 0,
              "model_id": "715368e744114bd5bd852e4feb8d9e26"
            }
          },
          "metadata": {}
        },
        {
          "output_type": "display_data",
          "data": {
            "text/plain": [
              "test-00000-of-00001.parquet:   0%|          | 0.00/733k [00:00<?, ?B/s]"
            ],
            "application/vnd.jupyter.widget-view+json": {
              "version_major": 2,
              "version_minor": 0,
              "model_id": "19a00bad8766421ebca2e2becf6d315d"
            }
          },
          "metadata": {}
        },
        {
          "output_type": "display_data",
          "data": {
            "text/plain": [
              "train-00000-of-00002.parquet:   0%|          | 0.00/157M [00:00<?, ?B/s]"
            ],
            "application/vnd.jupyter.widget-view+json": {
              "version_major": 2,
              "version_minor": 0,
              "model_id": "bf9cfb99a3aa41bb8f0518c09355e376"
            }
          },
          "metadata": {}
        },
        {
          "output_type": "display_data",
          "data": {
            "text/plain": [
              "train-00001-of-00002.parquet:   0%|          | 0.00/157M [00:00<?, ?B/s]"
            ],
            "application/vnd.jupyter.widget-view+json": {
              "version_major": 2,
              "version_minor": 0,
              "model_id": "85e2f8f5c48749caa3223a2357dc984a"
            }
          },
          "metadata": {}
        },
        {
          "output_type": "display_data",
          "data": {
            "text/plain": [
              "validation-00000-of-00001.parquet:   0%|          | 0.00/657k [00:00<?, ?B/s]"
            ],
            "application/vnd.jupyter.widget-view+json": {
              "version_major": 2,
              "version_minor": 0,
              "model_id": "35584b81a3b94f9ba442e8dd6117f22b"
            }
          },
          "metadata": {}
        },
        {
          "output_type": "display_data",
          "data": {
            "text/plain": [
              "Generating test split:   0%|          | 0/4358 [00:00<?, ? examples/s]"
            ],
            "application/vnd.jupyter.widget-view+json": {
              "version_major": 2,
              "version_minor": 0,
              "model_id": "c328310f3b9b44a7b9aecadd8fbb8b50"
            }
          },
          "metadata": {}
        },
        {
          "output_type": "display_data",
          "data": {
            "text/plain": [
              "Generating train split:   0%|          | 0/1801350 [00:00<?, ? examples/s]"
            ],
            "application/vnd.jupyter.widget-view+json": {
              "version_major": 2,
              "version_minor": 0,
              "model_id": "8a8c8ec2a4fc4c90ab17484f8060823a"
            }
          },
          "metadata": {}
        },
        {
          "output_type": "display_data",
          "data": {
            "text/plain": [
              "Generating validation split:   0%|          | 0/3760 [00:00<?, ? examples/s]"
            ],
            "application/vnd.jupyter.widget-view+json": {
              "version_major": 2,
              "version_minor": 0,
              "model_id": "bdaaca3c83674893bdf42d0176a27796"
            }
          },
          "metadata": {}
        }
      ],
      "source": [
        "sample_ratio = 0.2\n",
        "keep = int(len(dataset)*sample_ratio)\n",
        "dataset_small = load_dataset(\"wikitext\", \"wikitext-103-raw-v1\", split=f\"train[:{keep}]\")"
      ]
    },
    {
      "cell_type": "code",
      "execution_count": 28,
      "metadata": {
        "execution": {},
        "id": "vOYVrx9nAFEL"
      },
      "outputs": [],
      "source": [
        "tokenizer.train_from_iterator(generate_n_examples(dataset_small), trainer=tokenizer_trainer, length=len(dataset_small))"
      ]
    },
    {
      "cell_type": "code",
      "execution_count": null,
      "metadata": {
        "execution": {},
        "id": "4J24yhTEAFEL"
      },
      "outputs": [],
      "source": [
        "# In \"real life\", we'd probably want to save the tokenizer to disk so that we\n",
        "# can use it later. We can do this with the \"save\" method:\n",
        "# tokenizer.save(\"tokenizer.json\")\n",
        "\n",
        "# Let's try it out!\n",
        "print(\"Hello, world!\")\n",
        "print(\n",
        "    *zip(\n",
        "        tokenizer.encode(\"Hello, world!\").tokens,\n",
        "        tokenizer.encode(\"Hello, world!\").ids,\n",
        "    )\n",
        ")\n",
        "\n",
        "\n",
        "# Can we also tokenize made-up words?\n",
        "print(tokenizer.encode(\"These toastersocks are so groommpy!\").tokens)"
      ]
    },
    {
      "cell_type": "markdown",
      "metadata": {
        "execution": {},
        "id": "m7lK11_VAFEL"
      },
      "source": [
        "(The `##` means that the token is a continuation of the previous chunk.)\n",
        "\n",
        "Try playing around with the hyperparameters and the tokenizing algorithms to see how they affect the tokenizer's output. There can be some very major differences!\n",
        "\n",
        "In summary, we created a tokenizer pipeline that:\n",
        "\n",
        "* Normalizes the text (cleans up punctuation and diacritics)\n",
        "* Splits the text into chunks (using whitespace and punctuation)\n",
        "* Trains the tokenizer on the dataset (using the WordPiece algorithm)\n",
        "\n",
        "In common use, this would be the first step of any modern NLP pipeline. The next step would be to add an embedder to the end of the tokenizer, so that we can feed in a high-dimensional space to our model. But unlike Word2Vec, we can now separate the tokenization step from the embedding step, which means our encoding/embedding process can be task-specific, custom to our downstream neural net architecture, instead of general-purpose."
      ]
    },
    {
      "cell_type": "markdown",
      "metadata": {
        "execution": {},
        "id": "nSnKoN_WAFEL"
      },
      "source": [
        "### Think 2.1! Tokenizer good practices\n",
        "\n",
        "We established that the tokenizer is a better move than the One-Hot-Encoder because it can handle out-of-vocabulary words. But what if we just made a one-hot encoding where the vocabulary is all possible two-character combinations? Would there still be an advantage to the tokenizer?\n",
        "\n",
        "**Hint:** Re-read the section on the BPE and WordPiece algorithms, and how the tokens are selected."
      ]
    },
    {
      "cell_type": "markdown",
      "metadata": {
        "execution": {},
        "id": "8HoS1blCAFEL"
      },
      "source": [
        "[*Click for solution*](https://github.com/NeuromatchAcademy/course-content-dl/tree/main/tutorials/W3D1_TimeSeriesAndNaturalLanguageProcessing/solutions/W3D1_Tutorial2_Solution_de6c54b2.py)\n",
        "\n"
      ]
    },
    {
      "cell_type": "code",
      "execution_count": null,
      "metadata": {
        "cellView": "form",
        "execution": {},
        "id": "g5GjEISOAFEM"
      },
      "outputs": [],
      "source": [
        "# @title Submit your feedback\n",
        "content_review(f\"{feedback_prefix}_Tokenizer_good_practices_Discussion\")"
      ]
    },
    {
      "cell_type": "markdown",
      "metadata": {
        "execution": {},
        "id": "69rb2tshAFEM"
      },
      "source": [
        "### Think 2.2: Chinese and English tokenizer\n",
        "\n",
        "Let's think about a language like Chinese, where words are each composed of a relatively fewer number of characters compared to English (`hungry` is six unicode characters, but `饿` is one unicode character), but there are many more unique Chinese characters than there are letters in the English alphabet.\n",
        "\n",
        "In a one or two sentence high-level sketch, what properties would be desireable for a Chinese tokenizer to have?"
      ]
    },
    {
      "cell_type": "markdown",
      "metadata": {
        "execution": {},
        "id": "DH61lpM6AFEM"
      },
      "source": [
        "[*Click for solution*](https://github.com/NeuromatchAcademy/course-content-dl/tree/main/tutorials/W3D1_TimeSeriesAndNaturalLanguageProcessing/solutions/W3D1_Tutorial2_Solution_a3070a96.py)\n",
        "\n"
      ]
    },
    {
      "cell_type": "code",
      "execution_count": null,
      "metadata": {
        "cellView": "form",
        "execution": {},
        "id": "LPYu6_mJAFEM"
      },
      "outputs": [],
      "source": [
        "# @title Submit your feedback\n",
        "content_review(f\"{feedback_prefix}_Chinese_and_English_tokenizer_Discussion\")"
      ]
    },
    {
      "cell_type": "markdown",
      "metadata": {
        "execution": {},
        "id": "gW2WubnxAFEM"
      },
      "source": [
        "---\n",
        "# Section 3: Using BERT\n",
        "\n",
        "In this section, we will learn about using the BERT model from huggingface.\n",
        "\n",
        "## Learning Goals\n",
        "* Understand the idea behind BERT\n",
        "* Understand the idea of pre-training and fine-tuning\n",
        "* Understand how freezing parts of the network is useful"
      ]
    },
    {
      "cell_type": "code",
      "execution_count": null,
      "metadata": {
        "cellView": "form",
        "execution": {},
        "id": "ob_nseutAFEM"
      },
      "outputs": [],
      "source": [
        "# @title Video 3: BERT\n",
        "from ipywidgets import widgets\n",
        "from IPython.display import YouTubeVideo\n",
        "from IPython.display import IFrame\n",
        "from IPython.display import display\n",
        "\n",
        "\n",
        "class PlayVideo(IFrame):\n",
        "  def __init__(self, id, source, page=1, width=400, height=300, **kwargs):\n",
        "    self.id = id\n",
        "    if source == 'Bilibili':\n",
        "      src = f'https://player.bilibili.com/player.html?bvid={id}&page={page}'\n",
        "    elif source == 'Osf':\n",
        "      src = f'https://mfr.ca-1.osf.io/render?url=https://osf.io/download/{id}/?direct%26mode=render'\n",
        "    super(PlayVideo, self).__init__(src, width, height, **kwargs)\n",
        "\n",
        "\n",
        "def display_videos(video_ids, W=400, H=300, fs=1):\n",
        "  tab_contents = []\n",
        "  for i, video_id in enumerate(video_ids):\n",
        "    out = widgets.Output()\n",
        "    with out:\n",
        "      if video_ids[i][0] == 'Youtube':\n",
        "        video = YouTubeVideo(id=video_ids[i][1], width=W,\n",
        "                             height=H, fs=fs, rel=0)\n",
        "        print(f'Video available at https://youtube.com/watch?v={video.id}')\n",
        "      else:\n",
        "        video = PlayVideo(id=video_ids[i][1], source=video_ids[i][0], width=W,\n",
        "                          height=H, fs=fs, autoplay=False)\n",
        "        if video_ids[i][0] == 'Bilibili':\n",
        "          print(f'Video available at https://www.bilibili.com/video/{video.id}')\n",
        "        elif video_ids[i][0] == 'Osf':\n",
        "          print(f'Video available at https://osf.io/{video.id}')\n",
        "      display(video)\n",
        "    tab_contents.append(out)\n",
        "  return tab_contents\n",
        "\n",
        "\n",
        "video_ids = [('Youtube', 'u4D-84Z1Fxs'), ('Bilibili', 'BV17u411b7gJ')]\n",
        "tab_contents = display_videos(video_ids, W=854, H=480)\n",
        "tabs = widgets.Tab()\n",
        "tabs.children = tab_contents\n",
        "for i in range(len(tab_contents)):\n",
        "  tabs.set_title(i, video_ids[i][0])\n",
        "display(tabs)"
      ]
    },
    {
      "cell_type": "code",
      "execution_count": null,
      "metadata": {
        "cellView": "form",
        "execution": {},
        "id": "n5H-YYDQAFEN"
      },
      "outputs": [],
      "source": [
        "# @title Submit your feedback\n",
        "content_review(f\"{feedback_prefix}_BERT_Video\")"
      ]
    },
    {
      "cell_type": "markdown",
      "metadata": {
        "execution": {},
        "id": "Pvm8X1omAFEN"
      },
      "source": [
        "# Section 4: NLG with GPT\n",
        "\n",
        "In this section we will learn about Natural Language Generation with Generative Pretrained Transformers.\n",
        "\n",
        "## Learning goals\n",
        "* How to produce language with GPTs"
      ]
    },
    {
      "cell_type": "code",
      "execution_count": null,
      "metadata": {
        "cellView": "form",
        "execution": {},
        "id": "-tH09bH_AFEN"
      },
      "outputs": [],
      "source": [
        "# @title Video 4: NLG\n",
        "from ipywidgets import widgets\n",
        "from IPython.display import YouTubeVideo\n",
        "from IPython.display import IFrame\n",
        "from IPython.display import display\n",
        "\n",
        "\n",
        "class PlayVideo(IFrame):\n",
        "  def __init__(self, id, source, page=1, width=400, height=300, **kwargs):\n",
        "    self.id = id\n",
        "    if source == 'Bilibili':\n",
        "      src = f'https://player.bilibili.com/player.html?bvid={id}&page={page}'\n",
        "    elif source == 'Osf':\n",
        "      src = f'https://mfr.ca-1.osf.io/render?url=https://osf.io/download/{id}/?direct%26mode=render'\n",
        "    super(PlayVideo, self).__init__(src, width, height, **kwargs)\n",
        "\n",
        "\n",
        "def display_videos(video_ids, W=400, H=300, fs=1):\n",
        "  tab_contents = []\n",
        "  for i, video_id in enumerate(video_ids):\n",
        "    out = widgets.Output()\n",
        "    with out:\n",
        "      if video_ids[i][0] == 'Youtube':\n",
        "        video = YouTubeVideo(id=video_ids[i][1], width=W,\n",
        "                             height=H, fs=fs, rel=0)\n",
        "        print(f'Video available at https://youtube.com/watch?v={video.id}')\n",
        "      else:\n",
        "        video = PlayVideo(id=video_ids[i][1], source=video_ids[i][0], width=W,\n",
        "                          height=H, fs=fs, autoplay=False)\n",
        "        if video_ids[i][0] == 'Bilibili':\n",
        "          print(f'Video available at https://www.bilibili.com/video/{video.id}')\n",
        "        elif video_ids[i][0] == 'Osf':\n",
        "          print(f'Video available at https://osf.io/{video.id}')\n",
        "      display(video)\n",
        "    tab_contents.append(out)\n",
        "  return tab_contents\n",
        "\n",
        "\n",
        "video_ids = [('Youtube', 'vwFMHitq-FY'), ('Bilibili', 'BV1Hu411b7dx')]\n",
        "tab_contents = display_videos(video_ids, W=854, H=480)\n",
        "tabs = widgets.Tab()\n",
        "tabs.children = tab_contents\n",
        "for i in range(len(tab_contents)):\n",
        "  tabs.set_title(i, video_ids[i][0])\n",
        "display(tabs)"
      ]
    },
    {
      "cell_type": "code",
      "execution_count": null,
      "metadata": {
        "cellView": "form",
        "execution": {},
        "id": "L7Obcx1PAFEN"
      },
      "outputs": [],
      "source": [
        "# @title Submit your feedback\n",
        "content_review(f\"{feedback_prefix}_NLG_Video\")"
      ]
    },
    {
      "cell_type": "markdown",
      "metadata": {
        "execution": {},
        "id": "9oQcVqESAFEO"
      },
      "source": [
        "## Using state-of-the-art (SOTA) Models\n",
        "\n",
        "Unless you are writing your own experimental DL research (and sometimes even then!) it is _far_ more common these days to use the HuggingFace model library to import and start working with state-of-the-art models quickly. In this section, we will show you how to do that.\n",
        "\n",
        "We will download a pretrained model from the hf `transformers` library that is used to generate text. We will then fine-tune it on a different dataset, using the `hf.datasets` library and the HuggingFace Trainer classes to make the process as easy as possible, and we'll see that we can accomplish all of this in just a few lines of easily maintained code.\n",
        "\n",
        "Ultimately, we will have a _working_ generator... for code!"
      ]
    },
    {
      "cell_type": "markdown",
      "metadata": {
        "execution": {},
        "id": "GMPYZgM-AFEO"
      },
      "source": [
        "We're first going to pick a tokenizer. You can see some of the options [here](https://huggingface.co/transformers/pretrained_models.html). We'll use CodeParrot tokenizer, which is a BPE tokenizer. But you can choose (or build!) another if you'd like to try offroading!"
      ]
    },
    {
      "cell_type": "code",
      "execution_count": null,
      "metadata": {
        "execution": {},
        "id": "c3S4PCm4AFEO"
      },
      "outputs": [],
      "source": [
        "from transformers import AutoTokenizer\n",
        "from datasets import load_dataset"
      ]
    },
    {
      "cell_type": "code",
      "execution_count": null,
      "metadata": {
        "execution": {},
        "id": "9oqDkHssAFEO"
      },
      "outputs": [],
      "source": [
        "tokenizer = AutoTokenizer.from_pretrained(\"codeparrot/codeparrot-small\")"
      ]
    },
    {
      "cell_type": "markdown",
      "metadata": {
        "execution": {},
        "id": "ZUFmQxFJAFEO"
      },
      "source": [
        "### Think 4.1! Tokenizers\n",
        "\n",
        "Why can you use a different tokenizer than the one that was originally used? What requirements must another tokenizer for this task have?"
      ]
    },
    {
      "cell_type": "markdown",
      "metadata": {
        "execution": {},
        "id": "lemPJMcPAFEO"
      },
      "source": [
        "[*Click for solution*](https://github.com/NeuromatchAcademy/course-content-dl/tree/main/tutorials/W3D1_TimeSeriesAndNaturalLanguageProcessing/solutions/W3D1_Tutorial2_Solution_56512dd6.py)\n",
        "\n"
      ]
    },
    {
      "cell_type": "code",
      "execution_count": null,
      "metadata": {
        "cellView": "form",
        "execution": {},
        "id": "q_fvJg2BAFEO"
      },
      "outputs": [],
      "source": [
        "# @title Submit your feedback\n",
        "content_review(f\"{feedback_prefix}_Tokenizers_Discussion\")"
      ]
    },
    {
      "cell_type": "markdown",
      "metadata": {
        "execution": {},
        "id": "nQxXD-qlAFEP"
      },
      "source": [
        "Next, we'll download a pre-built model architecture. CodeParrot (the model) is a GPT-2 model, which is a transformer-based language model. You can see some of the options [here](https://huggingface.co/transformers/pretrained_models.html). But you can choose (or build!) another!\n",
        "\n",
        "Note that `codeparrot/codeparrot` (https://huggingface.co/codeparrot/codeparrot) is about 7GB to download (so it may take a while, or it may be too large for your runtime if you're on a free Colab). Instead, we will use a smaller model, `codeparrot/codeparrot-small` (https://huggingface.co/codeparrot/codeparrot-small), which is only ~500MB.\n",
        "\n",
        "To run everything together — tokenization, model, and de-tokenization, we can use the `pipeline` function from `transformers`."
      ]
    },
    {
      "cell_type": "code",
      "execution_count": null,
      "metadata": {
        "execution": {},
        "id": "y2gmwj8VAFEP"
      },
      "outputs": [],
      "source": [
        "from transformers import AutoModelForCausalLM\n",
        "from transformers import pipeline\n",
        "\n",
        "model = AutoModelForCausalLM.from_pretrained(\"codeparrot/codeparrot-small\")\n",
        "generation_pipeline = pipeline(\n",
        "    \"text-generation\", # The task to run. This tells hf what the pipeline steps are\n",
        "    model=model, # The model to use; can also pass the string here;\n",
        "    tokenizer=tokenizer, # The tokenizer to use; can also pass the string name here.\n",
        ")"
      ]
    },
    {
      "cell_type": "code",
      "execution_count": null,
      "metadata": {
        "execution": {},
        "id": "xuqm7z1uAFEP"
      },
      "outputs": [],
      "source": [
        "input_prompt = '''\\\n",
        "def simple_add(a: int, b: int) -> int:\n",
        "    \"\"\"\n",
        "    Adds two numbers together and returns the result.\n",
        "    \"\"\"'''\n",
        "\n",
        "# Return tensors for PyTorch:\n",
        "inputs = tokenizer(input_prompt, return_tensors=\"pt\")"
      ]
    },
    {
      "cell_type": "markdown",
      "metadata": {
        "execution": {},
        "id": "d0zJreTTAFEP"
      },
      "source": [
        "Recall that these tokens are integer indices in the vocabulary of the tokenizer. We can use the tokenizer to decode these tokens into a string, which we can print out to see what the model generates."
      ]
    },
    {
      "cell_type": "code",
      "execution_count": null,
      "metadata": {
        "execution": {},
        "id": "zYqJ6E6cAFEQ"
      },
      "outputs": [],
      "source": [
        "input_token_ids = inputs[\"input_ids\"]\n",
        "input_strs = tokenizer.convert_ids_to_tokens(*input_token_ids.tolist())\n",
        "\n",
        "print(*zip(input_strs, input_token_ids[0]))"
      ]
    },
    {
      "cell_type": "markdown",
      "metadata": {
        "execution": {},
        "id": "2FAWK0FUAFEQ"
      },
      "source": [
        "**(Quick knowledge-check: what are the weirdly-rendering characters representing?)**\n",
        "\n",
        "This model is already ready to use! Let's give it a try. (Note that we don't use `inputs` — we just generated that to show the initial tokenization steps.)\n",
        "\n",
        "Here, we use the `pipeline` we created earlier to combine all our components. If you were writing a Copilot-style code-completer, you could get away with wrapping this single line in a nice API and calling it a day!\n",
        "\n",
        "Play with the hyperparameters and see what kinds of outputs you can get. Temperature measures how much randomness is added to the model's predictions. Higher temperature means more randomness and lower temperature means less randomness. More randomness in the latent space will lead to wilder predictions and potentially more creative answers. A good place to start is `0.2`. You can also try changing the `max_length` parameter, which controls how long the generated code can be (though the model can opt to put a \"stop\" token in the middle of the sequence, so it may not always generate exactly this many tokens)."
      ]
    },
    {
      "cell_type": "code",
      "execution_count": null,
      "metadata": {
        "execution": {},
        "id": "KBSaoUikAFEQ"
      },
      "outputs": [],
      "source": [
        "outputs = generation_pipeline(input_prompt, max_length=100, num_return_sequences=1, temperature=0.2, truncation=True)"
      ]
    },
    {
      "cell_type": "code",
      "execution_count": null,
      "metadata": {
        "execution": {},
        "id": "CXLvrkCBAFEQ"
      },
      "outputs": [],
      "source": [
        "print(outputs[0][\"generated_text\"])"
      ]
    },
    {
      "cell_type": "markdown",
      "metadata": {
        "execution": {},
        "id": "CbKas1uZAFEQ"
      },
      "source": [
        "Let's see if we can fool our model now! The huggingface documentation tells us that the codeparrot model was trained to generate Python code ([docs](https://huggingface.co/codeparrot/codeparrot-small)). Let's see if we can get it to generate some JavaScript."
      ]
    },
    {
      "cell_type": "code",
      "execution_count": null,
      "metadata": {
        "execution": {},
        "id": "UikYkZiSAFEQ"
      },
      "outputs": [],
      "source": [
        "input_prompt = \"class SimpleAdder {\"\n",
        "\n",
        "print(generation_pipeline(input_prompt, max_length=100, num_return_sequences=1, temperature=0.2)[0][\"generated_text\"])"
      ]
    },
    {
      "cell_type": "markdown",
      "metadata": {
        "execution": {},
        "id": "QdWVFTBFAFEQ"
      },
      "source": [
        "Yikes! I don't know what it generated for you, but what it made for me was:\n",
        "\n",
        "```python\n",
        "class SimpleAdder {\n",
        "    public:\n",
        "        class SimpleAdder(object):\n",
        "            def __init__(self, a, b):\n",
        "                self.a = a\n",
        "                self.b = b\n",
        "\n",
        "            def __call__(self, x):\n",
        "                return self.a + x\n",
        "```\n",
        "\n",
        "**Ew!** That's wrong in a _lot_ of ways. But it's understandable: Our model can't really generalize outside of the domain in which it was trained. And so probably there were a few Python files that included syntax of other languages (perhaps generators for other code?). So the model knows that there's some mysterious syntax that uses curly brackets... But it's not sure about anything else. (For the programming-language hobbyists among you: The `public` notation looks to me a lot like the model is trying to do something C-flavored and perhaps something Java-flavored; I like it! But it's definitely not JavaScript.)\n",
        "\n",
        "What are the major observations?\n",
        "\n",
        "* The syntax it's generating rapidly and devolves into Python; it can predict only a few characters of non-Python before falling back into its familiar training territory.\n",
        "* The part of the code that follows Python syntax is valid and resembles a useful class definition (although if you look closely, it doesn't seem to do anything useful with the `b` attribute...). This tells us that the model \"understands\" its problem domain but hasn't been trained on the correct data to solve our new problem."
      ]
    },
    {
      "cell_type": "markdown",
      "metadata": {
        "execution": {},
        "id": "Cg-6xBqHAFER"
      },
      "source": [
        "### Think 4.2! Using SOTA models\n",
        "\n",
        "What are your other observations about the code it generated for you? You're now aware of how Transformers work.\n",
        "\n",
        "1. Think specifically and remark about the observations a machine learning practitioner would make here if your role were to diagnose the error in a production system.\n",
        "2. Now, how would a nonexpert user interpret the issues?\n",
        "3. Do you think the model-reported confidence for this output would be high, low, or in between...?"
      ]
    },
    {
      "cell_type": "markdown",
      "metadata": {
        "execution": {},
        "id": "4U66_RjlAFER"
      },
      "source": [
        "[*Click for solution*](https://github.com/NeuromatchAcademy/course-content-dl/tree/main/tutorials/W3D1_TimeSeriesAndNaturalLanguageProcessing/solutions/W3D1_Tutorial2_Solution_0c69712b.py)\n",
        "\n"
      ]
    },
    {
      "cell_type": "code",
      "execution_count": null,
      "metadata": {
        "cellView": "form",
        "execution": {},
        "id": "pTSKMRdYAFER"
      },
      "outputs": [],
      "source": [
        "# @title Submit your feedback\n",
        "content_review(f\"{feedback_prefix}_Using_SOTA_models_Discussion\")"
      ]
    },
    {
      "cell_type": "markdown",
      "metadata": {
        "execution": {},
        "id": "p41e4zUiAFER"
      },
      "source": [
        "## Fine-Tuning\n",
        "\n",
        "Alright, so we have a model that can generate code. But now, we want to fine-tune it to generate JavaScript.\n",
        "\n",
        "Assuming the data will be too large to fit on disk on Colab, we'll use the `load_dataset` function to download only part of the dataset. There's a JavaScript subset to the codeparrot dataset, which we'll use as an example… But you can use any dataset you like! We recommend filtering datasets by task category (e.g., text generation) to get the most relevant datasets. Still, you can use any dataset you like if you can configure the data loader to use it. (Consider, for example, [this one](https://huggingface.co/datasets/angie-chen55/javascript-github-code).)\n",
        "\n",
        "> **Choose a dataset from the [HuggingFace datasets library](https://huggingface.co/datasets?task_categories=task_categories:text-generation&sort=downloads).**"
      ]
    },
    {
      "cell_type": "code",
      "execution_count": null,
      "metadata": {
        "execution": {},
        "id": "Rq8Fx1HWAFER"
      },
      "outputs": [],
      "source": [
        "# Unlike _some_ code-generator models on the market, we'll limit our training data by license :)\n",
        "dataset = load_dataset(\n",
        "    \"codeparrot/github-code\",\n",
        "    streaming=True,\n",
        "    split=\"train\",\n",
        "    languages=[\"JavaScript\"],\n",
        "    licenses=[\"mit\", \"isc\", \"apache-2.0\"],\n",
        "    trust_remote_code=True,\n",
        ")\n",
        "# Print the schema of the first example from the training set:\n",
        "print({k: type(v) for k, v in next(iter(dataset)).items()})"
      ]
    },
    {
      "cell_type": "markdown",
      "metadata": {
        "execution": {},
        "id": "xmK-lvLSAFER"
      },
      "source": [
        "Like training any model, we need to define a training loop and an evaluation metric.\n",
        "\n",
        "This is made overwhelmingly easy with the `transformers` library. Specifically, look below at all of the code you can avoid using the huggingface infrastructure. (In the past, we've used PyTorch Lightning, which had a similar training-loop abstraction. Do you have preferences between these two libraries?)"
      ]
    },
    {
      "cell_type": "markdown",
      "metadata": {
        "execution": {},
        "id": "FdzryaTzAFER"
      },
      "source": [
        "### Implement the code to fine-tune the model\n",
        "\n",
        "Here are the big pieces of what we do below:\n",
        "\n",
        "* **Create a `TrainingArguments` object.** This serializable object (i.e., you can save it to memory or disk) makes it easy to train a model reproducibly with the same hyperparameters (this certainly beats having a bunch of global variables in your notebook!).\n",
        "* **Encode the dataset.** This is effectively just passing everything through the tokenizer, with a padding step that fills the end of each sequence with the padding token.\n",
        "* **Define our metrics.** We use the `accuracy` metric here (look at the 4th line in the code cell).\n",
        "* **Create a data collator.** This function takes a list of examples and returns a batch of examples. The `DataCollatorForLanguageModeling` class is a convenient way to do this.\n",
        "* **Create a `Trainer` object.** This class wraps the training loop and makes it easy to train a model. It's a bit like the `Trainer` class in PyTorch Lightning, but it's a bit more flexible and works with non-PyTorch models as well."
      ]
    },
    {
      "cell_type": "code",
      "execution_count": null,
      "metadata": {
        "execution": {},
        "id": "xYdWgavRAFER"
      },
      "outputs": [],
      "source": [
        "from transformers import TrainingArguments, Trainer, DataCollatorForLanguageModeling\n",
        "from evaluate import load\n",
        "metric = load(\"accuracy\")\n",
        "\n",
        "# Trainer:\n",
        "training_args = TrainingArguments(\n",
        "    output_dir=\"./codeparrot\",\n",
        "    max_steps=100,\n",
        "    per_device_train_batch_size=1,\n",
        "    report_to=\"none\",\n",
        ")\n",
        "\n",
        "tokenizer.pad_token = tokenizer.eos_token\n",
        "\n",
        "encoded_dataset = dataset.map(\n",
        "    lambda x: tokenizer(x[\"code\"], truncation=True, padding=\"max_length\"),\n",
        "    batched=True,\n",
        "    remove_columns=[\"code\"],\n",
        ")\n",
        "\n",
        "\n",
        "# Metrics for loss:\n",
        "def compute_metrics(eval_pred):\n",
        "  predictions, labels = eval_pred\n",
        "  predictions = np.argmax(predictions, axis=-1)\n",
        "  return metric.compute(predictions=predictions, references=labels)\n",
        "\n",
        "\n",
        "# Data collator:\n",
        "data_collator = DataCollatorForLanguageModeling(\n",
        "    tokenizer=tokenizer, mlm=False,\n",
        ")\n",
        "\n",
        "# Trainer:\n",
        "trainer = Trainer(\n",
        "    model=model,\n",
        "    args=training_args,\n",
        "    train_dataset=encoded_dataset,\n",
        "    processing_class=tokenizer,\n",
        "    compute_metrics=compute_metrics,\n",
        "    data_collator=data_collator,\n",
        ")"
      ]
    },
    {
      "cell_type": "code",
      "execution_count": null,
      "metadata": {
        "execution": {},
        "id": "3sYr8MiKAFER"
      },
      "outputs": [],
      "source": [
        "# Run the actual training:\n",
        "trainer.train()"
      ]
    },
    {
      "cell_type": "markdown",
      "metadata": {
        "execution": {},
        "id": "k2fX2X-EAFES"
      },
      "source": [
        "### Coding Exercise 4.1: Implement the code to generate text after fine-tuning.\n",
        "\n",
        "To generate text, we provide input tokens to the model, let it generate the next token and append it into the input tokens. Now, keep repeating this process until you reach the desired output length."
      ]
    },
    {
      "cell_type": "code",
      "execution_count": null,
      "metadata": {
        "execution": {},
        "id": "yy2YRyorAFES"
      },
      "outputs": [],
      "source": [
        "def generate_text(model, input_prompt):\n",
        "  # Number of tokens to generate\n",
        "  num_tokens = 100\n",
        "\n",
        "  # Move the model to the CPU for inference\n",
        "  model.to(\"cpu\")\n",
        "\n",
        "  # Print input prompt\n",
        "  print(f'Input prompt: \\n{input_prompt}')\n",
        "\n",
        "  #################################################\n",
        "  # Implement a the correct tokens and outputs\n",
        "  raise NotImplementedError(\"Text Generation\")\n",
        "  #################################################\n",
        "\n",
        "  # Encode the input prompt\n",
        "  # https://huggingface.co/docs/transformers/en/main_classes/tokenizer\n",
        "  input_tokens = ...\n",
        "\n",
        "  # Turn off storing gradients\n",
        "  with torch.no_grad():\n",
        "    # Keep iterating until num_tokens are generated\n",
        "    for tkn_idx in tqdm(range(num_tokens)):\n",
        "      # Forward pass through the model\n",
        "      # The model expects the tensor to be of Long or Int dtype\n",
        "      output = ...\n",
        "      # Get output logits\n",
        "      logits = output.logits[-1, :]\n",
        "      # Convert into probabilities\n",
        "      probs = nn.functional.softmax(logits, dim=-1)\n",
        "      # Get the index of top token\n",
        "      top_token = ...\n",
        "      # Append the token into the input sequence\n",
        "      input_tokens.append(top_token)\n",
        "\n",
        "  # Decode and print the generated text\n",
        "  # https://huggingface.co/docs/transformers/en/main_classes/tokenizer\n",
        "  decoded_text = ...\n",
        "  return decoded_text\n",
        "\n",
        "# print(f'Generated text: \\n{generate_text(model, input_prompt)}')"
      ]
    },
    {
      "cell_type": "markdown",
      "metadata": {
        "execution": {},
        "id": "NK4HVncjAFES"
      },
      "source": [
        "[*Click for solution*](https://github.com/NeuromatchAcademy/course-content-dl/tree/main/tutorials/W3D1_TimeSeriesAndNaturalLanguageProcessing/solutions/W3D1_Tutorial2_Solution_0b4b324d.py)\n",
        "\n"
      ]
    },
    {
      "cell_type": "markdown",
      "metadata": {
        "execution": {},
        "id": "1ToRWKcpAFES"
      },
      "source": [
        "Of course, your results will be slightly different. Here's what I got:\n",
        "\n",
        "```javascript\n",
        "class SimpleAdder {\n",
        "    constructor(a, b) {\n",
        "        this.a = a;\n",
        "        this.b = b;\n",
        "    }\n",
        "\n",
        "    add(\n",
        "```\n",
        "\n",
        "Much better! The model is no longer generating Python code, and it's not trying to jam Python-flavored syntax into other languages. It's still imperfect, but it's much better than before! (And, of course, remember that this is just a small model, and we didn't train it for very long. You can either try training it for longer or using a larger model to get better results.)"
      ]
    },
    {
      "cell_type": "code",
      "execution_count": null,
      "metadata": {
        "cellView": "form",
        "execution": {},
        "id": "mi27QngGAFES"
      },
      "outputs": [],
      "source": [
        "# @title Submit your feedback\n",
        "content_review(f\"{feedback_prefix}_FineTune_the_model_Exercise\")"
      ]
    },
    {
      "cell_type": "markdown",
      "metadata": {
        "execution": {},
        "id": "BDQB4xgTAFES"
      },
      "source": [
        "### Think 4.3! Accuracy metric observations\n",
        "\n",
        "Why might *accuracy* be a bad metric for this task?\n",
        "\n",
        "**Hint:** What does it mean to be \"accurate\" in this task?"
      ]
    },
    {
      "cell_type": "markdown",
      "metadata": {
        "execution": {},
        "id": "noxVCngrAFES"
      },
      "source": [
        "[*Click for solution*](https://github.com/NeuromatchAcademy/course-content-dl/tree/main/tutorials/W3D1_TimeSeriesAndNaturalLanguageProcessing/solutions/W3D1_Tutorial2_Solution_6dc25f20.py)\n",
        "\n"
      ]
    },
    {
      "cell_type": "code",
      "execution_count": null,
      "metadata": {
        "cellView": "form",
        "execution": {},
        "id": "lroWvGpTAFES"
      },
      "outputs": [],
      "source": [
        "# @title Submit your feedback\n",
        "content_review(f\"{feedback_prefix}_Accuracy_metric_observations_Discussion\")"
      ]
    },
    {
      "cell_type": "markdown",
      "metadata": {
        "execution": {},
        "id": "qtcfu4f-AFET"
      },
      "source": [
        "---\n",
        "# Section 5: GPT Today and Tomorrow\n",
        "\n",
        "Limitation of the current models."
      ]
    },
    {
      "cell_type": "code",
      "execution_count": null,
      "metadata": {
        "cellView": "form",
        "execution": {},
        "id": "MghilhsIAFET"
      },
      "outputs": [],
      "source": [
        "# @title Video 5: Conclusion\n",
        "from ipywidgets import widgets\n",
        "from IPython.display import YouTubeVideo\n",
        "from IPython.display import IFrame\n",
        "from IPython.display import display\n",
        "\n",
        "\n",
        "class PlayVideo(IFrame):\n",
        "  def __init__(self, id, source, page=1, width=400, height=300, **kwargs):\n",
        "    self.id = id\n",
        "    if source == 'Bilibili':\n",
        "      src = f'https://player.bilibili.com/player.html?bvid={id}&page={page}'\n",
        "    elif source == 'Osf':\n",
        "      src = f'https://mfr.ca-1.osf.io/render?url=https://osf.io/download/{id}/?direct%26mode=render'\n",
        "    super(PlayVideo, self).__init__(src, width, height, **kwargs)\n",
        "\n",
        "\n",
        "def display_videos(video_ids, W=400, H=300, fs=1):\n",
        "  tab_contents = []\n",
        "  for i, video_id in enumerate(video_ids):\n",
        "    out = widgets.Output()\n",
        "    with out:\n",
        "      if video_ids[i][0] == 'Youtube':\n",
        "        video = YouTubeVideo(id=video_ids[i][1], width=W,\n",
        "                             height=H, fs=fs, rel=0)\n",
        "        print(f'Video available at https://youtube.com/watch?v={video.id}')\n",
        "      else:\n",
        "        video = PlayVideo(id=video_ids[i][1], source=video_ids[i][0], width=W,\n",
        "                          height=H, fs=fs, autoplay=False)\n",
        "        if video_ids[i][0] == 'Bilibili':\n",
        "          print(f'Video available at https://www.bilibili.com/video/{video.id}')\n",
        "        elif video_ids[i][0] == 'Osf':\n",
        "          print(f'Video available at https://osf.io/{video.id}')\n",
        "      display(video)\n",
        "    tab_contents.append(out)\n",
        "  return tab_contents\n",
        "\n",
        "\n",
        "video_ids = [('Youtube', 'n1T8X0NiFqo'), ('Bilibili', 'BV1Ha4y1w73S')]\n",
        "tab_contents = display_videos(video_ids, W=854, H=480)\n",
        "tabs = widgets.Tab()\n",
        "tabs.children = tab_contents\n",
        "for i in range(len(tab_contents)):\n",
        "  tabs.set_title(i, video_ids[i][0])\n",
        "display(tabs)"
      ]
    },
    {
      "cell_type": "code",
      "execution_count": null,
      "metadata": {
        "cellView": "form",
        "execution": {},
        "id": "CTKYhmOkAFET"
      },
      "outputs": [],
      "source": [
        "# @title Submit your feedback\n",
        "content_review(f\"{feedback_prefix}_Conclusion_Video\")"
      ]
    },
    {
      "cell_type": "markdown",
      "metadata": {
        "execution": {},
        "id": "pHGixHmJAFET"
      },
      "source": [
        "## Play around with LLMs\n",
        "\n",
        "1. Try using LLMs' API to do tasks, such as utilizing the GPT-2 API to extend text from a provided context. To achieve this, ensure you have a HuggingFace account and secure an API token."
      ]
    },
    {
      "cell_type": "code",
      "execution_count": null,
      "metadata": {
        "execution": {},
        "id": "RtFhqYZtAFET"
      },
      "outputs": [],
      "source": [
        "import requests\n",
        "\n",
        "def query(payload, model_id, api_token):\n",
        "  headers = {\"Authorization\": f\"Bearer {api_token}\"}\n",
        "  API_URL = f\"https://api-inference.huggingface.co/models/{model_id}\"\n",
        "  response = requests.post(API_URL, headers=headers, json=payload)\n",
        "  return response.json()\\\n",
        "\n",
        "model_id = \"gpt2\"\n",
        "api_token = \"hf_****\" # get yours at hf.co/settings/tokens\n",
        "data = query(\"The goal of life is\", model_id, api_token)\n",
        "print(data)"
      ]
    },
    {
      "cell_type": "markdown",
      "metadata": {
        "execution": {},
        "id": "SxN9gYwtAFET"
      },
      "source": [
        "2. Try the following questions with [ChatGPT](https://openai.com/blog/chatgpt) (GPT3.5 without access to the web) and with GPTBing in creative mode (GPT4 with access to the web). Note that the latter requires installing Microsoft Edge.\n",
        "\n",
        "  Pick someone you know who is likely to have a web presence but is not super famous (not Musk or Trump). Ask GPT for a two-paragraph biography. How good is it?\n",
        "\n",
        "  Ask it something like “What is the US, UK, Germany, China, and Japan's per capita income over the past ten years? Plot the data in a single figure” (depending on when and where you run this, you will need to paste the resulting Python code into a colab notebook). Try asking it questions about the data or the definition of “per capita income” used. How good is it?"
      ]
    },
    {
      "cell_type": "code",
      "execution_count": null,
      "metadata": {
        "cellView": "form",
        "execution": {},
        "id": "HubQkb8xAFET"
      },
      "outputs": [],
      "source": [
        "# @title Submit your feedback\n",
        "content_review(f\"{feedback_prefix}_Play_around_with_LLMs_Activity\")"
      ]
    },
    {
      "cell_type": "markdown",
      "metadata": {
        "execution": {},
        "id": "KW5nD3IgAFEU"
      },
      "source": [
        "---\n",
        "# Summary\n",
        "\n",
        "In this tutorial you have become familiar with modern natural language processing (NLP) architectures. We learned about the core concepts, functionalities, and applications of these architectures. We also gain insights into prompt engineering and we learned about GPT."
      ]
    },
    {
      "cell_type": "markdown",
      "metadata": {
        "execution": {},
        "id": "4WKyutV1AFEU"
      },
      "source": [
        "---\n",
        "# Daily survey\n",
        "\n",
        "Don't forget to complete your reflections and content check in the daily survey! Please be patient after logging in as there is a small delay before you will be redirected to the survey.\n",
        "\n",
        "<a href=\"https://portal.neuromatchacademy.org/api/redirect/to/d3f4b811-a40e-42d1-a79a-8becb99ad490\"><img src=\"https://github.com/NeuromatchAcademy/course-content-dl/blob/main/tutorials/static/SurveyButton.png?raw=1\" alt=\"button link to survey\" style=\"width:410px\"></a>"
      ]
    },
    {
      "cell_type": "markdown",
      "metadata": {
        "execution": {},
        "id": "R-_1qXapAFEU"
      },
      "source": [
        "---\n",
        "# Bonus Section: Using Large Language Models (LLMs)\n",
        "\n",
        "This videos tells you what large language models are being used for now and how you can use them. For instance, personalized tutoring, language practice, improving writing, exam preparation, writing help and data science."
      ]
    },
    {
      "cell_type": "code",
      "execution_count": null,
      "metadata": {
        "cellView": "form",
        "execution": {},
        "id": "JbmBkewgAFEU"
      },
      "outputs": [],
      "source": [
        "# @title Video 6: Using GPT\n",
        "from ipywidgets import widgets\n",
        "from IPython.display import YouTubeVideo\n",
        "from IPython.display import IFrame\n",
        "from IPython.display import display\n",
        "\n",
        "\n",
        "class PlayVideo(IFrame):\n",
        "  def __init__(self, id, source, page=1, width=400, height=300, **kwargs):\n",
        "    self.id = id\n",
        "    if source == 'Bilibili':\n",
        "      src = f'https://player.bilibili.com/player.html?bvid={id}&page={page}'\n",
        "    elif source == 'Osf':\n",
        "      src = f'https://mfr.ca-1.osf.io/render?url=https://osf.io/download/{id}/?direct%26mode=render'\n",
        "    super(PlayVideo, self).__init__(src, width, height, **kwargs)\n",
        "\n",
        "\n",
        "def display_videos(video_ids, W=400, H=300, fs=1):\n",
        "  tab_contents = []\n",
        "  for i, video_id in enumerate(video_ids):\n",
        "    out = widgets.Output()\n",
        "    with out:\n",
        "      if video_ids[i][0] == 'Youtube':\n",
        "        video = YouTubeVideo(id=video_ids[i][1], width=W,\n",
        "                             height=H, fs=fs, rel=0)\n",
        "        print(f'Video available at https://youtube.com/watch?v={video.id}')\n",
        "      else:\n",
        "        video = PlayVideo(id=video_ids[i][1], source=video_ids[i][0], width=W,\n",
        "                          height=H, fs=fs, autoplay=False)\n",
        "        if video_ids[i][0] == 'Bilibili':\n",
        "          print(f'Video available at https://www.bilibili.com/video/{video.id}')\n",
        "        elif video_ids[i][0] == 'Osf':\n",
        "          print(f'Video available at https://osf.io/{video.id}')\n",
        "      display(video)\n",
        "    tab_contents.append(out)\n",
        "  return tab_contents\n",
        "\n",
        "\n",
        "video_ids = [('Youtube', 'JdXfuj6RP4Y'), ('Bilibili', 'BV1eX4y1v7c8')]\n",
        "tab_contents = display_videos(video_ids, W=854, H=480)\n",
        "tabs = widgets.Tab()\n",
        "tabs.children = tab_contents\n",
        "for i in range(len(tab_contents)):\n",
        "  tabs.set_title(i, video_ids[i][0])\n",
        "display(tabs)"
      ]
    },
    {
      "cell_type": "code",
      "execution_count": null,
      "metadata": {
        "cellView": "form",
        "execution": {},
        "id": "y47Fi_Q5AFEU"
      },
      "outputs": [],
      "source": [
        "# @title Submit your feedback\n",
        "content_review(f\"{feedback_prefix}_What_models_Video\")"
      ]
    }
  ],
  "metadata": {
    "accelerator": "GPU",
    "colab": {
      "gpuType": "T4",
      "name": "W3D1_Tutorial2",
      "provenance": [],
      "include_colab_link": true
    },
    "gpuClass": "standard",
    "kernel": {
      "display_name": "Python 3",
      "language": "python",
      "name": "python3"
    },
    "kernelspec": {
      "display_name": "Python 3 (ipykernel)",
      "language": "python",
      "name": "python3"
    },
    "language_info": {
      "codemirror_mode": {
        "name": "ipython",
        "version": 3
      },
      "file_extension": ".py",
      "mimetype": "text/x-python",
      "name": "python",
      "nbconvert_exporter": "python",
      "pygments_lexer": "ipython3",
      "version": "3.9.19"
    },
    "toc-autonumbering": true,
    "widgets": {
      "application/vnd.jupyter.widget-state+json": {
        "5a92c2b03c93472893b8de40dc9640d0": {
          "model_module": "@jupyter-widgets/controls",
          "model_name": "TabModel",
          "model_module_version": "1.5.0",
          "state": {
            "_dom_classes": [],
            "_model_module": "@jupyter-widgets/controls",
            "_model_module_version": "1.5.0",
            "_model_name": "TabModel",
            "_titles": {
              "0": "Youtube",
              "1": "Bilibili"
            },
            "_view_count": null,
            "_view_module": "@jupyter-widgets/controls",
            "_view_module_version": "1.5.0",
            "_view_name": "TabView",
            "box_style": "",
            "children": [
              "IPY_MODEL_e59088a0db934b699b443219f02f5bdc",
              "IPY_MODEL_169dbaf36e6e437aa1f06cb8d26f2092"
            ],
            "layout": "IPY_MODEL_6f2df29a200d448188d208c8f0da92b1",
            "selected_index": 0
          }
        },
        "e59088a0db934b699b443219f02f5bdc": {
          "model_module": "@jupyter-widgets/output",
          "model_name": "OutputModel",
          "model_module_version": "1.0.0",
          "state": {
            "_dom_classes": [],
            "_model_module": "@jupyter-widgets/output",
            "_model_module_version": "1.0.0",
            "_model_name": "OutputModel",
            "_view_count": null,
            "_view_module": "@jupyter-widgets/output",
            "_view_module_version": "1.0.0",
            "_view_name": "OutputView",
            "layout": "IPY_MODEL_a423e9fe41934548b122d43276f7d487",
            "msg_id": "",
            "outputs": [
              {
                "output_type": "stream",
                "name": "stdout",
                "text": [
                  "Video available at https://youtube.com/watch?v=PCz527-WbxY\n"
                ]
              },
              {
                "output_type": "display_data",
                "data": {
                  "text/plain": "<IPython.lib.display.YouTubeVideo at 0x7918a05f5e90>",
                  "text/html": "\n        <iframe\n            width=\"854\"\n            height=\"480\"\n            src=\"https://www.youtube.com/embed/PCz527-WbxY?fs=1&rel=0\"\n            frameborder=\"0\"\n            allowfullscreen\n            \n        ></iframe>\n        ",
                  "image/jpeg": "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\n"
                },
                "metadata": {}
              }
            ]
          }
        },
        "169dbaf36e6e437aa1f06cb8d26f2092": {
          "model_module": "@jupyter-widgets/output",
          "model_name": "OutputModel",
          "model_module_version": "1.0.0",
          "state": {
            "_dom_classes": [],
            "_model_module": "@jupyter-widgets/output",
            "_model_module_version": "1.0.0",
            "_model_name": "OutputModel",
            "_view_count": null,
            "_view_module": "@jupyter-widgets/output",
            "_view_module_version": "1.0.0",
            "_view_name": "OutputView",
            "layout": "IPY_MODEL_277134e1180a4792861544ba555d5122",
            "msg_id": "",
            "outputs": [
              {
                "output_type": "stream",
                "name": "stdout",
                "text": [
                  "Video available at https://www.bilibili.com/video/BV15V4y1a7Xu\n"
                ]
              },
              {
                "output_type": "display_data",
                "data": {
                  "text/plain": "<__main__.PlayVideo at 0x7919097fed50>",
                  "text/html": "\n        <iframe\n            width=\"854\"\n            height=\"480\"\n            src=\"https://player.bilibili.com/player.html?bvid=BV15V4y1a7Xu&page=1?fs=1&autoplay=False\"\n            frameborder=\"0\"\n            allowfullscreen\n            \n        ></iframe>\n        "
                },
                "metadata": {}
              }
            ]
          }
        },
        "6f2df29a200d448188d208c8f0da92b1": {
          "model_module": "@jupyter-widgets/base",
          "model_name": "LayoutModel",
          "model_module_version": "1.2.0",
          "state": {
            "_model_module": "@jupyter-widgets/base",
            "_model_module_version": "1.2.0",
            "_model_name": "LayoutModel",
            "_view_count": null,
            "_view_module": "@jupyter-widgets/base",
            "_view_module_version": "1.2.0",
            "_view_name": "LayoutView",
            "align_content": null,
            "align_items": null,
            "align_self": null,
            "border": null,
            "bottom": null,
            "display": null,
            "flex": null,
            "flex_flow": null,
            "grid_area": null,
            "grid_auto_columns": null,
            "grid_auto_flow": null,
            "grid_auto_rows": null,
            "grid_column": null,
            "grid_gap": null,
            "grid_row": null,
            "grid_template_areas": null,
            "grid_template_columns": null,
            "grid_template_rows": null,
            "height": null,
            "justify_content": null,
            "justify_items": null,
            "left": null,
            "margin": null,
            "max_height": null,
            "max_width": null,
            "min_height": null,
            "min_width": null,
            "object_fit": null,
            "object_position": null,
            "order": null,
            "overflow": null,
            "overflow_x": null,
            "overflow_y": null,
            "padding": null,
            "right": null,
            "top": null,
            "visibility": null,
            "width": null
          }
        },
        "a423e9fe41934548b122d43276f7d487": {
          "model_module": "@jupyter-widgets/base",
          "model_name": "LayoutModel",
          "model_module_version": "1.2.0",
          "state": {
            "_model_module": "@jupyter-widgets/base",
            "_model_module_version": "1.2.0",
            "_model_name": "LayoutModel",
            "_view_count": null,
            "_view_module": "@jupyter-widgets/base",
            "_view_module_version": "1.2.0",
            "_view_name": "LayoutView",
            "align_content": null,
            "align_items": null,
            "align_self": null,
            "border": null,
            "bottom": null,
            "display": null,
            "flex": null,
            "flex_flow": null,
            "grid_area": null,
            "grid_auto_columns": null,
            "grid_auto_flow": null,
            "grid_auto_rows": null,
            "grid_column": null,
            "grid_gap": null,
            "grid_row": null,
            "grid_template_areas": null,
            "grid_template_columns": null,
            "grid_template_rows": null,
            "height": null,
            "justify_content": null,
            "justify_items": null,
            "left": null,
            "margin": null,
            "max_height": null,
            "max_width": null,
            "min_height": null,
            "min_width": null,
            "object_fit": null,
            "object_position": null,
            "order": null,
            "overflow": null,
            "overflow_x": null,
            "overflow_y": null,
            "padding": null,
            "right": null,
            "top": null,
            "visibility": null,
            "width": null
          }
        },
        "277134e1180a4792861544ba555d5122": {
          "model_module": "@jupyter-widgets/base",
          "model_name": "LayoutModel",
          "model_module_version": "1.2.0",
          "state": {
            "_model_module": "@jupyter-widgets/base",
            "_model_module_version": "1.2.0",
            "_model_name": "LayoutModel",
            "_view_count": null,
            "_view_module": "@jupyter-widgets/base",
            "_view_module_version": "1.2.0",
            "_view_name": "LayoutView",
            "align_content": null,
            "align_items": null,
            "align_self": null,
            "border": null,
            "bottom": null,
            "display": null,
            "flex": null,
            "flex_flow": null,
            "grid_area": null,
            "grid_auto_columns": null,
            "grid_auto_flow": null,
            "grid_auto_rows": null,
            "grid_column": null,
            "grid_gap": null,
            "grid_row": null,
            "grid_template_areas": null,
            "grid_template_columns": null,
            "grid_template_rows": null,
            "height": null,
            "justify_content": null,
            "justify_items": null,
            "left": null,
            "margin": null,
            "max_height": null,
            "max_width": null,
            "min_height": null,
            "min_width": null,
            "object_fit": null,
            "object_position": null,
            "order": null,
            "overflow": null,
            "overflow_x": null,
            "overflow_y": null,
            "padding": null,
            "right": null,
            "top": null,
            "visibility": null,
            "width": null
          }
        },
        "28f7190ff33b4432a0eca1d709c5a200": {
          "model_module": "@jupyter-widgets/controls",
          "model_name": "VBoxModel",
          "model_module_version": "1.5.0",
          "state": {
            "_dom_classes": [],
            "_model_module": "@jupyter-widgets/controls",
            "_model_module_version": "1.5.0",
            "_model_name": "VBoxModel",
            "_view_count": null,
            "_view_module": "@jupyter-widgets/controls",
            "_view_module_version": "1.5.0",
            "_view_name": "VBoxView",
            "box_style": "",
            "children": [
              "IPY_MODEL_4c1045ccac354f91a19ed67615477d49"
            ],
            "layout": "IPY_MODEL_2b540465a51242149feec669833b73e8"
          }
        },
        "4c1045ccac354f91a19ed67615477d49": {
          "model_module": "@jupyter-widgets/controls",
          "model_name": "VBoxModel",
          "model_module_version": "1.5.0",
          "state": {
            "_dom_classes": [],
            "_model_module": "@jupyter-widgets/controls",
            "_model_module_version": "1.5.0",
            "_model_name": "VBoxModel",
            "_view_count": null,
            "_view_module": "@jupyter-widgets/controls",
            "_view_module_version": "1.5.0",
            "_view_name": "VBoxView",
            "box_style": "",
            "children": [
              "IPY_MODEL_9877babae2824ee3b54a145b5276c9c8",
              "IPY_MODEL_aabcf04b131a47f3996b674c8af235cc",
              "IPY_MODEL_50603e423f1945b881702d203a9bc2d9"
            ],
            "layout": "IPY_MODEL_b69e3f41fbb64316aea60432e5d7578f"
          }
        },
        "2b540465a51242149feec669833b73e8": {
          "model_module": "@jupyter-widgets/base",
          "model_name": "LayoutModel",
          "model_module_version": "1.2.0",
          "state": {
            "_model_module": "@jupyter-widgets/base",
            "_model_module_version": "1.2.0",
            "_model_name": "LayoutModel",
            "_view_count": null,
            "_view_module": "@jupyter-widgets/base",
            "_view_module_version": "1.2.0",
            "_view_name": "LayoutView",
            "align_content": null,
            "align_items": null,
            "align_self": null,
            "border": null,
            "bottom": null,
            "display": null,
            "flex": null,
            "flex_flow": null,
            "grid_area": null,
            "grid_auto_columns": null,
            "grid_auto_flow": null,
            "grid_auto_rows": null,
            "grid_column": null,
            "grid_gap": null,
            "grid_row": null,
            "grid_template_areas": null,
            "grid_template_columns": null,
            "grid_template_rows": null,
            "height": null,
            "justify_content": null,
            "justify_items": null,
            "left": null,
            "margin": null,
            "max_height": null,
            "max_width": null,
            "min_height": null,
            "min_width": null,
            "object_fit": null,
            "object_position": null,
            "order": null,
            "overflow": null,
            "overflow_x": null,
            "overflow_y": null,
            "padding": null,
            "right": null,
            "top": null,
            "visibility": null,
            "width": null
          }
        },
        "9877babae2824ee3b54a145b5276c9c8": {
          "model_module": "@jupyter-widgets/controls",
          "model_name": "HBoxModel",
          "model_module_version": "1.5.0",
          "state": {
            "_dom_classes": [],
            "_model_module": "@jupyter-widgets/controls",
            "_model_module_version": "1.5.0",
            "_model_name": "HBoxModel",
            "_view_count": null,
            "_view_module": "@jupyter-widgets/controls",
            "_view_module_version": "1.5.0",
            "_view_name": "HBoxView",
            "box_style": "",
            "children": [
              "IPY_MODEL_907232b6c6d1433d9c154bfd98d34d48",
              "IPY_MODEL_3fdd76128b7a4e04a5e6dda191d9ba9f",
              "IPY_MODEL_eb4fbbf8b22947e0bb92ebb88522ddc4"
            ],
            "layout": "IPY_MODEL_ed904241e15749f5b57e90fdc746a6b1"
          }
        },
        "aabcf04b131a47f3996b674c8af235cc": {
          "model_module": "@jupyter-widgets/controls",
          "model_name": "HBoxModel",
          "model_module_version": "1.5.0",
          "state": {
            "_dom_classes": [],
            "_model_module": "@jupyter-widgets/controls",
            "_model_module_version": "1.5.0",
            "_model_name": "HBoxModel",
            "_view_count": null,
            "_view_module": "@jupyter-widgets/controls",
            "_view_module_version": "1.5.0",
            "_view_name": "HBoxView",
            "box_style": "",
            "children": [
              "IPY_MODEL_fb134dbfc7da4f1299641b9c20824b83",
              "IPY_MODEL_9321003a28384fba90dbdf825b3ebd4c"
            ],
            "layout": "IPY_MODEL_d577eab9ea374ad1b200dc93355b5089"
          }
        },
        "50603e423f1945b881702d203a9bc2d9": {
          "model_module": "@jupyter-widgets/controls",
          "model_name": "LabelModel",
          "model_module_version": "1.5.0",
          "state": {
            "_dom_classes": [],
            "_model_module": "@jupyter-widgets/controls",
            "_model_module_version": "1.5.0",
            "_model_name": "LabelModel",
            "_view_count": null,
            "_view_module": "@jupyter-widgets/controls",
            "_view_module_version": "1.5.0",
            "_view_name": "LabelView",
            "description": "",
            "description_tooltip": null,
            "layout": "IPY_MODEL_33803a3f82bf445d85469557bf2581ea",
            "placeholder": "​",
            "style": "IPY_MODEL_13cfef43ae194831862452c8accca9e8",
            "value": "Thanks for your feedback!"
          }
        },
        "b69e3f41fbb64316aea60432e5d7578f": {
          "model_module": "@jupyter-widgets/base",
          "model_name": "LayoutModel",
          "model_module_version": "1.2.0",
          "state": {
            "_model_module": "@jupyter-widgets/base",
            "_model_module_version": "1.2.0",
            "_model_name": "LayoutModel",
            "_view_count": null,
            "_view_module": "@jupyter-widgets/base",
            "_view_module_version": "1.2.0",
            "_view_name": "LayoutView",
            "align_content": null,
            "align_items": null,
            "align_self": null,
            "border": null,
            "bottom": null,
            "display": null,
            "flex": null,
            "flex_flow": null,
            "grid_area": null,
            "grid_auto_columns": null,
            "grid_auto_flow": null,
            "grid_auto_rows": null,
            "grid_column": null,
            "grid_gap": null,
            "grid_row": null,
            "grid_template_areas": null,
            "grid_template_columns": null,
            "grid_template_rows": null,
            "height": null,
            "justify_content": null,
            "justify_items": null,
            "left": null,
            "margin": null,
            "max_height": null,
            "max_width": null,
            "min_height": null,
            "min_width": null,
            "object_fit": null,
            "object_position": null,
            "order": null,
            "overflow": null,
            "overflow_x": null,
            "overflow_y": null,
            "padding": null,
            "right": null,
            "top": null,
            "visibility": null,
            "width": null
          }
        },
        "907232b6c6d1433d9c154bfd98d34d48": {
          "model_module": "@jupyter-widgets/controls",
          "model_name": "ButtonModel",
          "model_module_version": "1.5.0",
          "state": {
            "_dom_classes": [
              "happy"
            ],
            "_model_module": "@jupyter-widgets/controls",
            "_model_module_version": "1.5.0",
            "_model_name": "ButtonModel",
            "_view_count": null,
            "_view_module": "@jupyter-widgets/controls",
            "_view_module_version": "1.5.0",
            "_view_name": "ButtonView",
            "button_style": "",
            "description": "🙂",
            "disabled": false,
            "icon": "",
            "layout": "IPY_MODEL_62e5603120e6414890f2e29c7523aa25",
            "style": "IPY_MODEL_8803e2d223a34efa86c70fc013148a02",
            "tooltip": "happy"
          }
        },
        "3fdd76128b7a4e04a5e6dda191d9ba9f": {
          "model_module": "@jupyter-widgets/controls",
          "model_name": "ButtonModel",
          "model_module_version": "1.5.0",
          "state": {
            "_dom_classes": [
              "medium"
            ],
            "_model_module": "@jupyter-widgets/controls",
            "_model_module_version": "1.5.0",
            "_model_name": "ButtonModel",
            "_view_count": null,
            "_view_module": "@jupyter-widgets/controls",
            "_view_module_version": "1.5.0",
            "_view_name": "ButtonView",
            "button_style": "",
            "description": "😐",
            "disabled": false,
            "icon": "",
            "layout": "IPY_MODEL_59f1a482c4de4adfa6fd0416679a8c5b",
            "style": "IPY_MODEL_4256da25de4946cf9724cfcdb36a9715",
            "tooltip": "medium"
          }
        },
        "eb4fbbf8b22947e0bb92ebb88522ddc4": {
          "model_module": "@jupyter-widgets/controls",
          "model_name": "ButtonModel",
          "model_module_version": "1.5.0",
          "state": {
            "_dom_classes": [
              "sad"
            ],
            "_model_module": "@jupyter-widgets/controls",
            "_model_module_version": "1.5.0",
            "_model_name": "ButtonModel",
            "_view_count": null,
            "_view_module": "@jupyter-widgets/controls",
            "_view_module_version": "1.5.0",
            "_view_name": "ButtonView",
            "button_style": "",
            "description": "🙁",
            "disabled": false,
            "icon": "",
            "layout": "IPY_MODEL_657fb1e1b8e445dd86f11c5965387293",
            "style": "IPY_MODEL_67ce244eb3224262b6214fb96dee0a7e",
            "tooltip": "sad"
          }
        },
        "ed904241e15749f5b57e90fdc746a6b1": {
          "model_module": "@jupyter-widgets/base",
          "model_name": "LayoutModel",
          "model_module_version": "1.2.0",
          "state": {
            "_model_module": "@jupyter-widgets/base",
            "_model_module_version": "1.2.0",
            "_model_name": "LayoutModel",
            "_view_count": null,
            "_view_module": "@jupyter-widgets/base",
            "_view_module_version": "1.2.0",
            "_view_name": "LayoutView",
            "align_content": null,
            "align_items": null,
            "align_self": null,
            "border": null,
            "bottom": null,
            "display": null,
            "flex": null,
            "flex_flow": null,
            "grid_area": null,
            "grid_auto_columns": null,
            "grid_auto_flow": null,
            "grid_auto_rows": null,
            "grid_column": null,
            "grid_gap": null,
            "grid_row": null,
            "grid_template_areas": null,
            "grid_template_columns": null,
            "grid_template_rows": null,
            "height": null,
            "justify_content": null,
            "justify_items": null,
            "left": null,
            "margin": null,
            "max_height": null,
            "max_width": null,
            "min_height": null,
            "min_width": null,
            "object_fit": null,
            "object_position": null,
            "order": null,
            "overflow": null,
            "overflow_x": null,
            "overflow_y": null,
            "padding": null,
            "right": null,
            "top": null,
            "visibility": null,
            "width": null
          }
        },
        "fb134dbfc7da4f1299641b9c20824b83": {
          "model_module": "@jupyter-widgets/controls",
          "model_name": "TextareaModel",
          "model_module_version": "1.5.0",
          "state": {
            "_dom_classes": [],
            "_model_module": "@jupyter-widgets/controls",
            "_model_module_version": "1.5.0",
            "_model_name": "TextareaModel",
            "_view_count": null,
            "_view_module": "@jupyter-widgets/controls",
            "_view_module_version": "1.5.0",
            "_view_name": "TextareaView",
            "continuous_update": true,
            "description": "",
            "description_tooltip": null,
            "disabled": false,
            "layout": "IPY_MODEL_7053a6e0a46f4f29b61624576dd025c9",
            "placeholder": "We want your feedback!",
            "rows": null,
            "style": "IPY_MODEL_5ce69f87c1c94d438dab52d1450642aa",
            "value": ""
          }
        },
        "9321003a28384fba90dbdf825b3ebd4c": {
          "model_module": "@jupyter-widgets/controls",
          "model_name": "ButtonModel",
          "model_module_version": "1.5.0",
          "state": {
            "_dom_classes": [],
            "_model_module": "@jupyter-widgets/controls",
            "_model_module_version": "1.5.0",
            "_model_name": "ButtonModel",
            "_view_count": null,
            "_view_module": "@jupyter-widgets/controls",
            "_view_module_version": "1.5.0",
            "_view_name": "ButtonView",
            "button_style": "",
            "description": "Submit",
            "disabled": false,
            "icon": "",
            "layout": "IPY_MODEL_d69e1ec382a2483fba83ba83f422e69f",
            "style": "IPY_MODEL_792745ba696343d798d9feeb4d697872",
            "tooltip": ""
          }
        },
        "d577eab9ea374ad1b200dc93355b5089": {
          "model_module": "@jupyter-widgets/base",
          "model_name": "LayoutModel",
          "model_module_version": "1.2.0",
          "state": {
            "_model_module": "@jupyter-widgets/base",
            "_model_module_version": "1.2.0",
            "_model_name": "LayoutModel",
            "_view_count": null,
            "_view_module": "@jupyter-widgets/base",
            "_view_module_version": "1.2.0",
            "_view_name": "LayoutView",
            "align_content": null,
            "align_items": null,
            "align_self": null,
            "border": null,
            "bottom": null,
            "display": "none",
            "flex": null,
            "flex_flow": null,
            "grid_area": null,
            "grid_auto_columns": null,
            "grid_auto_flow": null,
            "grid_auto_rows": null,
            "grid_column": null,
            "grid_gap": null,
            "grid_row": null,
            "grid_template_areas": null,
            "grid_template_columns": null,
            "grid_template_rows": null,
            "height": null,
            "justify_content": null,
            "justify_items": null,
            "left": null,
            "margin": null,
            "max_height": null,
            "max_width": null,
            "min_height": null,
            "min_width": null,
            "object_fit": null,
            "object_position": null,
            "order": null,
            "overflow": null,
            "overflow_x": null,
            "overflow_y": null,
            "padding": null,
            "right": null,
            "top": null,
            "visibility": null,
            "width": null
          }
        },
        "33803a3f82bf445d85469557bf2581ea": {
          "model_module": "@jupyter-widgets/base",
          "model_name": "LayoutModel",
          "model_module_version": "1.2.0",
          "state": {
            "_model_module": "@jupyter-widgets/base",
            "_model_module_version": "1.2.0",
            "_model_name": "LayoutModel",
            "_view_count": null,
            "_view_module": "@jupyter-widgets/base",
            "_view_module_version": "1.2.0",
            "_view_name": "LayoutView",
            "align_content": null,
            "align_items": null,
            "align_self": null,
            "border": null,
            "bottom": null,
            "display": "none",
            "flex": null,
            "flex_flow": null,
            "grid_area": null,
            "grid_auto_columns": null,
            "grid_auto_flow": null,
            "grid_auto_rows": null,
            "grid_column": null,
            "grid_gap": null,
            "grid_row": null,
            "grid_template_areas": null,
            "grid_template_columns": null,
            "grid_template_rows": null,
            "height": null,
            "justify_content": null,
            "justify_items": null,
            "left": null,
            "margin": null,
            "max_height": null,
            "max_width": null,
            "min_height": null,
            "min_width": null,
            "object_fit": null,
            "object_position": null,
            "order": null,
            "overflow": null,
            "overflow_x": null,
            "overflow_y": null,
            "padding": null,
            "right": null,
            "top": null,
            "visibility": null,
            "width": null
          }
        },
        "13cfef43ae194831862452c8accca9e8": {
          "model_module": "@jupyter-widgets/controls",
          "model_name": "DescriptionStyleModel",
          "model_module_version": "1.5.0",
          "state": {
            "_model_module": "@jupyter-widgets/controls",
            "_model_module_version": "1.5.0",
            "_model_name": "DescriptionStyleModel",
            "_view_count": null,
            "_view_module": "@jupyter-widgets/base",
            "_view_module_version": "1.2.0",
            "_view_name": "StyleView",
            "description_width": ""
          }
        },
        "62e5603120e6414890f2e29c7523aa25": {
          "model_module": "@jupyter-widgets/base",
          "model_name": "LayoutModel",
          "model_module_version": "1.2.0",
          "state": {
            "_model_module": "@jupyter-widgets/base",
            "_model_module_version": "1.2.0",
            "_model_name": "LayoutModel",
            "_view_count": null,
            "_view_module": "@jupyter-widgets/base",
            "_view_module_version": "1.2.0",
            "_view_name": "LayoutView",
            "align_content": null,
            "align_items": null,
            "align_self": null,
            "border": null,
            "bottom": null,
            "display": null,
            "flex": null,
            "flex_flow": null,
            "grid_area": null,
            "grid_auto_columns": null,
            "grid_auto_flow": null,
            "grid_auto_rows": null,
            "grid_column": null,
            "grid_gap": null,
            "grid_row": null,
            "grid_template_areas": null,
            "grid_template_columns": null,
            "grid_template_rows": null,
            "height": "auto",
            "justify_content": null,
            "justify_items": null,
            "left": null,
            "margin": null,
            "max_height": null,
            "max_width": null,
            "min_height": null,
            "min_width": null,
            "object_fit": null,
            "object_position": null,
            "order": null,
            "overflow": null,
            "overflow_x": null,
            "overflow_y": null,
            "padding": "0.5em",
            "right": null,
            "top": null,
            "visibility": null,
            "width": "auto"
          }
        },
        "8803e2d223a34efa86c70fc013148a02": {
          "model_module": "@jupyter-widgets/controls",
          "model_name": "ButtonStyleModel",
          "model_module_version": "1.5.0",
          "state": {
            "_model_module": "@jupyter-widgets/controls",
            "_model_module_version": "1.5.0",
            "_model_name": "ButtonStyleModel",
            "_view_count": null,
            "_view_module": "@jupyter-widgets/base",
            "_view_module_version": "1.2.0",
            "_view_name": "StyleView",
            "button_color": "#aaffaa",
            "font_weight": ""
          }
        },
        "59f1a482c4de4adfa6fd0416679a8c5b": {
          "model_module": "@jupyter-widgets/base",
          "model_name": "LayoutModel",
          "model_module_version": "1.2.0",
          "state": {
            "_model_module": "@jupyter-widgets/base",
            "_model_module_version": "1.2.0",
            "_model_name": "LayoutModel",
            "_view_count": null,
            "_view_module": "@jupyter-widgets/base",
            "_view_module_version": "1.2.0",
            "_view_name": "LayoutView",
            "align_content": null,
            "align_items": null,
            "align_self": null,
            "border": null,
            "bottom": null,
            "display": null,
            "flex": null,
            "flex_flow": null,
            "grid_area": null,
            "grid_auto_columns": null,
            "grid_auto_flow": null,
            "grid_auto_rows": null,
            "grid_column": null,
            "grid_gap": null,
            "grid_row": null,
            "grid_template_areas": null,
            "grid_template_columns": null,
            "grid_template_rows": null,
            "height": "auto",
            "justify_content": null,
            "justify_items": null,
            "left": null,
            "margin": null,
            "max_height": null,
            "max_width": null,
            "min_height": null,
            "min_width": null,
            "object_fit": null,
            "object_position": null,
            "order": null,
            "overflow": null,
            "overflow_x": null,
            "overflow_y": null,
            "padding": "0.5em",
            "right": null,
            "top": null,
            "visibility": null,
            "width": "auto"
          }
        },
        "4256da25de4946cf9724cfcdb36a9715": {
          "model_module": "@jupyter-widgets/controls",
          "model_name": "ButtonStyleModel",
          "model_module_version": "1.5.0",
          "state": {
            "_model_module": "@jupyter-widgets/controls",
            "_model_module_version": "1.5.0",
            "_model_name": "ButtonStyleModel",
            "_view_count": null,
            "_view_module": "@jupyter-widgets/base",
            "_view_module_version": "1.2.0",
            "_view_name": "StyleView",
            "button_color": "#dddd77",
            "font_weight": ""
          }
        },
        "657fb1e1b8e445dd86f11c5965387293": {
          "model_module": "@jupyter-widgets/base",
          "model_name": "LayoutModel",
          "model_module_version": "1.2.0",
          "state": {
            "_model_module": "@jupyter-widgets/base",
            "_model_module_version": "1.2.0",
            "_model_name": "LayoutModel",
            "_view_count": null,
            "_view_module": "@jupyter-widgets/base",
            "_view_module_version": "1.2.0",
            "_view_name": "LayoutView",
            "align_content": null,
            "align_items": null,
            "align_self": null,
            "border": null,
            "bottom": null,
            "display": null,
            "flex": null,
            "flex_flow": null,
            "grid_area": null,
            "grid_auto_columns": null,
            "grid_auto_flow": null,
            "grid_auto_rows": null,
            "grid_column": null,
            "grid_gap": null,
            "grid_row": null,
            "grid_template_areas": null,
            "grid_template_columns": null,
            "grid_template_rows": null,
            "height": "auto",
            "justify_content": null,
            "justify_items": null,
            "left": null,
            "margin": null,
            "max_height": null,
            "max_width": null,
            "min_height": null,
            "min_width": null,
            "object_fit": null,
            "object_position": null,
            "order": null,
            "overflow": null,
            "overflow_x": null,
            "overflow_y": null,
            "padding": "0.5em",
            "right": null,
            "top": null,
            "visibility": null,
            "width": "auto"
          }
        },
        "67ce244eb3224262b6214fb96dee0a7e": {
          "model_module": "@jupyter-widgets/controls",
          "model_name": "ButtonStyleModel",
          "model_module_version": "1.5.0",
          "state": {
            "_model_module": "@jupyter-widgets/controls",
            "_model_module_version": "1.5.0",
            "_model_name": "ButtonStyleModel",
            "_view_count": null,
            "_view_module": "@jupyter-widgets/base",
            "_view_module_version": "1.2.0",
            "_view_name": "StyleView",
            "button_color": "#ffaaaa",
            "font_weight": ""
          }
        },
        "7053a6e0a46f4f29b61624576dd025c9": {
          "model_module": "@jupyter-widgets/base",
          "model_name": "LayoutModel",
          "model_module_version": "1.2.0",
          "state": {
            "_model_module": "@jupyter-widgets/base",
            "_model_module_version": "1.2.0",
            "_model_name": "LayoutModel",
            "_view_count": null,
            "_view_module": "@jupyter-widgets/base",
            "_view_module_version": "1.2.0",
            "_view_name": "LayoutView",
            "align_content": null,
            "align_items": null,
            "align_self": null,
            "border": null,
            "bottom": null,
            "display": null,
            "flex": null,
            "flex_flow": null,
            "grid_area": null,
            "grid_auto_columns": null,
            "grid_auto_flow": null,
            "grid_auto_rows": null,
            "grid_column": null,
            "grid_gap": null,
            "grid_row": null,
            "grid_template_areas": null,
            "grid_template_columns": null,
            "grid_template_rows": null,
            "height": "auto",
            "justify_content": null,
            "justify_items": null,
            "left": null,
            "margin": null,
            "max_height": null,
            "max_width": null,
            "min_height": null,
            "min_width": null,
            "object_fit": null,
            "object_position": null,
            "order": null,
            "overflow": null,
            "overflow_x": null,
            "overflow_y": null,
            "padding": null,
            "right": null,
            "top": null,
            "visibility": null,
            "width": "auto"
          }
        },
        "5ce69f87c1c94d438dab52d1450642aa": {
          "model_module": "@jupyter-widgets/controls",
          "model_name": "DescriptionStyleModel",
          "model_module_version": "1.5.0",
          "state": {
            "_model_module": "@jupyter-widgets/controls",
            "_model_module_version": "1.5.0",
            "_model_name": "DescriptionStyleModel",
            "_view_count": null,
            "_view_module": "@jupyter-widgets/base",
            "_view_module_version": "1.2.0",
            "_view_name": "StyleView",
            "description_width": ""
          }
        },
        "d69e1ec382a2483fba83ba83f422e69f": {
          "model_module": "@jupyter-widgets/base",
          "model_name": "LayoutModel",
          "model_module_version": "1.2.0",
          "state": {
            "_model_module": "@jupyter-widgets/base",
            "_model_module_version": "1.2.0",
            "_model_name": "LayoutModel",
            "_view_count": null,
            "_view_module": "@jupyter-widgets/base",
            "_view_module_version": "1.2.0",
            "_view_name": "LayoutView",
            "align_content": null,
            "align_items": null,
            "align_self": null,
            "border": null,
            "bottom": null,
            "display": null,
            "flex": null,
            "flex_flow": null,
            "grid_area": null,
            "grid_auto_columns": null,
            "grid_auto_flow": null,
            "grid_auto_rows": null,
            "grid_column": null,
            "grid_gap": null,
            "grid_row": null,
            "grid_template_areas": null,
            "grid_template_columns": null,
            "grid_template_rows": null,
            "height": "auto",
            "justify_content": null,
            "justify_items": null,
            "left": null,
            "margin": null,
            "max_height": null,
            "max_width": null,
            "min_height": null,
            "min_width": null,
            "object_fit": null,
            "object_position": null,
            "order": null,
            "overflow": null,
            "overflow_x": null,
            "overflow_y": null,
            "padding": null,
            "right": null,
            "top": null,
            "visibility": null,
            "width": "auto"
          }
        },
        "792745ba696343d798d9feeb4d697872": {
          "model_module": "@jupyter-widgets/controls",
          "model_name": "ButtonStyleModel",
          "model_module_version": "1.5.0",
          "state": {
            "_model_module": "@jupyter-widgets/controls",
            "_model_module_version": "1.5.0",
            "_model_name": "ButtonStyleModel",
            "_view_count": null,
            "_view_module": "@jupyter-widgets/base",
            "_view_module_version": "1.2.0",
            "_view_name": "StyleView",
            "button_color": null,
            "font_weight": ""
          }
        },
        "4aa1d3141ba7413eaccf1edb80d612e8": {
          "model_module": "@jupyter-widgets/controls",
          "model_name": "TabModel",
          "model_module_version": "1.5.0",
          "state": {
            "_dom_classes": [],
            "_model_module": "@jupyter-widgets/controls",
            "_model_module_version": "1.5.0",
            "_model_name": "TabModel",
            "_titles": {
              "0": "Youtube",
              "1": "Bilibili"
            },
            "_view_count": null,
            "_view_module": "@jupyter-widgets/controls",
            "_view_module_version": "1.5.0",
            "_view_name": "TabView",
            "box_style": "",
            "children": [
              "IPY_MODEL_1bc28d9a48d1460185476b2566900c86",
              "IPY_MODEL_67f21ac29e704a1998f7c41c783cbbcc"
            ],
            "layout": "IPY_MODEL_ed1671aab63b45e1972d15ed1be07077",
            "selected_index": 0
          }
        },
        "1bc28d9a48d1460185476b2566900c86": {
          "model_module": "@jupyter-widgets/output",
          "model_name": "OutputModel",
          "model_module_version": "1.0.0",
          "state": {
            "_dom_classes": [],
            "_model_module": "@jupyter-widgets/output",
            "_model_module_version": "1.0.0",
            "_model_name": "OutputModel",
            "_view_count": null,
            "_view_module": "@jupyter-widgets/output",
            "_view_module_version": "1.0.0",
            "_view_name": "OutputView",
            "layout": "IPY_MODEL_dc99f7e3ff9c47388fc48ace29818861",
            "msg_id": "",
            "outputs": [
              {
                "output_type": "stream",
                "name": "stdout",
                "text": [
                  "Video available at https://youtube.com/watch?v=uPnTVbc4qUE\n"
                ]
              },
              {
                "output_type": "display_data",
                "data": {
                  "text/plain": "<IPython.lib.display.YouTubeVideo at 0x791834e4f650>",
                  "text/html": "\n        <iframe\n            width=\"854\"\n            height=\"480\"\n            src=\"https://www.youtube.com/embed/uPnTVbc4qUE?fs=1&rel=0\"\n            frameborder=\"0\"\n            allowfullscreen\n            \n        ></iframe>\n        ",
                  "image/jpeg": "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\n"
                },
                "metadata": {}
              }
            ]
          }
        },
        "67f21ac29e704a1998f7c41c783cbbcc": {
          "model_module": "@jupyter-widgets/output",
          "model_name": "OutputModel",
          "model_module_version": "1.0.0",
          "state": {
            "_dom_classes": [],
            "_model_module": "@jupyter-widgets/output",
            "_model_module_version": "1.0.0",
            "_model_name": "OutputModel",
            "_view_count": null,
            "_view_module": "@jupyter-widgets/output",
            "_view_module_version": "1.0.0",
            "_view_name": "OutputView",
            "layout": "IPY_MODEL_011462a82854470f8d8ecc30f366bc64",
            "msg_id": "",
            "outputs": [
              {
                "output_type": "stream",
                "name": "stdout",
                "text": [
                  "Video available at https://www.bilibili.com/video/BV1TM4y1E7ab\n"
                ]
              },
              {
                "output_type": "display_data",
                "data": {
                  "text/plain": "<__main__.PlayVideo at 0x791834e23a90>",
                  "text/html": "\n        <iframe\n            width=\"854\"\n            height=\"480\"\n            src=\"https://player.bilibili.com/player.html?bvid=BV1TM4y1E7ab&page=1?fs=1&autoplay=False\"\n            frameborder=\"0\"\n            allowfullscreen\n            \n        ></iframe>\n        "
                },
                "metadata": {}
              }
            ]
          }
        },
        "ed1671aab63b45e1972d15ed1be07077": {
          "model_module": "@jupyter-widgets/base",
          "model_name": "LayoutModel",
          "model_module_version": "1.2.0",
          "state": {
            "_model_module": "@jupyter-widgets/base",
            "_model_module_version": "1.2.0",
            "_model_name": "LayoutModel",
            "_view_count": null,
            "_view_module": "@jupyter-widgets/base",
            "_view_module_version": "1.2.0",
            "_view_name": "LayoutView",
            "align_content": null,
            "align_items": null,
            "align_self": null,
            "border": null,
            "bottom": null,
            "display": null,
            "flex": null,
            "flex_flow": null,
            "grid_area": null,
            "grid_auto_columns": null,
            "grid_auto_flow": null,
            "grid_auto_rows": null,
            "grid_column": null,
            "grid_gap": null,
            "grid_row": null,
            "grid_template_areas": null,
            "grid_template_columns": null,
            "grid_template_rows": null,
            "height": null,
            "justify_content": null,
            "justify_items": null,
            "left": null,
            "margin": null,
            "max_height": null,
            "max_width": null,
            "min_height": null,
            "min_width": null,
            "object_fit": null,
            "object_position": null,
            "order": null,
            "overflow": null,
            "overflow_x": null,
            "overflow_y": null,
            "padding": null,
            "right": null,
            "top": null,
            "visibility": null,
            "width": null
          }
        },
        "dc99f7e3ff9c47388fc48ace29818861": {
          "model_module": "@jupyter-widgets/base",
          "model_name": "LayoutModel",
          "model_module_version": "1.2.0",
          "state": {
            "_model_module": "@jupyter-widgets/base",
            "_model_module_version": "1.2.0",
            "_model_name": "LayoutModel",
            "_view_count": null,
            "_view_module": "@jupyter-widgets/base",
            "_view_module_version": "1.2.0",
            "_view_name": "LayoutView",
            "align_content": null,
            "align_items": null,
            "align_self": null,
            "border": null,
            "bottom": null,
            "display": null,
            "flex": null,
            "flex_flow": null,
            "grid_area": null,
            "grid_auto_columns": null,
            "grid_auto_flow": null,
            "grid_auto_rows": null,
            "grid_column": null,
            "grid_gap": null,
            "grid_row": null,
            "grid_template_areas": null,
            "grid_template_columns": null,
            "grid_template_rows": null,
            "height": null,
            "justify_content": null,
            "justify_items": null,
            "left": null,
            "margin": null,
            "max_height": null,
            "max_width": null,
            "min_height": null,
            "min_width": null,
            "object_fit": null,
            "object_position": null,
            "order": null,
            "overflow": null,
            "overflow_x": null,
            "overflow_y": null,
            "padding": null,
            "right": null,
            "top": null,
            "visibility": null,
            "width": null
          }
        },
        "011462a82854470f8d8ecc30f366bc64": {
          "model_module": "@jupyter-widgets/base",
          "model_name": "LayoutModel",
          "model_module_version": "1.2.0",
          "state": {
            "_model_module": "@jupyter-widgets/base",
            "_model_module_version": "1.2.0",
            "_model_name": "LayoutModel",
            "_view_count": null,
            "_view_module": "@jupyter-widgets/base",
            "_view_module_version": "1.2.0",
            "_view_name": "LayoutView",
            "align_content": null,
            "align_items": null,
            "align_self": null,
            "border": null,
            "bottom": null,
            "display": null,
            "flex": null,
            "flex_flow": null,
            "grid_area": null,
            "grid_auto_columns": null,
            "grid_auto_flow": null,
            "grid_auto_rows": null,
            "grid_column": null,
            "grid_gap": null,
            "grid_row": null,
            "grid_template_areas": null,
            "grid_template_columns": null,
            "grid_template_rows": null,
            "height": null,
            "justify_content": null,
            "justify_items": null,
            "left": null,
            "margin": null,
            "max_height": null,
            "max_width": null,
            "min_height": null,
            "min_width": null,
            "object_fit": null,
            "object_position": null,
            "order": null,
            "overflow": null,
            "overflow_x": null,
            "overflow_y": null,
            "padding": null,
            "right": null,
            "top": null,
            "visibility": null,
            "width": null
          }
        },
        "0f63a18c6f0345dea3e45a1db5fb41b5": {
          "model_module": "@jupyter-widgets/controls",
          "model_name": "VBoxModel",
          "model_module_version": "1.5.0",
          "state": {
            "_dom_classes": [],
            "_model_module": "@jupyter-widgets/controls",
            "_model_module_version": "1.5.0",
            "_model_name": "VBoxModel",
            "_view_count": null,
            "_view_module": "@jupyter-widgets/controls",
            "_view_module_version": "1.5.0",
            "_view_name": "VBoxView",
            "box_style": "",
            "children": [
              "IPY_MODEL_b0de1bb4bc52407ca10648740a01e63e"
            ],
            "layout": "IPY_MODEL_8065be7bacb746069ba5cfc187ffb46a"
          }
        },
        "b0de1bb4bc52407ca10648740a01e63e": {
          "model_module": "@jupyter-widgets/controls",
          "model_name": "VBoxModel",
          "model_module_version": "1.5.0",
          "state": {
            "_dom_classes": [],
            "_model_module": "@jupyter-widgets/controls",
            "_model_module_version": "1.5.0",
            "_model_name": "VBoxModel",
            "_view_count": null,
            "_view_module": "@jupyter-widgets/controls",
            "_view_module_version": "1.5.0",
            "_view_name": "VBoxView",
            "box_style": "",
            "children": [
              "IPY_MODEL_dc9b16b1163a416c8942aa9104ee50ab",
              "IPY_MODEL_fe202636ed31415ebd8835a3f23560f2",
              "IPY_MODEL_9e5dc5aaa340434eb211174c1de1a4c0"
            ],
            "layout": "IPY_MODEL_c8f4393741f143a5b3018aeb4d52910f"
          }
        },
        "8065be7bacb746069ba5cfc187ffb46a": {
          "model_module": "@jupyter-widgets/base",
          "model_name": "LayoutModel",
          "model_module_version": "1.2.0",
          "state": {
            "_model_module": "@jupyter-widgets/base",
            "_model_module_version": "1.2.0",
            "_model_name": "LayoutModel",
            "_view_count": null,
            "_view_module": "@jupyter-widgets/base",
            "_view_module_version": "1.2.0",
            "_view_name": "LayoutView",
            "align_content": null,
            "align_items": null,
            "align_self": null,
            "border": null,
            "bottom": null,
            "display": null,
            "flex": null,
            "flex_flow": null,
            "grid_area": null,
            "grid_auto_columns": null,
            "grid_auto_flow": null,
            "grid_auto_rows": null,
            "grid_column": null,
            "grid_gap": null,
            "grid_row": null,
            "grid_template_areas": null,
            "grid_template_columns": null,
            "grid_template_rows": null,
            "height": null,
            "justify_content": null,
            "justify_items": null,
            "left": null,
            "margin": null,
            "max_height": null,
            "max_width": null,
            "min_height": null,
            "min_width": null,
            "object_fit": null,
            "object_position": null,
            "order": null,
            "overflow": null,
            "overflow_x": null,
            "overflow_y": null,
            "padding": null,
            "right": null,
            "top": null,
            "visibility": null,
            "width": null
          }
        },
        "dc9b16b1163a416c8942aa9104ee50ab": {
          "model_module": "@jupyter-widgets/controls",
          "model_name": "HBoxModel",
          "model_module_version": "1.5.0",
          "state": {
            "_dom_classes": [],
            "_model_module": "@jupyter-widgets/controls",
            "_model_module_version": "1.5.0",
            "_model_name": "HBoxModel",
            "_view_count": null,
            "_view_module": "@jupyter-widgets/controls",
            "_view_module_version": "1.5.0",
            "_view_name": "HBoxView",
            "box_style": "",
            "children": [
              "IPY_MODEL_048036de84eb4b97aa56347a7902f6a5",
              "IPY_MODEL_717f988b84f241699b5863cfb2da985f",
              "IPY_MODEL_fd2a8f3e954346ceb47fe00da0cc57d6"
            ],
            "layout": "IPY_MODEL_e71ea332564741c29f88a155dcfd5660"
          }
        },
        "fe202636ed31415ebd8835a3f23560f2": {
          "model_module": "@jupyter-widgets/controls",
          "model_name": "HBoxModel",
          "model_module_version": "1.5.0",
          "state": {
            "_dom_classes": [],
            "_model_module": "@jupyter-widgets/controls",
            "_model_module_version": "1.5.0",
            "_model_name": "HBoxModel",
            "_view_count": null,
            "_view_module": "@jupyter-widgets/controls",
            "_view_module_version": "1.5.0",
            "_view_name": "HBoxView",
            "box_style": "",
            "children": [
              "IPY_MODEL_4922ee8d37c548cdb401f1fc67743eb9",
              "IPY_MODEL_bd90d3598ce3420d98ae83a7ce8f87ed"
            ],
            "layout": "IPY_MODEL_5ddd7e1294ee48b882c453f76709a3f2"
          }
        },
        "9e5dc5aaa340434eb211174c1de1a4c0": {
          "model_module": "@jupyter-widgets/controls",
          "model_name": "LabelModel",
          "model_module_version": "1.5.0",
          "state": {
            "_dom_classes": [],
            "_model_module": "@jupyter-widgets/controls",
            "_model_module_version": "1.5.0",
            "_model_name": "LabelModel",
            "_view_count": null,
            "_view_module": "@jupyter-widgets/controls",
            "_view_module_version": "1.5.0",
            "_view_name": "LabelView",
            "description": "",
            "description_tooltip": null,
            "layout": "IPY_MODEL_1e30706fe7dc40d8a12ebee8d2d8e0b9",
            "placeholder": "​",
            "style": "IPY_MODEL_4e6369d0969f4d3ea47b1142019ef85a",
            "value": "Thanks for your feedback!"
          }
        },
        "c8f4393741f143a5b3018aeb4d52910f": {
          "model_module": "@jupyter-widgets/base",
          "model_name": "LayoutModel",
          "model_module_version": "1.2.0",
          "state": {
            "_model_module": "@jupyter-widgets/base",
            "_model_module_version": "1.2.0",
            "_model_name": "LayoutModel",
            "_view_count": null,
            "_view_module": "@jupyter-widgets/base",
            "_view_module_version": "1.2.0",
            "_view_name": "LayoutView",
            "align_content": null,
            "align_items": null,
            "align_self": null,
            "border": null,
            "bottom": null,
            "display": null,
            "flex": null,
            "flex_flow": null,
            "grid_area": null,
            "grid_auto_columns": null,
            "grid_auto_flow": null,
            "grid_auto_rows": null,
            "grid_column": null,
            "grid_gap": null,
            "grid_row": null,
            "grid_template_areas": null,
            "grid_template_columns": null,
            "grid_template_rows": null,
            "height": null,
            "justify_content": null,
            "justify_items": null,
            "left": null,
            "margin": null,
            "max_height": null,
            "max_width": null,
            "min_height": null,
            "min_width": null,
            "object_fit": null,
            "object_position": null,
            "order": null,
            "overflow": null,
            "overflow_x": null,
            "overflow_y": null,
            "padding": null,
            "right": null,
            "top": null,
            "visibility": null,
            "width": null
          }
        },
        "048036de84eb4b97aa56347a7902f6a5": {
          "model_module": "@jupyter-widgets/controls",
          "model_name": "ButtonModel",
          "model_module_version": "1.5.0",
          "state": {
            "_dom_classes": [
              "happy"
            ],
            "_model_module": "@jupyter-widgets/controls",
            "_model_module_version": "1.5.0",
            "_model_name": "ButtonModel",
            "_view_count": null,
            "_view_module": "@jupyter-widgets/controls",
            "_view_module_version": "1.5.0",
            "_view_name": "ButtonView",
            "button_style": "",
            "description": "🙂",
            "disabled": false,
            "icon": "",
            "layout": "IPY_MODEL_113ed4f31c914a388029ea819135044a",
            "style": "IPY_MODEL_2c9712b41abb47c0ba5f144e05fecf02",
            "tooltip": "happy"
          }
        },
        "717f988b84f241699b5863cfb2da985f": {
          "model_module": "@jupyter-widgets/controls",
          "model_name": "ButtonModel",
          "model_module_version": "1.5.0",
          "state": {
            "_dom_classes": [
              "medium"
            ],
            "_model_module": "@jupyter-widgets/controls",
            "_model_module_version": "1.5.0",
            "_model_name": "ButtonModel",
            "_view_count": null,
            "_view_module": "@jupyter-widgets/controls",
            "_view_module_version": "1.5.0",
            "_view_name": "ButtonView",
            "button_style": "",
            "description": "😐",
            "disabled": false,
            "icon": "",
            "layout": "IPY_MODEL_f7dd7eb471a74f2bab25723d8eff19f5",
            "style": "IPY_MODEL_e8bb63cac32f4dd5a10b0bd13fa3b269",
            "tooltip": "medium"
          }
        },
        "fd2a8f3e954346ceb47fe00da0cc57d6": {
          "model_module": "@jupyter-widgets/controls",
          "model_name": "ButtonModel",
          "model_module_version": "1.5.0",
          "state": {
            "_dom_classes": [
              "sad"
            ],
            "_model_module": "@jupyter-widgets/controls",
            "_model_module_version": "1.5.0",
            "_model_name": "ButtonModel",
            "_view_count": null,
            "_view_module": "@jupyter-widgets/controls",
            "_view_module_version": "1.5.0",
            "_view_name": "ButtonView",
            "button_style": "",
            "description": "🙁",
            "disabled": false,
            "icon": "",
            "layout": "IPY_MODEL_e8acc431052344b28a2e3f6852a6fe4b",
            "style": "IPY_MODEL_52713a4fcf534a6c813cfbfdc1a6b3d6",
            "tooltip": "sad"
          }
        },
        "e71ea332564741c29f88a155dcfd5660": {
          "model_module": "@jupyter-widgets/base",
          "model_name": "LayoutModel",
          "model_module_version": "1.2.0",
          "state": {
            "_model_module": "@jupyter-widgets/base",
            "_model_module_version": "1.2.0",
            "_model_name": "LayoutModel",
            "_view_count": null,
            "_view_module": "@jupyter-widgets/base",
            "_view_module_version": "1.2.0",
            "_view_name": "LayoutView",
            "align_content": null,
            "align_items": null,
            "align_self": null,
            "border": null,
            "bottom": null,
            "display": null,
            "flex": null,
            "flex_flow": null,
            "grid_area": null,
            "grid_auto_columns": null,
            "grid_auto_flow": null,
            "grid_auto_rows": null,
            "grid_column": null,
            "grid_gap": null,
            "grid_row": null,
            "grid_template_areas": null,
            "grid_template_columns": null,
            "grid_template_rows": null,
            "height": null,
            "justify_content": null,
            "justify_items": null,
            "left": null,
            "margin": null,
            "max_height": null,
            "max_width": null,
            "min_height": null,
            "min_width": null,
            "object_fit": null,
            "object_position": null,
            "order": null,
            "overflow": null,
            "overflow_x": null,
            "overflow_y": null,
            "padding": null,
            "right": null,
            "top": null,
            "visibility": null,
            "width": null
          }
        },
        "4922ee8d37c548cdb401f1fc67743eb9": {
          "model_module": "@jupyter-widgets/controls",
          "model_name": "TextareaModel",
          "model_module_version": "1.5.0",
          "state": {
            "_dom_classes": [],
            "_model_module": "@jupyter-widgets/controls",
            "_model_module_version": "1.5.0",
            "_model_name": "TextareaModel",
            "_view_count": null,
            "_view_module": "@jupyter-widgets/controls",
            "_view_module_version": "1.5.0",
            "_view_name": "TextareaView",
            "continuous_update": true,
            "description": "",
            "description_tooltip": null,
            "disabled": false,
            "layout": "IPY_MODEL_2e6786dbd1dd4105864b932e96cebd91",
            "placeholder": "We want your feedback!",
            "rows": null,
            "style": "IPY_MODEL_f14612f08a1946e8b5f40a8397ded01d",
            "value": ""
          }
        },
        "bd90d3598ce3420d98ae83a7ce8f87ed": {
          "model_module": "@jupyter-widgets/controls",
          "model_name": "ButtonModel",
          "model_module_version": "1.5.0",
          "state": {
            "_dom_classes": [],
            "_model_module": "@jupyter-widgets/controls",
            "_model_module_version": "1.5.0",
            "_model_name": "ButtonModel",
            "_view_count": null,
            "_view_module": "@jupyter-widgets/controls",
            "_view_module_version": "1.5.0",
            "_view_name": "ButtonView",
            "button_style": "",
            "description": "Submit",
            "disabled": false,
            "icon": "",
            "layout": "IPY_MODEL_b5bb1b9f5f094349b56ea2e53fc3b33d",
            "style": "IPY_MODEL_ff69a1c0790745adb19f3930619930b6",
            "tooltip": ""
          }
        },
        "5ddd7e1294ee48b882c453f76709a3f2": {
          "model_module": "@jupyter-widgets/base",
          "model_name": "LayoutModel",
          "model_module_version": "1.2.0",
          "state": {
            "_model_module": "@jupyter-widgets/base",
            "_model_module_version": "1.2.0",
            "_model_name": "LayoutModel",
            "_view_count": null,
            "_view_module": "@jupyter-widgets/base",
            "_view_module_version": "1.2.0",
            "_view_name": "LayoutView",
            "align_content": null,
            "align_items": null,
            "align_self": null,
            "border": null,
            "bottom": null,
            "display": "none",
            "flex": null,
            "flex_flow": null,
            "grid_area": null,
            "grid_auto_columns": null,
            "grid_auto_flow": null,
            "grid_auto_rows": null,
            "grid_column": null,
            "grid_gap": null,
            "grid_row": null,
            "grid_template_areas": null,
            "grid_template_columns": null,
            "grid_template_rows": null,
            "height": null,
            "justify_content": null,
            "justify_items": null,
            "left": null,
            "margin": null,
            "max_height": null,
            "max_width": null,
            "min_height": null,
            "min_width": null,
            "object_fit": null,
            "object_position": null,
            "order": null,
            "overflow": null,
            "overflow_x": null,
            "overflow_y": null,
            "padding": null,
            "right": null,
            "top": null,
            "visibility": null,
            "width": null
          }
        },
        "1e30706fe7dc40d8a12ebee8d2d8e0b9": {
          "model_module": "@jupyter-widgets/base",
          "model_name": "LayoutModel",
          "model_module_version": "1.2.0",
          "state": {
            "_model_module": "@jupyter-widgets/base",
            "_model_module_version": "1.2.0",
            "_model_name": "LayoutModel",
            "_view_count": null,
            "_view_module": "@jupyter-widgets/base",
            "_view_module_version": "1.2.0",
            "_view_name": "LayoutView",
            "align_content": null,
            "align_items": null,
            "align_self": null,
            "border": null,
            "bottom": null,
            "display": "none",
            "flex": null,
            "flex_flow": null,
            "grid_area": null,
            "grid_auto_columns": null,
            "grid_auto_flow": null,
            "grid_auto_rows": null,
            "grid_column": null,
            "grid_gap": null,
            "grid_row": null,
            "grid_template_areas": null,
            "grid_template_columns": null,
            "grid_template_rows": null,
            "height": null,
            "justify_content": null,
            "justify_items": null,
            "left": null,
            "margin": null,
            "max_height": null,
            "max_width": null,
            "min_height": null,
            "min_width": null,
            "object_fit": null,
            "object_position": null,
            "order": null,
            "overflow": null,
            "overflow_x": null,
            "overflow_y": null,
            "padding": null,
            "right": null,
            "top": null,
            "visibility": null,
            "width": null
          }
        },
        "4e6369d0969f4d3ea47b1142019ef85a": {
          "model_module": "@jupyter-widgets/controls",
          "model_name": "DescriptionStyleModel",
          "model_module_version": "1.5.0",
          "state": {
            "_model_module": "@jupyter-widgets/controls",
            "_model_module_version": "1.5.0",
            "_model_name": "DescriptionStyleModel",
            "_view_count": null,
            "_view_module": "@jupyter-widgets/base",
            "_view_module_version": "1.2.0",
            "_view_name": "StyleView",
            "description_width": ""
          }
        },
        "113ed4f31c914a388029ea819135044a": {
          "model_module": "@jupyter-widgets/base",
          "model_name": "LayoutModel",
          "model_module_version": "1.2.0",
          "state": {
            "_model_module": "@jupyter-widgets/base",
            "_model_module_version": "1.2.0",
            "_model_name": "LayoutModel",
            "_view_count": null,
            "_view_module": "@jupyter-widgets/base",
            "_view_module_version": "1.2.0",
            "_view_name": "LayoutView",
            "align_content": null,
            "align_items": null,
            "align_self": null,
            "border": null,
            "bottom": null,
            "display": null,
            "flex": null,
            "flex_flow": null,
            "grid_area": null,
            "grid_auto_columns": null,
            "grid_auto_flow": null,
            "grid_auto_rows": null,
            "grid_column": null,
            "grid_gap": null,
            "grid_row": null,
            "grid_template_areas": null,
            "grid_template_columns": null,
            "grid_template_rows": null,
            "height": "auto",
            "justify_content": null,
            "justify_items": null,
            "left": null,
            "margin": null,
            "max_height": null,
            "max_width": null,
            "min_height": null,
            "min_width": null,
            "object_fit": null,
            "object_position": null,
            "order": null,
            "overflow": null,
            "overflow_x": null,
            "overflow_y": null,
            "padding": "0.5em",
            "right": null,
            "top": null,
            "visibility": null,
            "width": "auto"
          }
        },
        "2c9712b41abb47c0ba5f144e05fecf02": {
          "model_module": "@jupyter-widgets/controls",
          "model_name": "ButtonStyleModel",
          "model_module_version": "1.5.0",
          "state": {
            "_model_module": "@jupyter-widgets/controls",
            "_model_module_version": "1.5.0",
            "_model_name": "ButtonStyleModel",
            "_view_count": null,
            "_view_module": "@jupyter-widgets/base",
            "_view_module_version": "1.2.0",
            "_view_name": "StyleView",
            "button_color": "#aaffaa",
            "font_weight": ""
          }
        },
        "f7dd7eb471a74f2bab25723d8eff19f5": {
          "model_module": "@jupyter-widgets/base",
          "model_name": "LayoutModel",
          "model_module_version": "1.2.0",
          "state": {
            "_model_module": "@jupyter-widgets/base",
            "_model_module_version": "1.2.0",
            "_model_name": "LayoutModel",
            "_view_count": null,
            "_view_module": "@jupyter-widgets/base",
            "_view_module_version": "1.2.0",
            "_view_name": "LayoutView",
            "align_content": null,
            "align_items": null,
            "align_self": null,
            "border": null,
            "bottom": null,
            "display": null,
            "flex": null,
            "flex_flow": null,
            "grid_area": null,
            "grid_auto_columns": null,
            "grid_auto_flow": null,
            "grid_auto_rows": null,
            "grid_column": null,
            "grid_gap": null,
            "grid_row": null,
            "grid_template_areas": null,
            "grid_template_columns": null,
            "grid_template_rows": null,
            "height": "auto",
            "justify_content": null,
            "justify_items": null,
            "left": null,
            "margin": null,
            "max_height": null,
            "max_width": null,
            "min_height": null,
            "min_width": null,
            "object_fit": null,
            "object_position": null,
            "order": null,
            "overflow": null,
            "overflow_x": null,
            "overflow_y": null,
            "padding": "0.5em",
            "right": null,
            "top": null,
            "visibility": null,
            "width": "auto"
          }
        },
        "e8bb63cac32f4dd5a10b0bd13fa3b269": {
          "model_module": "@jupyter-widgets/controls",
          "model_name": "ButtonStyleModel",
          "model_module_version": "1.5.0",
          "state": {
            "_model_module": "@jupyter-widgets/controls",
            "_model_module_version": "1.5.0",
            "_model_name": "ButtonStyleModel",
            "_view_count": null,
            "_view_module": "@jupyter-widgets/base",
            "_view_module_version": "1.2.0",
            "_view_name": "StyleView",
            "button_color": "#dddd77",
            "font_weight": ""
          }
        },
        "e8acc431052344b28a2e3f6852a6fe4b": {
          "model_module": "@jupyter-widgets/base",
          "model_name": "LayoutModel",
          "model_module_version": "1.2.0",
          "state": {
            "_model_module": "@jupyter-widgets/base",
            "_model_module_version": "1.2.0",
            "_model_name": "LayoutModel",
            "_view_count": null,
            "_view_module": "@jupyter-widgets/base",
            "_view_module_version": "1.2.0",
            "_view_name": "LayoutView",
            "align_content": null,
            "align_items": null,
            "align_self": null,
            "border": null,
            "bottom": null,
            "display": null,
            "flex": null,
            "flex_flow": null,
            "grid_area": null,
            "grid_auto_columns": null,
            "grid_auto_flow": null,
            "grid_auto_rows": null,
            "grid_column": null,
            "grid_gap": null,
            "grid_row": null,
            "grid_template_areas": null,
            "grid_template_columns": null,
            "grid_template_rows": null,
            "height": "auto",
            "justify_content": null,
            "justify_items": null,
            "left": null,
            "margin": null,
            "max_height": null,
            "max_width": null,
            "min_height": null,
            "min_width": null,
            "object_fit": null,
            "object_position": null,
            "order": null,
            "overflow": null,
            "overflow_x": null,
            "overflow_y": null,
            "padding": "0.5em",
            "right": null,
            "top": null,
            "visibility": null,
            "width": "auto"
          }
        },
        "52713a4fcf534a6c813cfbfdc1a6b3d6": {
          "model_module": "@jupyter-widgets/controls",
          "model_name": "ButtonStyleModel",
          "model_module_version": "1.5.0",
          "state": {
            "_model_module": "@jupyter-widgets/controls",
            "_model_module_version": "1.5.0",
            "_model_name": "ButtonStyleModel",
            "_view_count": null,
            "_view_module": "@jupyter-widgets/base",
            "_view_module_version": "1.2.0",
            "_view_name": "StyleView",
            "button_color": "#ffaaaa",
            "font_weight": ""
          }
        },
        "2e6786dbd1dd4105864b932e96cebd91": {
          "model_module": "@jupyter-widgets/base",
          "model_name": "LayoutModel",
          "model_module_version": "1.2.0",
          "state": {
            "_model_module": "@jupyter-widgets/base",
            "_model_module_version": "1.2.0",
            "_model_name": "LayoutModel",
            "_view_count": null,
            "_view_module": "@jupyter-widgets/base",
            "_view_module_version": "1.2.0",
            "_view_name": "LayoutView",
            "align_content": null,
            "align_items": null,
            "align_self": null,
            "border": null,
            "bottom": null,
            "display": null,
            "flex": null,
            "flex_flow": null,
            "grid_area": null,
            "grid_auto_columns": null,
            "grid_auto_flow": null,
            "grid_auto_rows": null,
            "grid_column": null,
            "grid_gap": null,
            "grid_row": null,
            "grid_template_areas": null,
            "grid_template_columns": null,
            "grid_template_rows": null,
            "height": "auto",
            "justify_content": null,
            "justify_items": null,
            "left": null,
            "margin": null,
            "max_height": null,
            "max_width": null,
            "min_height": null,
            "min_width": null,
            "object_fit": null,
            "object_position": null,
            "order": null,
            "overflow": null,
            "overflow_x": null,
            "overflow_y": null,
            "padding": null,
            "right": null,
            "top": null,
            "visibility": null,
            "width": "auto"
          }
        },
        "f14612f08a1946e8b5f40a8397ded01d": {
          "model_module": "@jupyter-widgets/controls",
          "model_name": "DescriptionStyleModel",
          "model_module_version": "1.5.0",
          "state": {
            "_model_module": "@jupyter-widgets/controls",
            "_model_module_version": "1.5.0",
            "_model_name": "DescriptionStyleModel",
            "_view_count": null,
            "_view_module": "@jupyter-widgets/base",
            "_view_module_version": "1.2.0",
            "_view_name": "StyleView",
            "description_width": ""
          }
        },
        "b5bb1b9f5f094349b56ea2e53fc3b33d": {
          "model_module": "@jupyter-widgets/base",
          "model_name": "LayoutModel",
          "model_module_version": "1.2.0",
          "state": {
            "_model_module": "@jupyter-widgets/base",
            "_model_module_version": "1.2.0",
            "_model_name": "LayoutModel",
            "_view_count": null,
            "_view_module": "@jupyter-widgets/base",
            "_view_module_version": "1.2.0",
            "_view_name": "LayoutView",
            "align_content": null,
            "align_items": null,
            "align_self": null,
            "border": null,
            "bottom": null,
            "display": null,
            "flex": null,
            "flex_flow": null,
            "grid_area": null,
            "grid_auto_columns": null,
            "grid_auto_flow": null,
            "grid_auto_rows": null,
            "grid_column": null,
            "grid_gap": null,
            "grid_row": null,
            "grid_template_areas": null,
            "grid_template_columns": null,
            "grid_template_rows": null,
            "height": "auto",
            "justify_content": null,
            "justify_items": null,
            "left": null,
            "margin": null,
            "max_height": null,
            "max_width": null,
            "min_height": null,
            "min_width": null,
            "object_fit": null,
            "object_position": null,
            "order": null,
            "overflow": null,
            "overflow_x": null,
            "overflow_y": null,
            "padding": null,
            "right": null,
            "top": null,
            "visibility": null,
            "width": "auto"
          }
        },
        "ff69a1c0790745adb19f3930619930b6": {
          "model_module": "@jupyter-widgets/controls",
          "model_name": "ButtonStyleModel",
          "model_module_version": "1.5.0",
          "state": {
            "_model_module": "@jupyter-widgets/controls",
            "_model_module_version": "1.5.0",
            "_model_name": "ButtonStyleModel",
            "_view_count": null,
            "_view_module": "@jupyter-widgets/base",
            "_view_module_version": "1.2.0",
            "_view_name": "StyleView",
            "button_color": null,
            "font_weight": ""
          }
        },
        "715368e744114bd5bd852e4feb8d9e26": {
          "model_module": "@jupyter-widgets/controls",
          "model_name": "HBoxModel",
          "model_module_version": "1.5.0",
          "state": {
            "_dom_classes": [],
            "_model_module": "@jupyter-widgets/controls",
            "_model_module_version": "1.5.0",
            "_model_name": "HBoxModel",
            "_view_count": null,
            "_view_module": "@jupyter-widgets/controls",
            "_view_module_version": "1.5.0",
            "_view_name": "HBoxView",
            "box_style": "",
            "children": [
              "IPY_MODEL_7efab690ecda4509b3d89eb0cb0521f9",
              "IPY_MODEL_d83d9907f4b14962a2fc45d238c9b7c8",
              "IPY_MODEL_be2171c48a1c48f69411f31ae6b300ea"
            ],
            "layout": "IPY_MODEL_f1e7854b3ffb4cbbbbd01f92182b1e64"
          }
        },
        "7efab690ecda4509b3d89eb0cb0521f9": {
          "model_module": "@jupyter-widgets/controls",
          "model_name": "HTMLModel",
          "model_module_version": "1.5.0",
          "state": {
            "_dom_classes": [],
            "_model_module": "@jupyter-widgets/controls",
            "_model_module_version": "1.5.0",
            "_model_name": "HTMLModel",
            "_view_count": null,
            "_view_module": "@jupyter-widgets/controls",
            "_view_module_version": "1.5.0",
            "_view_name": "HTMLView",
            "description": "",
            "description_tooltip": null,
            "layout": "IPY_MODEL_352272b941c74e138d53aabd9129cf5f",
            "placeholder": "​",
            "style": "IPY_MODEL_d255d8896bb54fac8fe31cff753c4c29",
            "value": "README.md: "
          }
        },
        "d83d9907f4b14962a2fc45d238c9b7c8": {
          "model_module": "@jupyter-widgets/controls",
          "model_name": "FloatProgressModel",
          "model_module_version": "1.5.0",
          "state": {
            "_dom_classes": [],
            "_model_module": "@jupyter-widgets/controls",
            "_model_module_version": "1.5.0",
            "_model_name": "FloatProgressModel",
            "_view_count": null,
            "_view_module": "@jupyter-widgets/controls",
            "_view_module_version": "1.5.0",
            "_view_name": "ProgressView",
            "bar_style": "success",
            "description": "",
            "description_tooltip": null,
            "layout": "IPY_MODEL_cd6d7d3647404ef58ef092308af4a157",
            "max": 1,
            "min": 0,
            "orientation": "horizontal",
            "style": "IPY_MODEL_093d65328e8948c1b7d54d907e4c1142",
            "value": 1
          }
        },
        "be2171c48a1c48f69411f31ae6b300ea": {
          "model_module": "@jupyter-widgets/controls",
          "model_name": "HTMLModel",
          "model_module_version": "1.5.0",
          "state": {
            "_dom_classes": [],
            "_model_module": "@jupyter-widgets/controls",
            "_model_module_version": "1.5.0",
            "_model_name": "HTMLModel",
            "_view_count": null,
            "_view_module": "@jupyter-widgets/controls",
            "_view_module_version": "1.5.0",
            "_view_name": "HTMLView",
            "description": "",
            "description_tooltip": null,
            "layout": "IPY_MODEL_ae3a3e4d7a3048a88d5c70b14819173a",
            "placeholder": "​",
            "style": "IPY_MODEL_d10f7b218e2a421993abc8bd763c6fd8",
            "value": " 10.5k/? [00:00&lt;00:00, 495kB/s]"
          }
        },
        "f1e7854b3ffb4cbbbbd01f92182b1e64": {
          "model_module": "@jupyter-widgets/base",
          "model_name": "LayoutModel",
          "model_module_version": "1.2.0",
          "state": {
            "_model_module": "@jupyter-widgets/base",
            "_model_module_version": "1.2.0",
            "_model_name": "LayoutModel",
            "_view_count": null,
            "_view_module": "@jupyter-widgets/base",
            "_view_module_version": "1.2.0",
            "_view_name": "LayoutView",
            "align_content": null,
            "align_items": null,
            "align_self": null,
            "border": null,
            "bottom": null,
            "display": null,
            "flex": null,
            "flex_flow": null,
            "grid_area": null,
            "grid_auto_columns": null,
            "grid_auto_flow": null,
            "grid_auto_rows": null,
            "grid_column": null,
            "grid_gap": null,
            "grid_row": null,
            "grid_template_areas": null,
            "grid_template_columns": null,
            "grid_template_rows": null,
            "height": null,
            "justify_content": null,
            "justify_items": null,
            "left": null,
            "margin": null,
            "max_height": null,
            "max_width": null,
            "min_height": null,
            "min_width": null,
            "object_fit": null,
            "object_position": null,
            "order": null,
            "overflow": null,
            "overflow_x": null,
            "overflow_y": null,
            "padding": null,
            "right": null,
            "top": null,
            "visibility": null,
            "width": null
          }
        },
        "352272b941c74e138d53aabd9129cf5f": {
          "model_module": "@jupyter-widgets/base",
          "model_name": "LayoutModel",
          "model_module_version": "1.2.0",
          "state": {
            "_model_module": "@jupyter-widgets/base",
            "_model_module_version": "1.2.0",
            "_model_name": "LayoutModel",
            "_view_count": null,
            "_view_module": "@jupyter-widgets/base",
            "_view_module_version": "1.2.0",
            "_view_name": "LayoutView",
            "align_content": null,
            "align_items": null,
            "align_self": null,
            "border": null,
            "bottom": null,
            "display": null,
            "flex": null,
            "flex_flow": null,
            "grid_area": null,
            "grid_auto_columns": null,
            "grid_auto_flow": null,
            "grid_auto_rows": null,
            "grid_column": null,
            "grid_gap": null,
            "grid_row": null,
            "grid_template_areas": null,
            "grid_template_columns": null,
            "grid_template_rows": null,
            "height": null,
            "justify_content": null,
            "justify_items": null,
            "left": null,
            "margin": null,
            "max_height": null,
            "max_width": null,
            "min_height": null,
            "min_width": null,
            "object_fit": null,
            "object_position": null,
            "order": null,
            "overflow": null,
            "overflow_x": null,
            "overflow_y": null,
            "padding": null,
            "right": null,
            "top": null,
            "visibility": null,
            "width": null
          }
        },
        "d255d8896bb54fac8fe31cff753c4c29": {
          "model_module": "@jupyter-widgets/controls",
          "model_name": "DescriptionStyleModel",
          "model_module_version": "1.5.0",
          "state": {
            "_model_module": "@jupyter-widgets/controls",
            "_model_module_version": "1.5.0",
            "_model_name": "DescriptionStyleModel",
            "_view_count": null,
            "_view_module": "@jupyter-widgets/base",
            "_view_module_version": "1.2.0",
            "_view_name": "StyleView",
            "description_width": ""
          }
        },
        "cd6d7d3647404ef58ef092308af4a157": {
          "model_module": "@jupyter-widgets/base",
          "model_name": "LayoutModel",
          "model_module_version": "1.2.0",
          "state": {
            "_model_module": "@jupyter-widgets/base",
            "_model_module_version": "1.2.0",
            "_model_name": "LayoutModel",
            "_view_count": null,
            "_view_module": "@jupyter-widgets/base",
            "_view_module_version": "1.2.0",
            "_view_name": "LayoutView",
            "align_content": null,
            "align_items": null,
            "align_self": null,
            "border": null,
            "bottom": null,
            "display": null,
            "flex": null,
            "flex_flow": null,
            "grid_area": null,
            "grid_auto_columns": null,
            "grid_auto_flow": null,
            "grid_auto_rows": null,
            "grid_column": null,
            "grid_gap": null,
            "grid_row": null,
            "grid_template_areas": null,
            "grid_template_columns": null,
            "grid_template_rows": null,
            "height": null,
            "justify_content": null,
            "justify_items": null,
            "left": null,
            "margin": null,
            "max_height": null,
            "max_width": null,
            "min_height": null,
            "min_width": null,
            "object_fit": null,
            "object_position": null,
            "order": null,
            "overflow": null,
            "overflow_x": null,
            "overflow_y": null,
            "padding": null,
            "right": null,
            "top": null,
            "visibility": null,
            "width": "20px"
          }
        },
        "093d65328e8948c1b7d54d907e4c1142": {
          "model_module": "@jupyter-widgets/controls",
          "model_name": "ProgressStyleModel",
          "model_module_version": "1.5.0",
          "state": {
            "_model_module": "@jupyter-widgets/controls",
            "_model_module_version": "1.5.0",
            "_model_name": "ProgressStyleModel",
            "_view_count": null,
            "_view_module": "@jupyter-widgets/base",
            "_view_module_version": "1.2.0",
            "_view_name": "StyleView",
            "bar_color": null,
            "description_width": ""
          }
        },
        "ae3a3e4d7a3048a88d5c70b14819173a": {
          "model_module": "@jupyter-widgets/base",
          "model_name": "LayoutModel",
          "model_module_version": "1.2.0",
          "state": {
            "_model_module": "@jupyter-widgets/base",
            "_model_module_version": "1.2.0",
            "_model_name": "LayoutModel",
            "_view_count": null,
            "_view_module": "@jupyter-widgets/base",
            "_view_module_version": "1.2.0",
            "_view_name": "LayoutView",
            "align_content": null,
            "align_items": null,
            "align_self": null,
            "border": null,
            "bottom": null,
            "display": null,
            "flex": null,
            "flex_flow": null,
            "grid_area": null,
            "grid_auto_columns": null,
            "grid_auto_flow": null,
            "grid_auto_rows": null,
            "grid_column": null,
            "grid_gap": null,
            "grid_row": null,
            "grid_template_areas": null,
            "grid_template_columns": null,
            "grid_template_rows": null,
            "height": null,
            "justify_content": null,
            "justify_items": null,
            "left": null,
            "margin": null,
            "max_height": null,
            "max_width": null,
            "min_height": null,
            "min_width": null,
            "object_fit": null,
            "object_position": null,
            "order": null,
            "overflow": null,
            "overflow_x": null,
            "overflow_y": null,
            "padding": null,
            "right": null,
            "top": null,
            "visibility": null,
            "width": null
          }
        },
        "d10f7b218e2a421993abc8bd763c6fd8": {
          "model_module": "@jupyter-widgets/controls",
          "model_name": "DescriptionStyleModel",
          "model_module_version": "1.5.0",
          "state": {
            "_model_module": "@jupyter-widgets/controls",
            "_model_module_version": "1.5.0",
            "_model_name": "DescriptionStyleModel",
            "_view_count": null,
            "_view_module": "@jupyter-widgets/base",
            "_view_module_version": "1.2.0",
            "_view_name": "StyleView",
            "description_width": ""
          }
        },
        "19a00bad8766421ebca2e2becf6d315d": {
          "model_module": "@jupyter-widgets/controls",
          "model_name": "HBoxModel",
          "model_module_version": "1.5.0",
          "state": {
            "_dom_classes": [],
            "_model_module": "@jupyter-widgets/controls",
            "_model_module_version": "1.5.0",
            "_model_name": "HBoxModel",
            "_view_count": null,
            "_view_module": "@jupyter-widgets/controls",
            "_view_module_version": "1.5.0",
            "_view_name": "HBoxView",
            "box_style": "",
            "children": [
              "IPY_MODEL_a1ede5b44cd9466c8ae53b183d47fad7",
              "IPY_MODEL_421317436cf0460fad2c7dd56ab40503",
              "IPY_MODEL_fd0dede342a243d0aaa92ef9cf0fa3cb"
            ],
            "layout": "IPY_MODEL_53fa7b5bbf764e3ca450ee6a3ddefbc5"
          }
        },
        "a1ede5b44cd9466c8ae53b183d47fad7": {
          "model_module": "@jupyter-widgets/controls",
          "model_name": "HTMLModel",
          "model_module_version": "1.5.0",
          "state": {
            "_dom_classes": [],
            "_model_module": "@jupyter-widgets/controls",
            "_model_module_version": "1.5.0",
            "_model_name": "HTMLModel",
            "_view_count": null,
            "_view_module": "@jupyter-widgets/controls",
            "_view_module_version": "1.5.0",
            "_view_name": "HTMLView",
            "description": "",
            "description_tooltip": null,
            "layout": "IPY_MODEL_6f995209e80543168b74f67bde6c1f95",
            "placeholder": "​",
            "style": "IPY_MODEL_7373e72fe8ef499cb97d34d2ff0eed86",
            "value": "test-00000-of-00001.parquet: 100%"
          }
        },
        "421317436cf0460fad2c7dd56ab40503": {
          "model_module": "@jupyter-widgets/controls",
          "model_name": "FloatProgressModel",
          "model_module_version": "1.5.0",
          "state": {
            "_dom_classes": [],
            "_model_module": "@jupyter-widgets/controls",
            "_model_module_version": "1.5.0",
            "_model_name": "FloatProgressModel",
            "_view_count": null,
            "_view_module": "@jupyter-widgets/controls",
            "_view_module_version": "1.5.0",
            "_view_name": "ProgressView",
            "bar_style": "success",
            "description": "",
            "description_tooltip": null,
            "layout": "IPY_MODEL_07da5eb027ba4ad3b367104c27626675",
            "max": 732610,
            "min": 0,
            "orientation": "horizontal",
            "style": "IPY_MODEL_b3996d7a6bda4cbd978df638b029e413",
            "value": 732610
          }
        },
        "fd0dede342a243d0aaa92ef9cf0fa3cb": {
          "model_module": "@jupyter-widgets/controls",
          "model_name": "HTMLModel",
          "model_module_version": "1.5.0",
          "state": {
            "_dom_classes": [],
            "_model_module": "@jupyter-widgets/controls",
            "_model_module_version": "1.5.0",
            "_model_name": "HTMLModel",
            "_view_count": null,
            "_view_module": "@jupyter-widgets/controls",
            "_view_module_version": "1.5.0",
            "_view_name": "HTMLView",
            "description": "",
            "description_tooltip": null,
            "layout": "IPY_MODEL_22fae5bf652b4d73bcb51e249fe7c66a",
            "placeholder": "​",
            "style": "IPY_MODEL_105644097c6744e8b43f393ad13edb58",
            "value": " 733k/733k [00:00&lt;00:00, 12.2MB/s]"
          }
        },
        "53fa7b5bbf764e3ca450ee6a3ddefbc5": {
          "model_module": "@jupyter-widgets/base",
          "model_name": "LayoutModel",
          "model_module_version": "1.2.0",
          "state": {
            "_model_module": "@jupyter-widgets/base",
            "_model_module_version": "1.2.0",
            "_model_name": "LayoutModel",
            "_view_count": null,
            "_view_module": "@jupyter-widgets/base",
            "_view_module_version": "1.2.0",
            "_view_name": "LayoutView",
            "align_content": null,
            "align_items": null,
            "align_self": null,
            "border": null,
            "bottom": null,
            "display": null,
            "flex": null,
            "flex_flow": null,
            "grid_area": null,
            "grid_auto_columns": null,
            "grid_auto_flow": null,
            "grid_auto_rows": null,
            "grid_column": null,
            "grid_gap": null,
            "grid_row": null,
            "grid_template_areas": null,
            "grid_template_columns": null,
            "grid_template_rows": null,
            "height": null,
            "justify_content": null,
            "justify_items": null,
            "left": null,
            "margin": null,
            "max_height": null,
            "max_width": null,
            "min_height": null,
            "min_width": null,
            "object_fit": null,
            "object_position": null,
            "order": null,
            "overflow": null,
            "overflow_x": null,
            "overflow_y": null,
            "padding": null,
            "right": null,
            "top": null,
            "visibility": null,
            "width": null
          }
        },
        "6f995209e80543168b74f67bde6c1f95": {
          "model_module": "@jupyter-widgets/base",
          "model_name": "LayoutModel",
          "model_module_version": "1.2.0",
          "state": {
            "_model_module": "@jupyter-widgets/base",
            "_model_module_version": "1.2.0",
            "_model_name": "LayoutModel",
            "_view_count": null,
            "_view_module": "@jupyter-widgets/base",
            "_view_module_version": "1.2.0",
            "_view_name": "LayoutView",
            "align_content": null,
            "align_items": null,
            "align_self": null,
            "border": null,
            "bottom": null,
            "display": null,
            "flex": null,
            "flex_flow": null,
            "grid_area": null,
            "grid_auto_columns": null,
            "grid_auto_flow": null,
            "grid_auto_rows": null,
            "grid_column": null,
            "grid_gap": null,
            "grid_row": null,
            "grid_template_areas": null,
            "grid_template_columns": null,
            "grid_template_rows": null,
            "height": null,
            "justify_content": null,
            "justify_items": null,
            "left": null,
            "margin": null,
            "max_height": null,
            "max_width": null,
            "min_height": null,
            "min_width": null,
            "object_fit": null,
            "object_position": null,
            "order": null,
            "overflow": null,
            "overflow_x": null,
            "overflow_y": null,
            "padding": null,
            "right": null,
            "top": null,
            "visibility": null,
            "width": null
          }
        },
        "7373e72fe8ef499cb97d34d2ff0eed86": {
          "model_module": "@jupyter-widgets/controls",
          "model_name": "DescriptionStyleModel",
          "model_module_version": "1.5.0",
          "state": {
            "_model_module": "@jupyter-widgets/controls",
            "_model_module_version": "1.5.0",
            "_model_name": "DescriptionStyleModel",
            "_view_count": null,
            "_view_module": "@jupyter-widgets/base",
            "_view_module_version": "1.2.0",
            "_view_name": "StyleView",
            "description_width": ""
          }
        },
        "07da5eb027ba4ad3b367104c27626675": {
          "model_module": "@jupyter-widgets/base",
          "model_name": "LayoutModel",
          "model_module_version": "1.2.0",
          "state": {
            "_model_module": "@jupyter-widgets/base",
            "_model_module_version": "1.2.0",
            "_model_name": "LayoutModel",
            "_view_count": null,
            "_view_module": "@jupyter-widgets/base",
            "_view_module_version": "1.2.0",
            "_view_name": "LayoutView",
            "align_content": null,
            "align_items": null,
            "align_self": null,
            "border": null,
            "bottom": null,
            "display": null,
            "flex": null,
            "flex_flow": null,
            "grid_area": null,
            "grid_auto_columns": null,
            "grid_auto_flow": null,
            "grid_auto_rows": null,
            "grid_column": null,
            "grid_gap": null,
            "grid_row": null,
            "grid_template_areas": null,
            "grid_template_columns": null,
            "grid_template_rows": null,
            "height": null,
            "justify_content": null,
            "justify_items": null,
            "left": null,
            "margin": null,
            "max_height": null,
            "max_width": null,
            "min_height": null,
            "min_width": null,
            "object_fit": null,
            "object_position": null,
            "order": null,
            "overflow": null,
            "overflow_x": null,
            "overflow_y": null,
            "padding": null,
            "right": null,
            "top": null,
            "visibility": null,
            "width": null
          }
        },
        "b3996d7a6bda4cbd978df638b029e413": {
          "model_module": "@jupyter-widgets/controls",
          "model_name": "ProgressStyleModel",
          "model_module_version": "1.5.0",
          "state": {
            "_model_module": "@jupyter-widgets/controls",
            "_model_module_version": "1.5.0",
            "_model_name": "ProgressStyleModel",
            "_view_count": null,
            "_view_module": "@jupyter-widgets/base",
            "_view_module_version": "1.2.0",
            "_view_name": "StyleView",
            "bar_color": null,
            "description_width": ""
          }
        },
        "22fae5bf652b4d73bcb51e249fe7c66a": {
          "model_module": "@jupyter-widgets/base",
          "model_name": "LayoutModel",
          "model_module_version": "1.2.0",
          "state": {
            "_model_module": "@jupyter-widgets/base",
            "_model_module_version": "1.2.0",
            "_model_name": "LayoutModel",
            "_view_count": null,
            "_view_module": "@jupyter-widgets/base",
            "_view_module_version": "1.2.0",
            "_view_name": "LayoutView",
            "align_content": null,
            "align_items": null,
            "align_self": null,
            "border": null,
            "bottom": null,
            "display": null,
            "flex": null,
            "flex_flow": null,
            "grid_area": null,
            "grid_auto_columns": null,
            "grid_auto_flow": null,
            "grid_auto_rows": null,
            "grid_column": null,
            "grid_gap": null,
            "grid_row": null,
            "grid_template_areas": null,
            "grid_template_columns": null,
            "grid_template_rows": null,
            "height": null,
            "justify_content": null,
            "justify_items": null,
            "left": null,
            "margin": null,
            "max_height": null,
            "max_width": null,
            "min_height": null,
            "min_width": null,
            "object_fit": null,
            "object_position": null,
            "order": null,
            "overflow": null,
            "overflow_x": null,
            "overflow_y": null,
            "padding": null,
            "right": null,
            "top": null,
            "visibility": null,
            "width": null
          }
        },
        "105644097c6744e8b43f393ad13edb58": {
          "model_module": "@jupyter-widgets/controls",
          "model_name": "DescriptionStyleModel",
          "model_module_version": "1.5.0",
          "state": {
            "_model_module": "@jupyter-widgets/controls",
            "_model_module_version": "1.5.0",
            "_model_name": "DescriptionStyleModel",
            "_view_count": null,
            "_view_module": "@jupyter-widgets/base",
            "_view_module_version": "1.2.0",
            "_view_name": "StyleView",
            "description_width": ""
          }
        },
        "bf9cfb99a3aa41bb8f0518c09355e376": {
          "model_module": "@jupyter-widgets/controls",
          "model_name": "HBoxModel",
          "model_module_version": "1.5.0",
          "state": {
            "_dom_classes": [],
            "_model_module": "@jupyter-widgets/controls",
            "_model_module_version": "1.5.0",
            "_model_name": "HBoxModel",
            "_view_count": null,
            "_view_module": "@jupyter-widgets/controls",
            "_view_module_version": "1.5.0",
            "_view_name": "HBoxView",
            "box_style": "",
            "children": [
              "IPY_MODEL_9a8c4dcf316e41b8bf3d45ed7aec2419",
              "IPY_MODEL_180222b19bc94b37885f3d46ac1069cf",
              "IPY_MODEL_e87431e037cd403f9ab8cb84e71e7c4e"
            ],
            "layout": "IPY_MODEL_ea0c7895790643e7b02e273be08b3c30"
          }
        },
        "9a8c4dcf316e41b8bf3d45ed7aec2419": {
          "model_module": "@jupyter-widgets/controls",
          "model_name": "HTMLModel",
          "model_module_version": "1.5.0",
          "state": {
            "_dom_classes": [],
            "_model_module": "@jupyter-widgets/controls",
            "_model_module_version": "1.5.0",
            "_model_name": "HTMLModel",
            "_view_count": null,
            "_view_module": "@jupyter-widgets/controls",
            "_view_module_version": "1.5.0",
            "_view_name": "HTMLView",
            "description": "",
            "description_tooltip": null,
            "layout": "IPY_MODEL_e9f8a532384b421583c57ba670835f76",
            "placeholder": "​",
            "style": "IPY_MODEL_42d04382c46f4f3f85f60e51be1f9096",
            "value": "train-00000-of-00002.parquet: 100%"
          }
        },
        "180222b19bc94b37885f3d46ac1069cf": {
          "model_module": "@jupyter-widgets/controls",
          "model_name": "FloatProgressModel",
          "model_module_version": "1.5.0",
          "state": {
            "_dom_classes": [],
            "_model_module": "@jupyter-widgets/controls",
            "_model_module_version": "1.5.0",
            "_model_name": "FloatProgressModel",
            "_view_count": null,
            "_view_module": "@jupyter-widgets/controls",
            "_view_module_version": "1.5.0",
            "_view_name": "ProgressView",
            "bar_style": "success",
            "description": "",
            "description_tooltip": null,
            "layout": "IPY_MODEL_eee3ca0500714f719ebee23a9ee4c420",
            "max": 156987808,
            "min": 0,
            "orientation": "horizontal",
            "style": "IPY_MODEL_8ac68c45aa3346a39d7f1fa359eb02da",
            "value": 156987808
          }
        },
        "e87431e037cd403f9ab8cb84e71e7c4e": {
          "model_module": "@jupyter-widgets/controls",
          "model_name": "HTMLModel",
          "model_module_version": "1.5.0",
          "state": {
            "_dom_classes": [],
            "_model_module": "@jupyter-widgets/controls",
            "_model_module_version": "1.5.0",
            "_model_name": "HTMLModel",
            "_view_count": null,
            "_view_module": "@jupyter-widgets/controls",
            "_view_module_version": "1.5.0",
            "_view_name": "HTMLView",
            "description": "",
            "description_tooltip": null,
            "layout": "IPY_MODEL_9b66fd25dc714a48b5eb4de3a2fb180a",
            "placeholder": "​",
            "style": "IPY_MODEL_3e0a0c49f7124c4b865c3a587bb9ebf1",
            "value": " 157M/157M [00:00&lt;00:00, 256MB/s]"
          }
        },
        "ea0c7895790643e7b02e273be08b3c30": {
          "model_module": "@jupyter-widgets/base",
          "model_name": "LayoutModel",
          "model_module_version": "1.2.0",
          "state": {
            "_model_module": "@jupyter-widgets/base",
            "_model_module_version": "1.2.0",
            "_model_name": "LayoutModel",
            "_view_count": null,
            "_view_module": "@jupyter-widgets/base",
            "_view_module_version": "1.2.0",
            "_view_name": "LayoutView",
            "align_content": null,
            "align_items": null,
            "align_self": null,
            "border": null,
            "bottom": null,
            "display": null,
            "flex": null,
            "flex_flow": null,
            "grid_area": null,
            "grid_auto_columns": null,
            "grid_auto_flow": null,
            "grid_auto_rows": null,
            "grid_column": null,
            "grid_gap": null,
            "grid_row": null,
            "grid_template_areas": null,
            "grid_template_columns": null,
            "grid_template_rows": null,
            "height": null,
            "justify_content": null,
            "justify_items": null,
            "left": null,
            "margin": null,
            "max_height": null,
            "max_width": null,
            "min_height": null,
            "min_width": null,
            "object_fit": null,
            "object_position": null,
            "order": null,
            "overflow": null,
            "overflow_x": null,
            "overflow_y": null,
            "padding": null,
            "right": null,
            "top": null,
            "visibility": null,
            "width": null
          }
        },
        "e9f8a532384b421583c57ba670835f76": {
          "model_module": "@jupyter-widgets/base",
          "model_name": "LayoutModel",
          "model_module_version": "1.2.0",
          "state": {
            "_model_module": "@jupyter-widgets/base",
            "_model_module_version": "1.2.0",
            "_model_name": "LayoutModel",
            "_view_count": null,
            "_view_module": "@jupyter-widgets/base",
            "_view_module_version": "1.2.0",
            "_view_name": "LayoutView",
            "align_content": null,
            "align_items": null,
            "align_self": null,
            "border": null,
            "bottom": null,
            "display": null,
            "flex": null,
            "flex_flow": null,
            "grid_area": null,
            "grid_auto_columns": null,
            "grid_auto_flow": null,
            "grid_auto_rows": null,
            "grid_column": null,
            "grid_gap": null,
            "grid_row": null,
            "grid_template_areas": null,
            "grid_template_columns": null,
            "grid_template_rows": null,
            "height": null,
            "justify_content": null,
            "justify_items": null,
            "left": null,
            "margin": null,
            "max_height": null,
            "max_width": null,
            "min_height": null,
            "min_width": null,
            "object_fit": null,
            "object_position": null,
            "order": null,
            "overflow": null,
            "overflow_x": null,
            "overflow_y": null,
            "padding": null,
            "right": null,
            "top": null,
            "visibility": null,
            "width": null
          }
        },
        "42d04382c46f4f3f85f60e51be1f9096": {
          "model_module": "@jupyter-widgets/controls",
          "model_name": "DescriptionStyleModel",
          "model_module_version": "1.5.0",
          "state": {
            "_model_module": "@jupyter-widgets/controls",
            "_model_module_version": "1.5.0",
            "_model_name": "DescriptionStyleModel",
            "_view_count": null,
            "_view_module": "@jupyter-widgets/base",
            "_view_module_version": "1.2.0",
            "_view_name": "StyleView",
            "description_width": ""
          }
        },
        "eee3ca0500714f719ebee23a9ee4c420": {
          "model_module": "@jupyter-widgets/base",
          "model_name": "LayoutModel",
          "model_module_version": "1.2.0",
          "state": {
            "_model_module": "@jupyter-widgets/base",
            "_model_module_version": "1.2.0",
            "_model_name": "LayoutModel",
            "_view_count": null,
            "_view_module": "@jupyter-widgets/base",
            "_view_module_version": "1.2.0",
            "_view_name": "LayoutView",
            "align_content": null,
            "align_items": null,
            "align_self": null,
            "border": null,
            "bottom": null,
            "display": null,
            "flex": null,
            "flex_flow": null,
            "grid_area": null,
            "grid_auto_columns": null,
            "grid_auto_flow": null,
            "grid_auto_rows": null,
            "grid_column": null,
            "grid_gap": null,
            "grid_row": null,
            "grid_template_areas": null,
            "grid_template_columns": null,
            "grid_template_rows": null,
            "height": null,
            "justify_content": null,
            "justify_items": null,
            "left": null,
            "margin": null,
            "max_height": null,
            "max_width": null,
            "min_height": null,
            "min_width": null,
            "object_fit": null,
            "object_position": null,
            "order": null,
            "overflow": null,
            "overflow_x": null,
            "overflow_y": null,
            "padding": null,
            "right": null,
            "top": null,
            "visibility": null,
            "width": null
          }
        },
        "8ac68c45aa3346a39d7f1fa359eb02da": {
          "model_module": "@jupyter-widgets/controls",
          "model_name": "ProgressStyleModel",
          "model_module_version": "1.5.0",
          "state": {
            "_model_module": "@jupyter-widgets/controls",
            "_model_module_version": "1.5.0",
            "_model_name": "ProgressStyleModel",
            "_view_count": null,
            "_view_module": "@jupyter-widgets/base",
            "_view_module_version": "1.2.0",
            "_view_name": "StyleView",
            "bar_color": null,
            "description_width": ""
          }
        },
        "9b66fd25dc714a48b5eb4de3a2fb180a": {
          "model_module": "@jupyter-widgets/base",
          "model_name": "LayoutModel",
          "model_module_version": "1.2.0",
          "state": {
            "_model_module": "@jupyter-widgets/base",
            "_model_module_version": "1.2.0",
            "_model_name": "LayoutModel",
            "_view_count": null,
            "_view_module": "@jupyter-widgets/base",
            "_view_module_version": "1.2.0",
            "_view_name": "LayoutView",
            "align_content": null,
            "align_items": null,
            "align_self": null,
            "border": null,
            "bottom": null,
            "display": null,
            "flex": null,
            "flex_flow": null,
            "grid_area": null,
            "grid_auto_columns": null,
            "grid_auto_flow": null,
            "grid_auto_rows": null,
            "grid_column": null,
            "grid_gap": null,
            "grid_row": null,
            "grid_template_areas": null,
            "grid_template_columns": null,
            "grid_template_rows": null,
            "height": null,
            "justify_content": null,
            "justify_items": null,
            "left": null,
            "margin": null,
            "max_height": null,
            "max_width": null,
            "min_height": null,
            "min_width": null,
            "object_fit": null,
            "object_position": null,
            "order": null,
            "overflow": null,
            "overflow_x": null,
            "overflow_y": null,
            "padding": null,
            "right": null,
            "top": null,
            "visibility": null,
            "width": null
          }
        },
        "3e0a0c49f7124c4b865c3a587bb9ebf1": {
          "model_module": "@jupyter-widgets/controls",
          "model_name": "DescriptionStyleModel",
          "model_module_version": "1.5.0",
          "state": {
            "_model_module": "@jupyter-widgets/controls",
            "_model_module_version": "1.5.0",
            "_model_name": "DescriptionStyleModel",
            "_view_count": null,
            "_view_module": "@jupyter-widgets/base",
            "_view_module_version": "1.2.0",
            "_view_name": "StyleView",
            "description_width": ""
          }
        },
        "85e2f8f5c48749caa3223a2357dc984a": {
          "model_module": "@jupyter-widgets/controls",
          "model_name": "HBoxModel",
          "model_module_version": "1.5.0",
          "state": {
            "_dom_classes": [],
            "_model_module": "@jupyter-widgets/controls",
            "_model_module_version": "1.5.0",
            "_model_name": "HBoxModel",
            "_view_count": null,
            "_view_module": "@jupyter-widgets/controls",
            "_view_module_version": "1.5.0",
            "_view_name": "HBoxView",
            "box_style": "",
            "children": [
              "IPY_MODEL_1de9fe33d82244049191c329af9fa314",
              "IPY_MODEL_9d308cf0e5f04898ba5f8be2e9ab43f0",
              "IPY_MODEL_cbb9bd27a2084dbdadad41d9da05ba9b"
            ],
            "layout": "IPY_MODEL_a0eeba0bd177460b8d59af514011e102"
          }
        },
        "1de9fe33d82244049191c329af9fa314": {
          "model_module": "@jupyter-widgets/controls",
          "model_name": "HTMLModel",
          "model_module_version": "1.5.0",
          "state": {
            "_dom_classes": [],
            "_model_module": "@jupyter-widgets/controls",
            "_model_module_version": "1.5.0",
            "_model_name": "HTMLModel",
            "_view_count": null,
            "_view_module": "@jupyter-widgets/controls",
            "_view_module_version": "1.5.0",
            "_view_name": "HTMLView",
            "description": "",
            "description_tooltip": null,
            "layout": "IPY_MODEL_0cbabebeb1d446aab8427d6a2b469d3d",
            "placeholder": "​",
            "style": "IPY_MODEL_5bdc00083787459499cefc51a27c5473",
            "value": "train-00001-of-00002.parquet: 100%"
          }
        },
        "9d308cf0e5f04898ba5f8be2e9ab43f0": {
          "model_module": "@jupyter-widgets/controls",
          "model_name": "FloatProgressModel",
          "model_module_version": "1.5.0",
          "state": {
            "_dom_classes": [],
            "_model_module": "@jupyter-widgets/controls",
            "_model_module_version": "1.5.0",
            "_model_name": "FloatProgressModel",
            "_view_count": null,
            "_view_module": "@jupyter-widgets/controls",
            "_view_module_version": "1.5.0",
            "_view_name": "ProgressView",
            "bar_style": "success",
            "description": "",
            "description_tooltip": null,
            "layout": "IPY_MODEL_8e752b5b6cc947c7b62a5c83c29a7565",
            "max": 157088770,
            "min": 0,
            "orientation": "horizontal",
            "style": "IPY_MODEL_a0a02d067be346dfa38a76339a5b7ac7",
            "value": 157088770
          }
        },
        "cbb9bd27a2084dbdadad41d9da05ba9b": {
          "model_module": "@jupyter-widgets/controls",
          "model_name": "HTMLModel",
          "model_module_version": "1.5.0",
          "state": {
            "_dom_classes": [],
            "_model_module": "@jupyter-widgets/controls",
            "_model_module_version": "1.5.0",
            "_model_name": "HTMLModel",
            "_view_count": null,
            "_view_module": "@jupyter-widgets/controls",
            "_view_module_version": "1.5.0",
            "_view_name": "HTMLView",
            "description": "",
            "description_tooltip": null,
            "layout": "IPY_MODEL_bffc763ae9f1438a8fded53b9a8ef5ef",
            "placeholder": "​",
            "style": "IPY_MODEL_e589b4ab607c45d495159f34170a196c",
            "value": " 157M/157M [00:00&lt;00:00, 236MB/s]"
          }
        },
        "a0eeba0bd177460b8d59af514011e102": {
          "model_module": "@jupyter-widgets/base",
          "model_name": "LayoutModel",
          "model_module_version": "1.2.0",
          "state": {
            "_model_module": "@jupyter-widgets/base",
            "_model_module_version": "1.2.0",
            "_model_name": "LayoutModel",
            "_view_count": null,
            "_view_module": "@jupyter-widgets/base",
            "_view_module_version": "1.2.0",
            "_view_name": "LayoutView",
            "align_content": null,
            "align_items": null,
            "align_self": null,
            "border": null,
            "bottom": null,
            "display": null,
            "flex": null,
            "flex_flow": null,
            "grid_area": null,
            "grid_auto_columns": null,
            "grid_auto_flow": null,
            "grid_auto_rows": null,
            "grid_column": null,
            "grid_gap": null,
            "grid_row": null,
            "grid_template_areas": null,
            "grid_template_columns": null,
            "grid_template_rows": null,
            "height": null,
            "justify_content": null,
            "justify_items": null,
            "left": null,
            "margin": null,
            "max_height": null,
            "max_width": null,
            "min_height": null,
            "min_width": null,
            "object_fit": null,
            "object_position": null,
            "order": null,
            "overflow": null,
            "overflow_x": null,
            "overflow_y": null,
            "padding": null,
            "right": null,
            "top": null,
            "visibility": null,
            "width": null
          }
        },
        "0cbabebeb1d446aab8427d6a2b469d3d": {
          "model_module": "@jupyter-widgets/base",
          "model_name": "LayoutModel",
          "model_module_version": "1.2.0",
          "state": {
            "_model_module": "@jupyter-widgets/base",
            "_model_module_version": "1.2.0",
            "_model_name": "LayoutModel",
            "_view_count": null,
            "_view_module": "@jupyter-widgets/base",
            "_view_module_version": "1.2.0",
            "_view_name": "LayoutView",
            "align_content": null,
            "align_items": null,
            "align_self": null,
            "border": null,
            "bottom": null,
            "display": null,
            "flex": null,
            "flex_flow": null,
            "grid_area": null,
            "grid_auto_columns": null,
            "grid_auto_flow": null,
            "grid_auto_rows": null,
            "grid_column": null,
            "grid_gap": null,
            "grid_row": null,
            "grid_template_areas": null,
            "grid_template_columns": null,
            "grid_template_rows": null,
            "height": null,
            "justify_content": null,
            "justify_items": null,
            "left": null,
            "margin": null,
            "max_height": null,
            "max_width": null,
            "min_height": null,
            "min_width": null,
            "object_fit": null,
            "object_position": null,
            "order": null,
            "overflow": null,
            "overflow_x": null,
            "overflow_y": null,
            "padding": null,
            "right": null,
            "top": null,
            "visibility": null,
            "width": null
          }
        },
        "5bdc00083787459499cefc51a27c5473": {
          "model_module": "@jupyter-widgets/controls",
          "model_name": "DescriptionStyleModel",
          "model_module_version": "1.5.0",
          "state": {
            "_model_module": "@jupyter-widgets/controls",
            "_model_module_version": "1.5.0",
            "_model_name": "DescriptionStyleModel",
            "_view_count": null,
            "_view_module": "@jupyter-widgets/base",
            "_view_module_version": "1.2.0",
            "_view_name": "StyleView",
            "description_width": ""
          }
        },
        "8e752b5b6cc947c7b62a5c83c29a7565": {
          "model_module": "@jupyter-widgets/base",
          "model_name": "LayoutModel",
          "model_module_version": "1.2.0",
          "state": {
            "_model_module": "@jupyter-widgets/base",
            "_model_module_version": "1.2.0",
            "_model_name": "LayoutModel",
            "_view_count": null,
            "_view_module": "@jupyter-widgets/base",
            "_view_module_version": "1.2.0",
            "_view_name": "LayoutView",
            "align_content": null,
            "align_items": null,
            "align_self": null,
            "border": null,
            "bottom": null,
            "display": null,
            "flex": null,
            "flex_flow": null,
            "grid_area": null,
            "grid_auto_columns": null,
            "grid_auto_flow": null,
            "grid_auto_rows": null,
            "grid_column": null,
            "grid_gap": null,
            "grid_row": null,
            "grid_template_areas": null,
            "grid_template_columns": null,
            "grid_template_rows": null,
            "height": null,
            "justify_content": null,
            "justify_items": null,
            "left": null,
            "margin": null,
            "max_height": null,
            "max_width": null,
            "min_height": null,
            "min_width": null,
            "object_fit": null,
            "object_position": null,
            "order": null,
            "overflow": null,
            "overflow_x": null,
            "overflow_y": null,
            "padding": null,
            "right": null,
            "top": null,
            "visibility": null,
            "width": null
          }
        },
        "a0a02d067be346dfa38a76339a5b7ac7": {
          "model_module": "@jupyter-widgets/controls",
          "model_name": "ProgressStyleModel",
          "model_module_version": "1.5.0",
          "state": {
            "_model_module": "@jupyter-widgets/controls",
            "_model_module_version": "1.5.0",
            "_model_name": "ProgressStyleModel",
            "_view_count": null,
            "_view_module": "@jupyter-widgets/base",
            "_view_module_version": "1.2.0",
            "_view_name": "StyleView",
            "bar_color": null,
            "description_width": ""
          }
        },
        "bffc763ae9f1438a8fded53b9a8ef5ef": {
          "model_module": "@jupyter-widgets/base",
          "model_name": "LayoutModel",
          "model_module_version": "1.2.0",
          "state": {
            "_model_module": "@jupyter-widgets/base",
            "_model_module_version": "1.2.0",
            "_model_name": "LayoutModel",
            "_view_count": null,
            "_view_module": "@jupyter-widgets/base",
            "_view_module_version": "1.2.0",
            "_view_name": "LayoutView",
            "align_content": null,
            "align_items": null,
            "align_self": null,
            "border": null,
            "bottom": null,
            "display": null,
            "flex": null,
            "flex_flow": null,
            "grid_area": null,
            "grid_auto_columns": null,
            "grid_auto_flow": null,
            "grid_auto_rows": null,
            "grid_column": null,
            "grid_gap": null,
            "grid_row": null,
            "grid_template_areas": null,
            "grid_template_columns": null,
            "grid_template_rows": null,
            "height": null,
            "justify_content": null,
            "justify_items": null,
            "left": null,
            "margin": null,
            "max_height": null,
            "max_width": null,
            "min_height": null,
            "min_width": null,
            "object_fit": null,
            "object_position": null,
            "order": null,
            "overflow": null,
            "overflow_x": null,
            "overflow_y": null,
            "padding": null,
            "right": null,
            "top": null,
            "visibility": null,
            "width": null
          }
        },
        "e589b4ab607c45d495159f34170a196c": {
          "model_module": "@jupyter-widgets/controls",
          "model_name": "DescriptionStyleModel",
          "model_module_version": "1.5.0",
          "state": {
            "_model_module": "@jupyter-widgets/controls",
            "_model_module_version": "1.5.0",
            "_model_name": "DescriptionStyleModel",
            "_view_count": null,
            "_view_module": "@jupyter-widgets/base",
            "_view_module_version": "1.2.0",
            "_view_name": "StyleView",
            "description_width": ""
          }
        },
        "35584b81a3b94f9ba442e8dd6117f22b": {
          "model_module": "@jupyter-widgets/controls",
          "model_name": "HBoxModel",
          "model_module_version": "1.5.0",
          "state": {
            "_dom_classes": [],
            "_model_module": "@jupyter-widgets/controls",
            "_model_module_version": "1.5.0",
            "_model_name": "HBoxModel",
            "_view_count": null,
            "_view_module": "@jupyter-widgets/controls",
            "_view_module_version": "1.5.0",
            "_view_name": "HBoxView",
            "box_style": "",
            "children": [
              "IPY_MODEL_ab100758f42b4b11abc3c9946cc56de8",
              "IPY_MODEL_ed9f51036dce481088daa2c930161f62",
              "IPY_MODEL_67ac793e3ec243798f6d655fd5f685a8"
            ],
            "layout": "IPY_MODEL_74f8250b2f4544dfbde53d69071690f2"
          }
        },
        "ab100758f42b4b11abc3c9946cc56de8": {
          "model_module": "@jupyter-widgets/controls",
          "model_name": "HTMLModel",
          "model_module_version": "1.5.0",
          "state": {
            "_dom_classes": [],
            "_model_module": "@jupyter-widgets/controls",
            "_model_module_version": "1.5.0",
            "_model_name": "HTMLModel",
            "_view_count": null,
            "_view_module": "@jupyter-widgets/controls",
            "_view_module_version": "1.5.0",
            "_view_name": "HTMLView",
            "description": "",
            "description_tooltip": null,
            "layout": "IPY_MODEL_fd8027e98ee44f1c91cb84dcfaee36ee",
            "placeholder": "​",
            "style": "IPY_MODEL_c4fff0f82e6e40019a0bc24bce58cce5",
            "value": "validation-00000-of-00001.parquet: 100%"
          }
        },
        "ed9f51036dce481088daa2c930161f62": {
          "model_module": "@jupyter-widgets/controls",
          "model_name": "FloatProgressModel",
          "model_module_version": "1.5.0",
          "state": {
            "_dom_classes": [],
            "_model_module": "@jupyter-widgets/controls",
            "_model_module_version": "1.5.0",
            "_model_name": "FloatProgressModel",
            "_view_count": null,
            "_view_module": "@jupyter-widgets/controls",
            "_view_module_version": "1.5.0",
            "_view_name": "ProgressView",
            "bar_style": "success",
            "description": "",
            "description_tooltip": null,
            "layout": "IPY_MODEL_59a2784ebfeb4e359e0a298de5362450",
            "max": 657209,
            "min": 0,
            "orientation": "horizontal",
            "style": "IPY_MODEL_39ae834bb8294600887a13d910ae4419",
            "value": 657209
          }
        },
        "67ac793e3ec243798f6d655fd5f685a8": {
          "model_module": "@jupyter-widgets/controls",
          "model_name": "HTMLModel",
          "model_module_version": "1.5.0",
          "state": {
            "_dom_classes": [],
            "_model_module": "@jupyter-widgets/controls",
            "_model_module_version": "1.5.0",
            "_model_name": "HTMLModel",
            "_view_count": null,
            "_view_module": "@jupyter-widgets/controls",
            "_view_module_version": "1.5.0",
            "_view_name": "HTMLView",
            "description": "",
            "description_tooltip": null,
            "layout": "IPY_MODEL_8adb5f66ef734bdfb7a005ce78fcf39a",
            "placeholder": "​",
            "style": "IPY_MODEL_c86ce761bc7b4062b5250db6227cbd86",
            "value": " 657k/657k [00:00&lt;00:00, 36.8MB/s]"
          }
        },
        "74f8250b2f4544dfbde53d69071690f2": {
          "model_module": "@jupyter-widgets/base",
          "model_name": "LayoutModel",
          "model_module_version": "1.2.0",
          "state": {
            "_model_module": "@jupyter-widgets/base",
            "_model_module_version": "1.2.0",
            "_model_name": "LayoutModel",
            "_view_count": null,
            "_view_module": "@jupyter-widgets/base",
            "_view_module_version": "1.2.0",
            "_view_name": "LayoutView",
            "align_content": null,
            "align_items": null,
            "align_self": null,
            "border": null,
            "bottom": null,
            "display": null,
            "flex": null,
            "flex_flow": null,
            "grid_area": null,
            "grid_auto_columns": null,
            "grid_auto_flow": null,
            "grid_auto_rows": null,
            "grid_column": null,
            "grid_gap": null,
            "grid_row": null,
            "grid_template_areas": null,
            "grid_template_columns": null,
            "grid_template_rows": null,
            "height": null,
            "justify_content": null,
            "justify_items": null,
            "left": null,
            "margin": null,
            "max_height": null,
            "max_width": null,
            "min_height": null,
            "min_width": null,
            "object_fit": null,
            "object_position": null,
            "order": null,
            "overflow": null,
            "overflow_x": null,
            "overflow_y": null,
            "padding": null,
            "right": null,
            "top": null,
            "visibility": null,
            "width": null
          }
        },
        "fd8027e98ee44f1c91cb84dcfaee36ee": {
          "model_module": "@jupyter-widgets/base",
          "model_name": "LayoutModel",
          "model_module_version": "1.2.0",
          "state": {
            "_model_module": "@jupyter-widgets/base",
            "_model_module_version": "1.2.0",
            "_model_name": "LayoutModel",
            "_view_count": null,
            "_view_module": "@jupyter-widgets/base",
            "_view_module_version": "1.2.0",
            "_view_name": "LayoutView",
            "align_content": null,
            "align_items": null,
            "align_self": null,
            "border": null,
            "bottom": null,
            "display": null,
            "flex": null,
            "flex_flow": null,
            "grid_area": null,
            "grid_auto_columns": null,
            "grid_auto_flow": null,
            "grid_auto_rows": null,
            "grid_column": null,
            "grid_gap": null,
            "grid_row": null,
            "grid_template_areas": null,
            "grid_template_columns": null,
            "grid_template_rows": null,
            "height": null,
            "justify_content": null,
            "justify_items": null,
            "left": null,
            "margin": null,
            "max_height": null,
            "max_width": null,
            "min_height": null,
            "min_width": null,
            "object_fit": null,
            "object_position": null,
            "order": null,
            "overflow": null,
            "overflow_x": null,
            "overflow_y": null,
            "padding": null,
            "right": null,
            "top": null,
            "visibility": null,
            "width": null
          }
        },
        "c4fff0f82e6e40019a0bc24bce58cce5": {
          "model_module": "@jupyter-widgets/controls",
          "model_name": "DescriptionStyleModel",
          "model_module_version": "1.5.0",
          "state": {
            "_model_module": "@jupyter-widgets/controls",
            "_model_module_version": "1.5.0",
            "_model_name": "DescriptionStyleModel",
            "_view_count": null,
            "_view_module": "@jupyter-widgets/base",
            "_view_module_version": "1.2.0",
            "_view_name": "StyleView",
            "description_width": ""
          }
        },
        "59a2784ebfeb4e359e0a298de5362450": {
          "model_module": "@jupyter-widgets/base",
          "model_name": "LayoutModel",
          "model_module_version": "1.2.0",
          "state": {
            "_model_module": "@jupyter-widgets/base",
            "_model_module_version": "1.2.0",
            "_model_name": "LayoutModel",
            "_view_count": null,
            "_view_module": "@jupyter-widgets/base",
            "_view_module_version": "1.2.0",
            "_view_name": "LayoutView",
            "align_content": null,
            "align_items": null,
            "align_self": null,
            "border": null,
            "bottom": null,
            "display": null,
            "flex": null,
            "flex_flow": null,
            "grid_area": null,
            "grid_auto_columns": null,
            "grid_auto_flow": null,
            "grid_auto_rows": null,
            "grid_column": null,
            "grid_gap": null,
            "grid_row": null,
            "grid_template_areas": null,
            "grid_template_columns": null,
            "grid_template_rows": null,
            "height": null,
            "justify_content": null,
            "justify_items": null,
            "left": null,
            "margin": null,
            "max_height": null,
            "max_width": null,
            "min_height": null,
            "min_width": null,
            "object_fit": null,
            "object_position": null,
            "order": null,
            "overflow": null,
            "overflow_x": null,
            "overflow_y": null,
            "padding": null,
            "right": null,
            "top": null,
            "visibility": null,
            "width": null
          }
        },
        "39ae834bb8294600887a13d910ae4419": {
          "model_module": "@jupyter-widgets/controls",
          "model_name": "ProgressStyleModel",
          "model_module_version": "1.5.0",
          "state": {
            "_model_module": "@jupyter-widgets/controls",
            "_model_module_version": "1.5.0",
            "_model_name": "ProgressStyleModel",
            "_view_count": null,
            "_view_module": "@jupyter-widgets/base",
            "_view_module_version": "1.2.0",
            "_view_name": "StyleView",
            "bar_color": null,
            "description_width": ""
          }
        },
        "8adb5f66ef734bdfb7a005ce78fcf39a": {
          "model_module": "@jupyter-widgets/base",
          "model_name": "LayoutModel",
          "model_module_version": "1.2.0",
          "state": {
            "_model_module": "@jupyter-widgets/base",
            "_model_module_version": "1.2.0",
            "_model_name": "LayoutModel",
            "_view_count": null,
            "_view_module": "@jupyter-widgets/base",
            "_view_module_version": "1.2.0",
            "_view_name": "LayoutView",
            "align_content": null,
            "align_items": null,
            "align_self": null,
            "border": null,
            "bottom": null,
            "display": null,
            "flex": null,
            "flex_flow": null,
            "grid_area": null,
            "grid_auto_columns": null,
            "grid_auto_flow": null,
            "grid_auto_rows": null,
            "grid_column": null,
            "grid_gap": null,
            "grid_row": null,
            "grid_template_areas": null,
            "grid_template_columns": null,
            "grid_template_rows": null,
            "height": null,
            "justify_content": null,
            "justify_items": null,
            "left": null,
            "margin": null,
            "max_height": null,
            "max_width": null,
            "min_height": null,
            "min_width": null,
            "object_fit": null,
            "object_position": null,
            "order": null,
            "overflow": null,
            "overflow_x": null,
            "overflow_y": null,
            "padding": null,
            "right": null,
            "top": null,
            "visibility": null,
            "width": null
          }
        },
        "c86ce761bc7b4062b5250db6227cbd86": {
          "model_module": "@jupyter-widgets/controls",
          "model_name": "DescriptionStyleModel",
          "model_module_version": "1.5.0",
          "state": {
            "_model_module": "@jupyter-widgets/controls",
            "_model_module_version": "1.5.0",
            "_model_name": "DescriptionStyleModel",
            "_view_count": null,
            "_view_module": "@jupyter-widgets/base",
            "_view_module_version": "1.2.0",
            "_view_name": "StyleView",
            "description_width": ""
          }
        },
        "c328310f3b9b44a7b9aecadd8fbb8b50": {
          "model_module": "@jupyter-widgets/controls",
          "model_name": "HBoxModel",
          "model_module_version": "1.5.0",
          "state": {
            "_dom_classes": [],
            "_model_module": "@jupyter-widgets/controls",
            "_model_module_version": "1.5.0",
            "_model_name": "HBoxModel",
            "_view_count": null,
            "_view_module": "@jupyter-widgets/controls",
            "_view_module_version": "1.5.0",
            "_view_name": "HBoxView",
            "box_style": "",
            "children": [
              "IPY_MODEL_f335ec497ebc445f964cd4afc65a7fcf",
              "IPY_MODEL_665332016ed147948c3536fd07cc5c49",
              "IPY_MODEL_5307f473cd92438385fcb172fade7f23"
            ],
            "layout": "IPY_MODEL_584b3583e4814c05a8c4bb75e2a02588"
          }
        },
        "f335ec497ebc445f964cd4afc65a7fcf": {
          "model_module": "@jupyter-widgets/controls",
          "model_name": "HTMLModel",
          "model_module_version": "1.5.0",
          "state": {
            "_dom_classes": [],
            "_model_module": "@jupyter-widgets/controls",
            "_model_module_version": "1.5.0",
            "_model_name": "HTMLModel",
            "_view_count": null,
            "_view_module": "@jupyter-widgets/controls",
            "_view_module_version": "1.5.0",
            "_view_name": "HTMLView",
            "description": "",
            "description_tooltip": null,
            "layout": "IPY_MODEL_3959e44e3c2b4423b38c63607c87c985",
            "placeholder": "​",
            "style": "IPY_MODEL_aefc6e7627154d68928f197c87132778",
            "value": "Generating test split: 100%"
          }
        },
        "665332016ed147948c3536fd07cc5c49": {
          "model_module": "@jupyter-widgets/controls",
          "model_name": "FloatProgressModel",
          "model_module_version": "1.5.0",
          "state": {
            "_dom_classes": [],
            "_model_module": "@jupyter-widgets/controls",
            "_model_module_version": "1.5.0",
            "_model_name": "FloatProgressModel",
            "_view_count": null,
            "_view_module": "@jupyter-widgets/controls",
            "_view_module_version": "1.5.0",
            "_view_name": "ProgressView",
            "bar_style": "success",
            "description": "",
            "description_tooltip": null,
            "layout": "IPY_MODEL_99f62953f3484981a673098e01e6071a",
            "max": 4358,
            "min": 0,
            "orientation": "horizontal",
            "style": "IPY_MODEL_046f6ac0bb224a1ca161b18b1d7d47d2",
            "value": 4358
          }
        },
        "5307f473cd92438385fcb172fade7f23": {
          "model_module": "@jupyter-widgets/controls",
          "model_name": "HTMLModel",
          "model_module_version": "1.5.0",
          "state": {
            "_dom_classes": [],
            "_model_module": "@jupyter-widgets/controls",
            "_model_module_version": "1.5.0",
            "_model_name": "HTMLModel",
            "_view_count": null,
            "_view_module": "@jupyter-widgets/controls",
            "_view_module_version": "1.5.0",
            "_view_name": "HTMLView",
            "description": "",
            "description_tooltip": null,
            "layout": "IPY_MODEL_5ad7a1ad9a8740da8ee32727171c01e6",
            "placeholder": "​",
            "style": "IPY_MODEL_4cc6c881b14c44f6bf46e508e888a500",
            "value": " 4358/4358 [00:00&lt;00:00, 170665.40 examples/s]"
          }
        },
        "584b3583e4814c05a8c4bb75e2a02588": {
          "model_module": "@jupyter-widgets/base",
          "model_name": "LayoutModel",
          "model_module_version": "1.2.0",
          "state": {
            "_model_module": "@jupyter-widgets/base",
            "_model_module_version": "1.2.0",
            "_model_name": "LayoutModel",
            "_view_count": null,
            "_view_module": "@jupyter-widgets/base",
            "_view_module_version": "1.2.0",
            "_view_name": "LayoutView",
            "align_content": null,
            "align_items": null,
            "align_self": null,
            "border": null,
            "bottom": null,
            "display": null,
            "flex": null,
            "flex_flow": null,
            "grid_area": null,
            "grid_auto_columns": null,
            "grid_auto_flow": null,
            "grid_auto_rows": null,
            "grid_column": null,
            "grid_gap": null,
            "grid_row": null,
            "grid_template_areas": null,
            "grid_template_columns": null,
            "grid_template_rows": null,
            "height": null,
            "justify_content": null,
            "justify_items": null,
            "left": null,
            "margin": null,
            "max_height": null,
            "max_width": null,
            "min_height": null,
            "min_width": null,
            "object_fit": null,
            "object_position": null,
            "order": null,
            "overflow": null,
            "overflow_x": null,
            "overflow_y": null,
            "padding": null,
            "right": null,
            "top": null,
            "visibility": null,
            "width": null
          }
        },
        "3959e44e3c2b4423b38c63607c87c985": {
          "model_module": "@jupyter-widgets/base",
          "model_name": "LayoutModel",
          "model_module_version": "1.2.0",
          "state": {
            "_model_module": "@jupyter-widgets/base",
            "_model_module_version": "1.2.0",
            "_model_name": "LayoutModel",
            "_view_count": null,
            "_view_module": "@jupyter-widgets/base",
            "_view_module_version": "1.2.0",
            "_view_name": "LayoutView",
            "align_content": null,
            "align_items": null,
            "align_self": null,
            "border": null,
            "bottom": null,
            "display": null,
            "flex": null,
            "flex_flow": null,
            "grid_area": null,
            "grid_auto_columns": null,
            "grid_auto_flow": null,
            "grid_auto_rows": null,
            "grid_column": null,
            "grid_gap": null,
            "grid_row": null,
            "grid_template_areas": null,
            "grid_template_columns": null,
            "grid_template_rows": null,
            "height": null,
            "justify_content": null,
            "justify_items": null,
            "left": null,
            "margin": null,
            "max_height": null,
            "max_width": null,
            "min_height": null,
            "min_width": null,
            "object_fit": null,
            "object_position": null,
            "order": null,
            "overflow": null,
            "overflow_x": null,
            "overflow_y": null,
            "padding": null,
            "right": null,
            "top": null,
            "visibility": null,
            "width": null
          }
        },
        "aefc6e7627154d68928f197c87132778": {
          "model_module": "@jupyter-widgets/controls",
          "model_name": "DescriptionStyleModel",
          "model_module_version": "1.5.0",
          "state": {
            "_model_module": "@jupyter-widgets/controls",
            "_model_module_version": "1.5.0",
            "_model_name": "DescriptionStyleModel",
            "_view_count": null,
            "_view_module": "@jupyter-widgets/base",
            "_view_module_version": "1.2.0",
            "_view_name": "StyleView",
            "description_width": ""
          }
        },
        "99f62953f3484981a673098e01e6071a": {
          "model_module": "@jupyter-widgets/base",
          "model_name": "LayoutModel",
          "model_module_version": "1.2.0",
          "state": {
            "_model_module": "@jupyter-widgets/base",
            "_model_module_version": "1.2.0",
            "_model_name": "LayoutModel",
            "_view_count": null,
            "_view_module": "@jupyter-widgets/base",
            "_view_module_version": "1.2.0",
            "_view_name": "LayoutView",
            "align_content": null,
            "align_items": null,
            "align_self": null,
            "border": null,
            "bottom": null,
            "display": null,
            "flex": null,
            "flex_flow": null,
            "grid_area": null,
            "grid_auto_columns": null,
            "grid_auto_flow": null,
            "grid_auto_rows": null,
            "grid_column": null,
            "grid_gap": null,
            "grid_row": null,
            "grid_template_areas": null,
            "grid_template_columns": null,
            "grid_template_rows": null,
            "height": null,
            "justify_content": null,
            "justify_items": null,
            "left": null,
            "margin": null,
            "max_height": null,
            "max_width": null,
            "min_height": null,
            "min_width": null,
            "object_fit": null,
            "object_position": null,
            "order": null,
            "overflow": null,
            "overflow_x": null,
            "overflow_y": null,
            "padding": null,
            "right": null,
            "top": null,
            "visibility": null,
            "width": null
          }
        },
        "046f6ac0bb224a1ca161b18b1d7d47d2": {
          "model_module": "@jupyter-widgets/controls",
          "model_name": "ProgressStyleModel",
          "model_module_version": "1.5.0",
          "state": {
            "_model_module": "@jupyter-widgets/controls",
            "_model_module_version": "1.5.0",
            "_model_name": "ProgressStyleModel",
            "_view_count": null,
            "_view_module": "@jupyter-widgets/base",
            "_view_module_version": "1.2.0",
            "_view_name": "StyleView",
            "bar_color": null,
            "description_width": ""
          }
        },
        "5ad7a1ad9a8740da8ee32727171c01e6": {
          "model_module": "@jupyter-widgets/base",
          "model_name": "LayoutModel",
          "model_module_version": "1.2.0",
          "state": {
            "_model_module": "@jupyter-widgets/base",
            "_model_module_version": "1.2.0",
            "_model_name": "LayoutModel",
            "_view_count": null,
            "_view_module": "@jupyter-widgets/base",
            "_view_module_version": "1.2.0",
            "_view_name": "LayoutView",
            "align_content": null,
            "align_items": null,
            "align_self": null,
            "border": null,
            "bottom": null,
            "display": null,
            "flex": null,
            "flex_flow": null,
            "grid_area": null,
            "grid_auto_columns": null,
            "grid_auto_flow": null,
            "grid_auto_rows": null,
            "grid_column": null,
            "grid_gap": null,
            "grid_row": null,
            "grid_template_areas": null,
            "grid_template_columns": null,
            "grid_template_rows": null,
            "height": null,
            "justify_content": null,
            "justify_items": null,
            "left": null,
            "margin": null,
            "max_height": null,
            "max_width": null,
            "min_height": null,
            "min_width": null,
            "object_fit": null,
            "object_position": null,
            "order": null,
            "overflow": null,
            "overflow_x": null,
            "overflow_y": null,
            "padding": null,
            "right": null,
            "top": null,
            "visibility": null,
            "width": null
          }
        },
        "4cc6c881b14c44f6bf46e508e888a500": {
          "model_module": "@jupyter-widgets/controls",
          "model_name": "DescriptionStyleModel",
          "model_module_version": "1.5.0",
          "state": {
            "_model_module": "@jupyter-widgets/controls",
            "_model_module_version": "1.5.0",
            "_model_name": "DescriptionStyleModel",
            "_view_count": null,
            "_view_module": "@jupyter-widgets/base",
            "_view_module_version": "1.2.0",
            "_view_name": "StyleView",
            "description_width": ""
          }
        },
        "8a8c8ec2a4fc4c90ab17484f8060823a": {
          "model_module": "@jupyter-widgets/controls",
          "model_name": "HBoxModel",
          "model_module_version": "1.5.0",
          "state": {
            "_dom_classes": [],
            "_model_module": "@jupyter-widgets/controls",
            "_model_module_version": "1.5.0",
            "_model_name": "HBoxModel",
            "_view_count": null,
            "_view_module": "@jupyter-widgets/controls",
            "_view_module_version": "1.5.0",
            "_view_name": "HBoxView",
            "box_style": "",
            "children": [
              "IPY_MODEL_a0edd3df3c2c4c8eb26ab2b6b5e33e2c",
              "IPY_MODEL_1901e919f4d34bb2a1bc58f4cec69479",
              "IPY_MODEL_9abfcf6a88ab4fe8bddaf46c3e1aa3de"
            ],
            "layout": "IPY_MODEL_650f77c60042438a9353939ffc381a4d"
          }
        },
        "a0edd3df3c2c4c8eb26ab2b6b5e33e2c": {
          "model_module": "@jupyter-widgets/controls",
          "model_name": "HTMLModel",
          "model_module_version": "1.5.0",
          "state": {
            "_dom_classes": [],
            "_model_module": "@jupyter-widgets/controls",
            "_model_module_version": "1.5.0",
            "_model_name": "HTMLModel",
            "_view_count": null,
            "_view_module": "@jupyter-widgets/controls",
            "_view_module_version": "1.5.0",
            "_view_name": "HTMLView",
            "description": "",
            "description_tooltip": null,
            "layout": "IPY_MODEL_bf941fca45ab4271974003e851cbbac2",
            "placeholder": "​",
            "style": "IPY_MODEL_915b9fc8f65f489dab410cf0e6dd1efe",
            "value": "Generating train split: 100%"
          }
        },
        "1901e919f4d34bb2a1bc58f4cec69479": {
          "model_module": "@jupyter-widgets/controls",
          "model_name": "FloatProgressModel",
          "model_module_version": "1.5.0",
          "state": {
            "_dom_classes": [],
            "_model_module": "@jupyter-widgets/controls",
            "_model_module_version": "1.5.0",
            "_model_name": "FloatProgressModel",
            "_view_count": null,
            "_view_module": "@jupyter-widgets/controls",
            "_view_module_version": "1.5.0",
            "_view_name": "ProgressView",
            "bar_style": "success",
            "description": "",
            "description_tooltip": null,
            "layout": "IPY_MODEL_bfbb9c22afea42d683111dfcdbb2ca53",
            "max": 1801350,
            "min": 0,
            "orientation": "horizontal",
            "style": "IPY_MODEL_81f447d0a95d45468bd855877dcdb75a",
            "value": 1801350
          }
        },
        "9abfcf6a88ab4fe8bddaf46c3e1aa3de": {
          "model_module": "@jupyter-widgets/controls",
          "model_name": "HTMLModel",
          "model_module_version": "1.5.0",
          "state": {
            "_dom_classes": [],
            "_model_module": "@jupyter-widgets/controls",
            "_model_module_version": "1.5.0",
            "_model_name": "HTMLModel",
            "_view_count": null,
            "_view_module": "@jupyter-widgets/controls",
            "_view_module_version": "1.5.0",
            "_view_name": "HTMLView",
            "description": "",
            "description_tooltip": null,
            "layout": "IPY_MODEL_5fb6788151484a85be99db9fbdf335be",
            "placeholder": "​",
            "style": "IPY_MODEL_2cd1d2b9b07641ffb2db893002232706",
            "value": " 1801350/1801350 [00:06&lt;00:00, 344594.25 examples/s]"
          }
        },
        "650f77c60042438a9353939ffc381a4d": {
          "model_module": "@jupyter-widgets/base",
          "model_name": "LayoutModel",
          "model_module_version": "1.2.0",
          "state": {
            "_model_module": "@jupyter-widgets/base",
            "_model_module_version": "1.2.0",
            "_model_name": "LayoutModel",
            "_view_count": null,
            "_view_module": "@jupyter-widgets/base",
            "_view_module_version": "1.2.0",
            "_view_name": "LayoutView",
            "align_content": null,
            "align_items": null,
            "align_self": null,
            "border": null,
            "bottom": null,
            "display": null,
            "flex": null,
            "flex_flow": null,
            "grid_area": null,
            "grid_auto_columns": null,
            "grid_auto_flow": null,
            "grid_auto_rows": null,
            "grid_column": null,
            "grid_gap": null,
            "grid_row": null,
            "grid_template_areas": null,
            "grid_template_columns": null,
            "grid_template_rows": null,
            "height": null,
            "justify_content": null,
            "justify_items": null,
            "left": null,
            "margin": null,
            "max_height": null,
            "max_width": null,
            "min_height": null,
            "min_width": null,
            "object_fit": null,
            "object_position": null,
            "order": null,
            "overflow": null,
            "overflow_x": null,
            "overflow_y": null,
            "padding": null,
            "right": null,
            "top": null,
            "visibility": null,
            "width": null
          }
        },
        "bf941fca45ab4271974003e851cbbac2": {
          "model_module": "@jupyter-widgets/base",
          "model_name": "LayoutModel",
          "model_module_version": "1.2.0",
          "state": {
            "_model_module": "@jupyter-widgets/base",
            "_model_module_version": "1.2.0",
            "_model_name": "LayoutModel",
            "_view_count": null,
            "_view_module": "@jupyter-widgets/base",
            "_view_module_version": "1.2.0",
            "_view_name": "LayoutView",
            "align_content": null,
            "align_items": null,
            "align_self": null,
            "border": null,
            "bottom": null,
            "display": null,
            "flex": null,
            "flex_flow": null,
            "grid_area": null,
            "grid_auto_columns": null,
            "grid_auto_flow": null,
            "grid_auto_rows": null,
            "grid_column": null,
            "grid_gap": null,
            "grid_row": null,
            "grid_template_areas": null,
            "grid_template_columns": null,
            "grid_template_rows": null,
            "height": null,
            "justify_content": null,
            "justify_items": null,
            "left": null,
            "margin": null,
            "max_height": null,
            "max_width": null,
            "min_height": null,
            "min_width": null,
            "object_fit": null,
            "object_position": null,
            "order": null,
            "overflow": null,
            "overflow_x": null,
            "overflow_y": null,
            "padding": null,
            "right": null,
            "top": null,
            "visibility": null,
            "width": null
          }
        },
        "915b9fc8f65f489dab410cf0e6dd1efe": {
          "model_module": "@jupyter-widgets/controls",
          "model_name": "DescriptionStyleModel",
          "model_module_version": "1.5.0",
          "state": {
            "_model_module": "@jupyter-widgets/controls",
            "_model_module_version": "1.5.0",
            "_model_name": "DescriptionStyleModel",
            "_view_count": null,
            "_view_module": "@jupyter-widgets/base",
            "_view_module_version": "1.2.0",
            "_view_name": "StyleView",
            "description_width": ""
          }
        },
        "bfbb9c22afea42d683111dfcdbb2ca53": {
          "model_module": "@jupyter-widgets/base",
          "model_name": "LayoutModel",
          "model_module_version": "1.2.0",
          "state": {
            "_model_module": "@jupyter-widgets/base",
            "_model_module_version": "1.2.0",
            "_model_name": "LayoutModel",
            "_view_count": null,
            "_view_module": "@jupyter-widgets/base",
            "_view_module_version": "1.2.0",
            "_view_name": "LayoutView",
            "align_content": null,
            "align_items": null,
            "align_self": null,
            "border": null,
            "bottom": null,
            "display": null,
            "flex": null,
            "flex_flow": null,
            "grid_area": null,
            "grid_auto_columns": null,
            "grid_auto_flow": null,
            "grid_auto_rows": null,
            "grid_column": null,
            "grid_gap": null,
            "grid_row": null,
            "grid_template_areas": null,
            "grid_template_columns": null,
            "grid_template_rows": null,
            "height": null,
            "justify_content": null,
            "justify_items": null,
            "left": null,
            "margin": null,
            "max_height": null,
            "max_width": null,
            "min_height": null,
            "min_width": null,
            "object_fit": null,
            "object_position": null,
            "order": null,
            "overflow": null,
            "overflow_x": null,
            "overflow_y": null,
            "padding": null,
            "right": null,
            "top": null,
            "visibility": null,
            "width": null
          }
        },
        "81f447d0a95d45468bd855877dcdb75a": {
          "model_module": "@jupyter-widgets/controls",
          "model_name": "ProgressStyleModel",
          "model_module_version": "1.5.0",
          "state": {
            "_model_module": "@jupyter-widgets/controls",
            "_model_module_version": "1.5.0",
            "_model_name": "ProgressStyleModel",
            "_view_count": null,
            "_view_module": "@jupyter-widgets/base",
            "_view_module_version": "1.2.0",
            "_view_name": "StyleView",
            "bar_color": null,
            "description_width": ""
          }
        },
        "5fb6788151484a85be99db9fbdf335be": {
          "model_module": "@jupyter-widgets/base",
          "model_name": "LayoutModel",
          "model_module_version": "1.2.0",
          "state": {
            "_model_module": "@jupyter-widgets/base",
            "_model_module_version": "1.2.0",
            "_model_name": "LayoutModel",
            "_view_count": null,
            "_view_module": "@jupyter-widgets/base",
            "_view_module_version": "1.2.0",
            "_view_name": "LayoutView",
            "align_content": null,
            "align_items": null,
            "align_self": null,
            "border": null,
            "bottom": null,
            "display": null,
            "flex": null,
            "flex_flow": null,
            "grid_area": null,
            "grid_auto_columns": null,
            "grid_auto_flow": null,
            "grid_auto_rows": null,
            "grid_column": null,
            "grid_gap": null,
            "grid_row": null,
            "grid_template_areas": null,
            "grid_template_columns": null,
            "grid_template_rows": null,
            "height": null,
            "justify_content": null,
            "justify_items": null,
            "left": null,
            "margin": null,
            "max_height": null,
            "max_width": null,
            "min_height": null,
            "min_width": null,
            "object_fit": null,
            "object_position": null,
            "order": null,
            "overflow": null,
            "overflow_x": null,
            "overflow_y": null,
            "padding": null,
            "right": null,
            "top": null,
            "visibility": null,
            "width": null
          }
        },
        "2cd1d2b9b07641ffb2db893002232706": {
          "model_module": "@jupyter-widgets/controls",
          "model_name": "DescriptionStyleModel",
          "model_module_version": "1.5.0",
          "state": {
            "_model_module": "@jupyter-widgets/controls",
            "_model_module_version": "1.5.0",
            "_model_name": "DescriptionStyleModel",
            "_view_count": null,
            "_view_module": "@jupyter-widgets/base",
            "_view_module_version": "1.2.0",
            "_view_name": "StyleView",
            "description_width": ""
          }
        },
        "bdaaca3c83674893bdf42d0176a27796": {
          "model_module": "@jupyter-widgets/controls",
          "model_name": "HBoxModel",
          "model_module_version": "1.5.0",
          "state": {
            "_dom_classes": [],
            "_model_module": "@jupyter-widgets/controls",
            "_model_module_version": "1.5.0",
            "_model_name": "HBoxModel",
            "_view_count": null,
            "_view_module": "@jupyter-widgets/controls",
            "_view_module_version": "1.5.0",
            "_view_name": "HBoxView",
            "box_style": "",
            "children": [
              "IPY_MODEL_99f9eb9bfb144372aad90a6920c7613d",
              "IPY_MODEL_3f5f75018a204d80bb566db82b673b76",
              "IPY_MODEL_ab661a0cb3954c238f6ecbc9f62bfec6"
            ],
            "layout": "IPY_MODEL_4e1615d517aa42ae946ad164233cccdf"
          }
        },
        "99f9eb9bfb144372aad90a6920c7613d": {
          "model_module": "@jupyter-widgets/controls",
          "model_name": "HTMLModel",
          "model_module_version": "1.5.0",
          "state": {
            "_dom_classes": [],
            "_model_module": "@jupyter-widgets/controls",
            "_model_module_version": "1.5.0",
            "_model_name": "HTMLModel",
            "_view_count": null,
            "_view_module": "@jupyter-widgets/controls",
            "_view_module_version": "1.5.0",
            "_view_name": "HTMLView",
            "description": "",
            "description_tooltip": null,
            "layout": "IPY_MODEL_aa99b65312294bbaa2092e991534ee83",
            "placeholder": "​",
            "style": "IPY_MODEL_67861b5d04eb47bb89024e60c8505b11",
            "value": "Generating validation split: 100%"
          }
        },
        "3f5f75018a204d80bb566db82b673b76": {
          "model_module": "@jupyter-widgets/controls",
          "model_name": "FloatProgressModel",
          "model_module_version": "1.5.0",
          "state": {
            "_dom_classes": [],
            "_model_module": "@jupyter-widgets/controls",
            "_model_module_version": "1.5.0",
            "_model_name": "FloatProgressModel",
            "_view_count": null,
            "_view_module": "@jupyter-widgets/controls",
            "_view_module_version": "1.5.0",
            "_view_name": "ProgressView",
            "bar_style": "success",
            "description": "",
            "description_tooltip": null,
            "layout": "IPY_MODEL_6c91dfb60997466488022f1982571f2a",
            "max": 3760,
            "min": 0,
            "orientation": "horizontal",
            "style": "IPY_MODEL_3b201c16261c48d597ff9586e84a8215",
            "value": 3760
          }
        },
        "ab661a0cb3954c238f6ecbc9f62bfec6": {
          "model_module": "@jupyter-widgets/controls",
          "model_name": "HTMLModel",
          "model_module_version": "1.5.0",
          "state": {
            "_dom_classes": [],
            "_model_module": "@jupyter-widgets/controls",
            "_model_module_version": "1.5.0",
            "_model_name": "HTMLModel",
            "_view_count": null,
            "_view_module": "@jupyter-widgets/controls",
            "_view_module_version": "1.5.0",
            "_view_name": "HTMLView",
            "description": "",
            "description_tooltip": null,
            "layout": "IPY_MODEL_bd13e9bdc23743528bac96534c1bb6e6",
            "placeholder": "​",
            "style": "IPY_MODEL_131ed6a2eb1f4eba9f51649da6a8ec52",
            "value": " 3760/3760 [00:00&lt;00:00, 151140.30 examples/s]"
          }
        },
        "4e1615d517aa42ae946ad164233cccdf": {
          "model_module": "@jupyter-widgets/base",
          "model_name": "LayoutModel",
          "model_module_version": "1.2.0",
          "state": {
            "_model_module": "@jupyter-widgets/base",
            "_model_module_version": "1.2.0",
            "_model_name": "LayoutModel",
            "_view_count": null,
            "_view_module": "@jupyter-widgets/base",
            "_view_module_version": "1.2.0",
            "_view_name": "LayoutView",
            "align_content": null,
            "align_items": null,
            "align_self": null,
            "border": null,
            "bottom": null,
            "display": null,
            "flex": null,
            "flex_flow": null,
            "grid_area": null,
            "grid_auto_columns": null,
            "grid_auto_flow": null,
            "grid_auto_rows": null,
            "grid_column": null,
            "grid_gap": null,
            "grid_row": null,
            "grid_template_areas": null,
            "grid_template_columns": null,
            "grid_template_rows": null,
            "height": null,
            "justify_content": null,
            "justify_items": null,
            "left": null,
            "margin": null,
            "max_height": null,
            "max_width": null,
            "min_height": null,
            "min_width": null,
            "object_fit": null,
            "object_position": null,
            "order": null,
            "overflow": null,
            "overflow_x": null,
            "overflow_y": null,
            "padding": null,
            "right": null,
            "top": null,
            "visibility": null,
            "width": null
          }
        },
        "aa99b65312294bbaa2092e991534ee83": {
          "model_module": "@jupyter-widgets/base",
          "model_name": "LayoutModel",
          "model_module_version": "1.2.0",
          "state": {
            "_model_module": "@jupyter-widgets/base",
            "_model_module_version": "1.2.0",
            "_model_name": "LayoutModel",
            "_view_count": null,
            "_view_module": "@jupyter-widgets/base",
            "_view_module_version": "1.2.0",
            "_view_name": "LayoutView",
            "align_content": null,
            "align_items": null,
            "align_self": null,
            "border": null,
            "bottom": null,
            "display": null,
            "flex": null,
            "flex_flow": null,
            "grid_area": null,
            "grid_auto_columns": null,
            "grid_auto_flow": null,
            "grid_auto_rows": null,
            "grid_column": null,
            "grid_gap": null,
            "grid_row": null,
            "grid_template_areas": null,
            "grid_template_columns": null,
            "grid_template_rows": null,
            "height": null,
            "justify_content": null,
            "justify_items": null,
            "left": null,
            "margin": null,
            "max_height": null,
            "max_width": null,
            "min_height": null,
            "min_width": null,
            "object_fit": null,
            "object_position": null,
            "order": null,
            "overflow": null,
            "overflow_x": null,
            "overflow_y": null,
            "padding": null,
            "right": null,
            "top": null,
            "visibility": null,
            "width": null
          }
        },
        "67861b5d04eb47bb89024e60c8505b11": {
          "model_module": "@jupyter-widgets/controls",
          "model_name": "DescriptionStyleModel",
          "model_module_version": "1.5.0",
          "state": {
            "_model_module": "@jupyter-widgets/controls",
            "_model_module_version": "1.5.0",
            "_model_name": "DescriptionStyleModel",
            "_view_count": null,
            "_view_module": "@jupyter-widgets/base",
            "_view_module_version": "1.2.0",
            "_view_name": "StyleView",
            "description_width": ""
          }
        },
        "6c91dfb60997466488022f1982571f2a": {
          "model_module": "@jupyter-widgets/base",
          "model_name": "LayoutModel",
          "model_module_version": "1.2.0",
          "state": {
            "_model_module": "@jupyter-widgets/base",
            "_model_module_version": "1.2.0",
            "_model_name": "LayoutModel",
            "_view_count": null,
            "_view_module": "@jupyter-widgets/base",
            "_view_module_version": "1.2.0",
            "_view_name": "LayoutView",
            "align_content": null,
            "align_items": null,
            "align_self": null,
            "border": null,
            "bottom": null,
            "display": null,
            "flex": null,
            "flex_flow": null,
            "grid_area": null,
            "grid_auto_columns": null,
            "grid_auto_flow": null,
            "grid_auto_rows": null,
            "grid_column": null,
            "grid_gap": null,
            "grid_row": null,
            "grid_template_areas": null,
            "grid_template_columns": null,
            "grid_template_rows": null,
            "height": null,
            "justify_content": null,
            "justify_items": null,
            "left": null,
            "margin": null,
            "max_height": null,
            "max_width": null,
            "min_height": null,
            "min_width": null,
            "object_fit": null,
            "object_position": null,
            "order": null,
            "overflow": null,
            "overflow_x": null,
            "overflow_y": null,
            "padding": null,
            "right": null,
            "top": null,
            "visibility": null,
            "width": null
          }
        },
        "3b201c16261c48d597ff9586e84a8215": {
          "model_module": "@jupyter-widgets/controls",
          "model_name": "ProgressStyleModel",
          "model_module_version": "1.5.0",
          "state": {
            "_model_module": "@jupyter-widgets/controls",
            "_model_module_version": "1.5.0",
            "_model_name": "ProgressStyleModel",
            "_view_count": null,
            "_view_module": "@jupyter-widgets/base",
            "_view_module_version": "1.2.0",
            "_view_name": "StyleView",
            "bar_color": null,
            "description_width": ""
          }
        },
        "bd13e9bdc23743528bac96534c1bb6e6": {
          "model_module": "@jupyter-widgets/base",
          "model_name": "LayoutModel",
          "model_module_version": "1.2.0",
          "state": {
            "_model_module": "@jupyter-widgets/base",
            "_model_module_version": "1.2.0",
            "_model_name": "LayoutModel",
            "_view_count": null,
            "_view_module": "@jupyter-widgets/base",
            "_view_module_version": "1.2.0",
            "_view_name": "LayoutView",
            "align_content": null,
            "align_items": null,
            "align_self": null,
            "border": null,
            "bottom": null,
            "display": null,
            "flex": null,
            "flex_flow": null,
            "grid_area": null,
            "grid_auto_columns": null,
            "grid_auto_flow": null,
            "grid_auto_rows": null,
            "grid_column": null,
            "grid_gap": null,
            "grid_row": null,
            "grid_template_areas": null,
            "grid_template_columns": null,
            "grid_template_rows": null,
            "height": null,
            "justify_content": null,
            "justify_items": null,
            "left": null,
            "margin": null,
            "max_height": null,
            "max_width": null,
            "min_height": null,
            "min_width": null,
            "object_fit": null,
            "object_position": null,
            "order": null,
            "overflow": null,
            "overflow_x": null,
            "overflow_y": null,
            "padding": null,
            "right": null,
            "top": null,
            "visibility": null,
            "width": null
          }
        },
        "131ed6a2eb1f4eba9f51649da6a8ec52": {
          "model_module": "@jupyter-widgets/controls",
          "model_name": "DescriptionStyleModel",
          "model_module_version": "1.5.0",
          "state": {
            "_model_module": "@jupyter-widgets/controls",
            "_model_module_version": "1.5.0",
            "_model_name": "DescriptionStyleModel",
            "_view_count": null,
            "_view_module": "@jupyter-widgets/base",
            "_view_module_version": "1.2.0",
            "_view_name": "StyleView",
            "description_width": ""
          }
        }
      }
    }
  },
  "nbformat": 4,
  "nbformat_minor": 0
}